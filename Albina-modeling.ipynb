{
  "nbformat": 4,
  "nbformat_minor": 0,
  "metadata": {
    "colab": {
      "name": "Albina-modeling.ipynb",
      "provenance": [],
      "collapsed_sections": [
        "smcONqDPidvS",
        "FWCurx958vCB",
        "seCC_Ku6KM8m",
        "YNH3dxmfidvY",
        "hjSgmMkOWYqT",
        "Yv2RHYe2Bsx7",
        "03Yc9CarWhXz",
        "SmqALW4RWqRy",
        "D8iBnHdtV5oE"
      ]
    },
    "kernelspec": {
      "display_name": "Python 3",
      "language": "python",
      "name": "python3"
    },
    "language_info": {
      "codemirror_mode": {
        "name": "ipython",
        "version": 3
      },
      "file_extension": ".py",
      "mimetype": "text/x-python",
      "name": "python",
      "nbconvert_exporter": "python",
      "pygments_lexer": "ipython3",
      "version": "3.8.11"
    }
  },
  "cells": [
    {
      "cell_type": "markdown",
      "metadata": {
        "id": "OPcHtXqFidvD"
      },
      "source": [
        "# Machine Learning\n",
        "\n",
        "In this file, instructions how to approach the challenge can be found."
      ]
    },
    {
      "cell_type": "markdown",
      "metadata": {
        "id": "pvTRg4OEidvG"
      },
      "source": [
        "We are going to work on different types of Machine Learning problems:\n",
        "\n",
        "- **Regression Problem**: The goal is to predict delay of flights.\n",
        "- **(Stretch) Multiclass Classification**: If the plane was delayed, we will predict what type of delay it is (will be).\n",
        "- **(Stretch) Binary Classification**: The goal is to predict if the flight will be cancelled."
      ]
    },
    {
      "cell_type": "code",
      "metadata": {
        "id": "k7oY5_jCidvH"
      },
      "source": [
        ""
      ],
      "execution_count": null,
      "outputs": []
    },
    {
      "cell_type": "markdown",
      "metadata": {
        "id": "4IdX5uugidvI"
      },
      "source": [
        "## Main Task: Regression Problem"
      ]
    },
    {
      "cell_type": "markdown",
      "metadata": {
        "id": "z8BM3dCOidvJ"
      },
      "source": [
        "The target variable is **ARR_DELAY**. We need to be careful which columns to use and which don't. For example, DEP_DELAY is going to be the perfect predictor, but we can't use it because in real-life scenario, we want to predict the delay before the flight takes of --> We can use average delay from earlier days but not the one from the actual flight we predict.  \n",
        "\n",
        "For example, variables **CARRIER_DELAY, WEATHER_DELAY, NAS_DELAY, SECURITY_DELAY, LATE_AIRCRAFT_DELAY** shouldn't be used directly as predictors as well. However, we can create various transformations from earlier values.\n",
        "\n",
        "We will be evaluating your models by predicting the ARR_DELAY for all flights **1 week in advance**."
      ]
    },
    {
      "cell_type": "code",
      "metadata": {
        "colab": {
          "base_uri": "https://localhost:8080/"
        },
        "id": "__AOX_OridvK",
        "outputId": "c2a86707-bf34-4073-8a2f-7892e9665d32"
      },
      "source": [
        "import psycopg2\n",
        "import pandas as pd\n",
        "import numpy as np\n",
        "from scipy import stats\n",
        "import seaborn as sns\n",
        "import plotly.graph_objs as go\n",
        "import matplotlib.pyplot as plt\n",
        "conn = psycopg2.connect(database='mid_term_project',user='lhl_student',password='lhl_student', host='mid-term-project.ca2jkepgjpne.us-east-2.rds.amazonaws.com', port='5432')\n",
        "\n",
        "print('Connection opened successfully')"
      ],
      "execution_count": 3,
      "outputs": [
        {
          "output_type": "stream",
          "text": [
            "/usr/local/lib/python3.7/dist-packages/psycopg2/__init__.py:144: UserWarning: The psycopg2 wheel package will be renamed from release 2.8; in order to keep installing from binary please use \"pip install psycopg2-binary\" instead. For details see: <http://initd.org/psycopg/docs/install.html#binary-install-from-pypi>.\n",
            "  \"\"\")\n"
          ],
          "name": "stderr"
        },
        {
          "output_type": "stream",
          "text": [
            "Connection opened successfully\n"
          ],
          "name": "stdout"
        }
      ]
    },
    {
      "cell_type": "code",
      "metadata": {
        "id": "OMNSHUWkidvK"
      },
      "source": [
        "def postgresql_to_dataframe(conn, select_query, column_names):\n",
        "    \"\"\"\n",
        "    Tranform a SELECT query into a pandas dataframe\n",
        "    \"\"\"\n",
        "    cursor = conn.cursor()\n",
        "    try:\n",
        "        cursor.execute(select_query)\n",
        "    except (Exception, psycopg2.DatabaseError) as error:\n",
        "        print(\"Error: %s\" % error)\n",
        "        cursor.close()\n",
        "        return 1\n",
        "    \n",
        "    # Naturally we get a list of tupples\n",
        "    tupples = cursor.fetchall()\n",
        "    cursor.close()\n",
        "    \n",
        "    # We just need to turn it into a pandas dataframe\n",
        "    df = pd.DataFrame(tupples, columns=column_names)\n",
        "    return df"
      ],
      "execution_count": 4,
      "outputs": []
    },
    {
      "cell_type": "markdown",
      "metadata": {
        "id": "qJwC_iHfexhz"
      },
      "source": [
        "### Our goal is to predict delays of flights.\n",
        "## Table **flights**\n",
        "\n",
        "Features **X**:\n",
        "\n",
        "- **fl_date**: Flight Date (yyyy-mm-dd)\n",
        "- **mkt_carrier**: Code assigned by IATA and commonly used to identify a carrier. As the same code may have been assigned to different carriers over time, the code is not always unique. For analysis, use the Unique Carrier Code.\n",
        "- **mkt_carrier_fl_num**: Flight Number\n",
        "- **tail_num**: Tail Number\n",
        "- **op_carrier_fl_num**: Flight Number\n",
        "- **origin**: Origin Airport\n",
        "- **origin_city_name**: Origin Airport, City Name\n",
        "- **dest**: Destination Airport\n",
        "- **dest_city_name**: Destination Airport, City Name\n",
        "- **crs_dep_time**: CRS Departure Time (local time: hhmm)\n",
        "- **crs_arr_time**: CRS Arrival Time (local time: hhmm)\n",
        "- **dup**: Duplicate flag marked Y if the flight is swapped based on Form-3A data\n",
        "- **crs_elapsed_time**: CRS Elapsed Time of Flight, in Minutes\n",
        "- **flights**: Number of Flights\n",
        "- **distance**: Distance between airports (miles)\n",
        "\n",
        "Variable **Y**:\n",
        "- **arr_delay**: Difference in minutes between scheduled and actual arrival time. Early arrivals show negative numbers.\n",
        "\n",
        "\n",
        "\n"
      ]
    },
    {
      "cell_type": "code",
      "metadata": {
        "id": "GxzNMyORidvO"
      },
      "source": [
        "column_names = ['fl_date','mkt_carrier', 'mkt_carrier_fl_num','tail_num','op_carrier_fl_num','origin','origin_city_name','dest','dest_city_name','crs_dep_time','crs_arr_time','dup','crs_elapsed_time','flights','distance']\n",
        "df_flights = postgresql_to_dataframe(conn, 'SELECT fl_date, mkt_carrier, mkt_carrier_fl_num, tail_num, op_carrier_fl_num, origin, origin_city_name, dest, dest_city_name, crs_dep_time, crs_arr_time, dup, crs_elapsed_time, flights, distance from flights where cancelled = 0 and diverted = 0 limit 1000000;', column_names)\n",
        "df_flights.isnull().sum()"
      ],
      "execution_count": null,
      "outputs": []
    },
    {
      "cell_type": "code",
      "metadata": {
        "id": "DrRVcnbym7aP"
      },
      "source": [
        "column_names = ['fl_date','mkt_unique_carrier','op_unique_carrier','mkt_carrier_fl_num','tail_num','origin','origin_city_name','dest','dest_city_name','crs_dep_time','crs_arr_time','crs_elapsed_time','distance','arr_delay']\n",
        "df_flights = postgresql_to_dataframe(conn, 'SELECT fl_date,mkt_unique_carrier,op_unique_carrier,mkt_carrier_fl_num,tail_num,origin,origin_city_name,dest,dest_city_name,crs_dep_time,crs_arr_time,crs_elapsed_time,distance,arr_delay FROM flights WHERE cancelled = 0 and diverted = 0 LIMIT 1000000', column_names)"
      ],
      "execution_count": null,
      "outputs": []
    },
    {
      "cell_type": "code",
      "metadata": {
        "id": "Dm1-xYyMXesQ"
      },
      "source": [
        "column_names = ['mkt_carrier', 'mkt_carrier_fl_num','mkt_unique_carrier','op_unique_carrier','op_carrier_fl_num','flights']\n",
        "carriers = postgresql_to_dataframe(conn, 'SELECT mkt_carrier,mkt_carrier_fl_num, mkt_unique_carrier, op_unique_carrier, op_carrier_fl_num, flights from flights where cancelled = 0 and diverted = 0 LIMIT 1000000 ;', column_names)\n",
        "carriers"
      ],
      "execution_count": null,
      "outputs": []
    },
    {
      "cell_type": "code",
      "metadata": {
        "id": "AmuZGDV9Zti2"
      },
      "source": [
        "carriers['mkt_unique_carrier'].value_counts()"
      ],
      "execution_count": null,
      "outputs": []
    },
    {
      "cell_type": "code",
      "metadata": {
        "id": "_oKo61DvZ2Ct"
      },
      "source": [
        "carriers['mkt_carrier'].value_counts()"
      ],
      "execution_count": null,
      "outputs": []
    },
    {
      "cell_type": "markdown",
      "metadata": {
        "id": "tSF977rioAs1"
      },
      "source": [
        ""
      ]
    },
    {
      "cell_type": "markdown",
      "metadata": {
        "id": "smcONqDPidvS"
      },
      "source": [
        "### Feature Engineering"
      ]
    },
    {
      "cell_type": "markdown",
      "metadata": {
        "id": "LxGaPA0ZidvT"
      },
      "source": [
        "Feature engineering will play a crucial role in this problems. We have only very little attributes so we need to create some features that will have some predictive power.\n",
        "\n",
        "- weather: we can use some weather API to look for the weather in time of the scheduled departure and scheduled arrival.\n",
        "- statistics (avg, mean, median, std, min, max...): we can take a look at previous delays and compute descriptive statistics\n",
        "- airports encoding: we need to think about what to do with the airports and other categorical variables\n",
        "- time of the day: the delay probably depends on the airport traffic which varies during the day.\n",
        "- airport traffic\n",
        "- unsupervised learning as feature engineering?\n",
        "- **what are the additional options?**: Think about what we could do more to improve the model."
      ]
    },
    {
      "cell_type": "code",
      "metadata": {
        "colab": {
          "base_uri": "https://localhost:8080/",
          "height": 80
        },
        "id": "zonti7WVoNMa",
        "outputId": "aaff16c2-c41f-48ba-952d-2da2caa57be0"
      },
      "source": [
        "column_names = ['dup','count_dup']\n",
        "postgresql_to_dataframe(conn,'select dup, count(dup) from flights group by dup',column_names)\n"
      ],
      "execution_count": null,
      "outputs": [
        {
          "data": {
            "text/html": [
              "<div>\n",
              "<style scoped>\n",
              "    .dataframe tbody tr th:only-of-type {\n",
              "        vertical-align: middle;\n",
              "    }\n",
              "\n",
              "    .dataframe tbody tr th {\n",
              "        vertical-align: top;\n",
              "    }\n",
              "\n",
              "    .dataframe thead th {\n",
              "        text-align: right;\n",
              "    }\n",
              "</style>\n",
              "<table border=\"1\" class=\"dataframe\">\n",
              "  <thead>\n",
              "    <tr style=\"text-align: right;\">\n",
              "      <th></th>\n",
              "      <th>dup</th>\n",
              "      <th>count_dup</th>\n",
              "    </tr>\n",
              "  </thead>\n",
              "  <tbody>\n",
              "    <tr>\n",
              "      <th>0</th>\n",
              "      <td>N</td>\n",
              "      <td>15927485</td>\n",
              "    </tr>\n",
              "  </tbody>\n",
              "</table>\n",
              "</div>"
            ],
            "text/plain": [
              "  dup  count_dup\n",
              "0   N   15927485"
            ]
          },
          "execution_count": 3,
          "metadata": {},
          "output_type": "execute_result"
        }
      ]
    },
    {
      "cell_type": "code",
      "metadata": {
        "colab": {
          "base_uri": "https://localhost:8080/"
        },
        "id": "lBgfJShJrjEF",
        "outputId": "b1bf6de7-3aef-4397-a94f-aac7156a8754"
      },
      "source": [
        "from google.colab import drive\n",
        "drive.mount('/content/drive/')"
      ],
      "execution_count": null,
      "outputs": [
        {
          "name": "stdout",
          "output_type": "stream",
          "text": [
            "Mounted at /content/drive/\n"
          ]
        }
      ]
    },
    {
      "cell_type": "code",
      "metadata": {
        "id": "nxJJlWXnt7iG"
      },
      "source": [
        "df_flights = pd.read_csv('drive/MyDrive/training_data.csv')"
      ],
      "execution_count": null,
      "outputs": []
    },
    {
      "cell_type": "code",
      "metadata": {
        "colab": {
          "base_uri": "https://localhost:8080/",
          "height": 204
        },
        "id": "qJrELqmJwcMS",
        "outputId": "601480ae-6b42-4d8b-e749-81cffcd9dda9"
      },
      "source": [
        "df_flights.head()"
      ],
      "execution_count": null,
      "outputs": [
        {
          "data": {
            "text/html": [
              "<div>\n",
              "<style scoped>\n",
              "    .dataframe tbody tr th:only-of-type {\n",
              "        vertical-align: middle;\n",
              "    }\n",
              "\n",
              "    .dataframe tbody tr th {\n",
              "        vertical-align: top;\n",
              "    }\n",
              "\n",
              "    .dataframe thead th {\n",
              "        text-align: right;\n",
              "    }\n",
              "</style>\n",
              "<table border=\"1\" class=\"dataframe\">\n",
              "  <thead>\n",
              "    <tr style=\"text-align: right;\">\n",
              "      <th></th>\n",
              "      <th>fl_date</th>\n",
              "      <th>mkt_unique_carrier</th>\n",
              "      <th>op_unique_carrier</th>\n",
              "      <th>mkt_carrier_fl_num</th>\n",
              "      <th>tail_num</th>\n",
              "      <th>origin</th>\n",
              "      <th>origin_city_name</th>\n",
              "      <th>dest</th>\n",
              "      <th>dest_city_name</th>\n",
              "      <th>crs_dep_time</th>\n",
              "      <th>crs_arr_time</th>\n",
              "      <th>crs_elapsed_time</th>\n",
              "      <th>distance</th>\n",
              "      <th>arr_delay</th>\n",
              "    </tr>\n",
              "  </thead>\n",
              "  <tbody>\n",
              "    <tr>\n",
              "      <th>0</th>\n",
              "      <td>2019-06-03</td>\n",
              "      <td>WN</td>\n",
              "      <td>WN</td>\n",
              "      <td>510</td>\n",
              "      <td>N8639B</td>\n",
              "      <td>BDL</td>\n",
              "      <td>Hartford, CT</td>\n",
              "      <td>DEN</td>\n",
              "      <td>Denver, CO</td>\n",
              "      <td>1640</td>\n",
              "      <td>1905</td>\n",
              "      <td>265.0</td>\n",
              "      <td>1671.0</td>\n",
              "      <td>36.0</td>\n",
              "    </tr>\n",
              "    <tr>\n",
              "      <th>1</th>\n",
              "      <td>2019-07-25</td>\n",
              "      <td>AA</td>\n",
              "      <td>AA</td>\n",
              "      <td>12</td>\n",
              "      <td>N923NN</td>\n",
              "      <td>DFW</td>\n",
              "      <td>Dallas/Fort Worth, TX</td>\n",
              "      <td>JAX</td>\n",
              "      <td>Jacksonville, FL</td>\n",
              "      <td>1509</td>\n",
              "      <td>1830</td>\n",
              "      <td>141.0</td>\n",
              "      <td>918.0</td>\n",
              "      <td>32.0</td>\n",
              "    </tr>\n",
              "    <tr>\n",
              "      <th>2</th>\n",
              "      <td>2019-08-11</td>\n",
              "      <td>WN</td>\n",
              "      <td>WN</td>\n",
              "      <td>4462</td>\n",
              "      <td>N8552Z</td>\n",
              "      <td>MDW</td>\n",
              "      <td>Chicago, IL</td>\n",
              "      <td>PVD</td>\n",
              "      <td>Providence, RI</td>\n",
              "      <td>2215</td>\n",
              "      <td>125</td>\n",
              "      <td>130.0</td>\n",
              "      <td>842.0</td>\n",
              "      <td>-17.0</td>\n",
              "    </tr>\n",
              "    <tr>\n",
              "      <th>3</th>\n",
              "      <td>2018-01-29</td>\n",
              "      <td>AA</td>\n",
              "      <td>MQ</td>\n",
              "      <td>3652</td>\n",
              "      <td>N508AE</td>\n",
              "      <td>ORD</td>\n",
              "      <td>Chicago, IL</td>\n",
              "      <td>RAP</td>\n",
              "      <td>Rapid City, SD</td>\n",
              "      <td>1007</td>\n",
              "      <td>1135</td>\n",
              "      <td>148.0</td>\n",
              "      <td>779.0</td>\n",
              "      <td>5.0</td>\n",
              "    </tr>\n",
              "    <tr>\n",
              "      <th>4</th>\n",
              "      <td>2018-02-18</td>\n",
              "      <td>AS</td>\n",
              "      <td>AS</td>\n",
              "      <td>9</td>\n",
              "      <td>N462AS</td>\n",
              "      <td>MCO</td>\n",
              "      <td>Orlando, FL</td>\n",
              "      <td>SEA</td>\n",
              "      <td>Seattle, WA</td>\n",
              "      <td>700</td>\n",
              "      <td>1040</td>\n",
              "      <td>400.0</td>\n",
              "      <td>2554.0</td>\n",
              "      <td>-22.0</td>\n",
              "    </tr>\n",
              "  </tbody>\n",
              "</table>\n",
              "</div>"
            ],
            "text/plain": [
              "      fl_date mkt_unique_carrier  ... distance  arr_delay\n",
              "0  2019-06-03                 WN  ...   1671.0       36.0\n",
              "1  2019-07-25                 AA  ...    918.0       32.0\n",
              "2  2019-08-11                 WN  ...    842.0      -17.0\n",
              "3  2018-01-29                 AA  ...    779.0        5.0\n",
              "4  2018-02-18                 AS  ...   2554.0      -22.0\n",
              "\n",
              "[5 rows x 14 columns]"
            ]
          },
          "execution_count": 5,
          "metadata": {},
          "output_type": "execute_result"
        }
      ]
    },
    {
      "cell_type": "code",
      "metadata": {
        "colab": {
          "base_uri": "https://localhost:8080/",
          "height": 308
        },
        "id": "HQVnJDv-idvR",
        "outputId": "f83cb1af-d334-46d6-ceaa-ab50849fb762"
      },
      "source": [
        "import datetime as dt\n",
        "df_flights['year'] = pd.DatetimeIndex(df_flights['fl_date']).year\n",
        "df_flights['month'] = pd.DatetimeIndex(df_flights['fl_date']).month\n",
        "df_flights['day'] = pd.DatetimeIndex(df_flights['fl_date']).day\n",
        "df_flights['week'] = pd.to_datetime(df_flights['fl_date']).dt.isocalendar().week\n",
        "df_flights['crs_dep_hour'] = (df_flights['crs_dep_time'] // 100)\n",
        "df_flights['crs_arr_hour'] = (df_flights['crs_arr_time'] // 100)\n",
        "\n",
        "df_flights.head()"
      ],
      "execution_count": null,
      "outputs": [
        {
          "data": {
            "text/html": [
              "<div>\n",
              "<style scoped>\n",
              "    .dataframe tbody tr th:only-of-type {\n",
              "        vertical-align: middle;\n",
              "    }\n",
              "\n",
              "    .dataframe tbody tr th {\n",
              "        vertical-align: top;\n",
              "    }\n",
              "\n",
              "    .dataframe thead th {\n",
              "        text-align: right;\n",
              "    }\n",
              "</style>\n",
              "<table border=\"1\" class=\"dataframe\">\n",
              "  <thead>\n",
              "    <tr style=\"text-align: right;\">\n",
              "      <th></th>\n",
              "      <th>fl_date</th>\n",
              "      <th>mkt_unique_carrier</th>\n",
              "      <th>op_unique_carrier</th>\n",
              "      <th>mkt_carrier_fl_num</th>\n",
              "      <th>tail_num</th>\n",
              "      <th>origin</th>\n",
              "      <th>origin_city_name</th>\n",
              "      <th>dest</th>\n",
              "      <th>dest_city_name</th>\n",
              "      <th>crs_dep_time</th>\n",
              "      <th>crs_arr_time</th>\n",
              "      <th>crs_elapsed_time</th>\n",
              "      <th>distance</th>\n",
              "      <th>arr_delay</th>\n",
              "      <th>year</th>\n",
              "      <th>month</th>\n",
              "      <th>day</th>\n",
              "      <th>week</th>\n",
              "      <th>crs_dep_hour</th>\n",
              "      <th>crs_arr_hour</th>\n",
              "    </tr>\n",
              "  </thead>\n",
              "  <tbody>\n",
              "    <tr>\n",
              "      <th>0</th>\n",
              "      <td>2019-06-03</td>\n",
              "      <td>WN</td>\n",
              "      <td>WN</td>\n",
              "      <td>510</td>\n",
              "      <td>N8639B</td>\n",
              "      <td>BDL</td>\n",
              "      <td>Hartford, CT</td>\n",
              "      <td>DEN</td>\n",
              "      <td>Denver, CO</td>\n",
              "      <td>1640</td>\n",
              "      <td>1905</td>\n",
              "      <td>265.0</td>\n",
              "      <td>1671.0</td>\n",
              "      <td>36.0</td>\n",
              "      <td>2019</td>\n",
              "      <td>6</td>\n",
              "      <td>3</td>\n",
              "      <td>23</td>\n",
              "      <td>16</td>\n",
              "      <td>19</td>\n",
              "    </tr>\n",
              "    <tr>\n",
              "      <th>1</th>\n",
              "      <td>2019-07-25</td>\n",
              "      <td>AA</td>\n",
              "      <td>AA</td>\n",
              "      <td>12</td>\n",
              "      <td>N923NN</td>\n",
              "      <td>DFW</td>\n",
              "      <td>Dallas/Fort Worth, TX</td>\n",
              "      <td>JAX</td>\n",
              "      <td>Jacksonville, FL</td>\n",
              "      <td>1509</td>\n",
              "      <td>1830</td>\n",
              "      <td>141.0</td>\n",
              "      <td>918.0</td>\n",
              "      <td>32.0</td>\n",
              "      <td>2019</td>\n",
              "      <td>7</td>\n",
              "      <td>25</td>\n",
              "      <td>30</td>\n",
              "      <td>15</td>\n",
              "      <td>18</td>\n",
              "    </tr>\n",
              "    <tr>\n",
              "      <th>2</th>\n",
              "      <td>2019-08-11</td>\n",
              "      <td>WN</td>\n",
              "      <td>WN</td>\n",
              "      <td>4462</td>\n",
              "      <td>N8552Z</td>\n",
              "      <td>MDW</td>\n",
              "      <td>Chicago, IL</td>\n",
              "      <td>PVD</td>\n",
              "      <td>Providence, RI</td>\n",
              "      <td>2215</td>\n",
              "      <td>125</td>\n",
              "      <td>130.0</td>\n",
              "      <td>842.0</td>\n",
              "      <td>-17.0</td>\n",
              "      <td>2019</td>\n",
              "      <td>8</td>\n",
              "      <td>11</td>\n",
              "      <td>32</td>\n",
              "      <td>22</td>\n",
              "      <td>1</td>\n",
              "    </tr>\n",
              "    <tr>\n",
              "      <th>3</th>\n",
              "      <td>2018-01-29</td>\n",
              "      <td>AA</td>\n",
              "      <td>MQ</td>\n",
              "      <td>3652</td>\n",
              "      <td>N508AE</td>\n",
              "      <td>ORD</td>\n",
              "      <td>Chicago, IL</td>\n",
              "      <td>RAP</td>\n",
              "      <td>Rapid City, SD</td>\n",
              "      <td>1007</td>\n",
              "      <td>1135</td>\n",
              "      <td>148.0</td>\n",
              "      <td>779.0</td>\n",
              "      <td>5.0</td>\n",
              "      <td>2018</td>\n",
              "      <td>1</td>\n",
              "      <td>29</td>\n",
              "      <td>5</td>\n",
              "      <td>10</td>\n",
              "      <td>11</td>\n",
              "    </tr>\n",
              "    <tr>\n",
              "      <th>4</th>\n",
              "      <td>2018-02-18</td>\n",
              "      <td>AS</td>\n",
              "      <td>AS</td>\n",
              "      <td>9</td>\n",
              "      <td>N462AS</td>\n",
              "      <td>MCO</td>\n",
              "      <td>Orlando, FL</td>\n",
              "      <td>SEA</td>\n",
              "      <td>Seattle, WA</td>\n",
              "      <td>700</td>\n",
              "      <td>1040</td>\n",
              "      <td>400.0</td>\n",
              "      <td>2554.0</td>\n",
              "      <td>-22.0</td>\n",
              "      <td>2018</td>\n",
              "      <td>2</td>\n",
              "      <td>18</td>\n",
              "      <td>7</td>\n",
              "      <td>7</td>\n",
              "      <td>10</td>\n",
              "    </tr>\n",
              "  </tbody>\n",
              "</table>\n",
              "</div>"
            ],
            "text/plain": [
              "      fl_date mkt_unique_carrier  ... crs_dep_hour  crs_arr_hour\n",
              "0  2019-06-03                 WN  ...           16            19\n",
              "1  2019-07-25                 AA  ...           15            18\n",
              "2  2019-08-11                 WN  ...           22             1\n",
              "3  2018-01-29                 AA  ...           10            11\n",
              "4  2018-02-18                 AS  ...            7            10\n",
              "\n",
              "[5 rows x 20 columns]"
            ]
          },
          "execution_count": 6,
          "metadata": {},
          "output_type": "execute_result"
        }
      ]
    },
    {
      "cell_type": "code",
      "metadata": {
        "colab": {
          "base_uri": "https://localhost:8080/"
        },
        "id": "mwg_B57NqgkX",
        "outputId": "1aeb15ce-a8cf-4108-f3f1-8b3e0d321e11"
      },
      "source": [
        "#df_flights = pd.concat([df_flights, pd.get_dummies(df_flights['dup'], prefix = 'dup')], axis = 1)\n",
        "#df_flights['dup'].value_counts()\n",
        "df_flights.shape"
      ],
      "execution_count": null,
      "outputs": [
        {
          "data": {
            "text/plain": [
              "(5000000, 20)"
            ]
          },
          "execution_count": 7,
          "metadata": {},
          "output_type": "execute_result"
        }
      ]
    },
    {
      "cell_type": "markdown",
      "metadata": {
        "id": "WyfWL_JU7JQD"
      },
      "source": [
        "Define haul lengths"
      ]
    },
    {
      "cell_type": "code",
      "metadata": {
        "colab": {
          "base_uri": "https://localhost:8080/",
          "height": 326
        },
        "id": "fMdpvFB259t6",
        "outputId": "bf690607-61cb-4665-ad47-489609cbfafc"
      },
      "source": [
        "#short = 0, medium = 1, long = 2\n",
        "df_flights['flight_length'] = np.select (\n",
        "    [ \n",
        "     (df_flights['distance'] < 800),\n",
        "     (df_flights['distance'].between(800, 2200, inclusive=False)),\n",
        "     (df_flights['distance'] >=2200)\n",
        "    ], \n",
        "    [\n",
        "     'short',\n",
        "     'medium',\n",
        "     'long'\n",
        "    ]\n",
        "                                    )\n",
        "df_flights = pd.concat([df_flights,pd.get_dummies(df_flights['flight_length'], prefix = 'flight_haul')], axis = 1)\n",
        "print(df_flights.shape)\n",
        "df_flights.head()"
      ],
      "execution_count": null,
      "outputs": [
        {
          "name": "stdout",
          "output_type": "stream",
          "text": [
            "(5000000, 24)\n"
          ]
        },
        {
          "data": {
            "text/html": [
              "<div>\n",
              "<style scoped>\n",
              "    .dataframe tbody tr th:only-of-type {\n",
              "        vertical-align: middle;\n",
              "    }\n",
              "\n",
              "    .dataframe tbody tr th {\n",
              "        vertical-align: top;\n",
              "    }\n",
              "\n",
              "    .dataframe thead th {\n",
              "        text-align: right;\n",
              "    }\n",
              "</style>\n",
              "<table border=\"1\" class=\"dataframe\">\n",
              "  <thead>\n",
              "    <tr style=\"text-align: right;\">\n",
              "      <th></th>\n",
              "      <th>fl_date</th>\n",
              "      <th>mkt_unique_carrier</th>\n",
              "      <th>op_unique_carrier</th>\n",
              "      <th>mkt_carrier_fl_num</th>\n",
              "      <th>tail_num</th>\n",
              "      <th>origin</th>\n",
              "      <th>origin_city_name</th>\n",
              "      <th>dest</th>\n",
              "      <th>dest_city_name</th>\n",
              "      <th>crs_dep_time</th>\n",
              "      <th>crs_arr_time</th>\n",
              "      <th>crs_elapsed_time</th>\n",
              "      <th>distance</th>\n",
              "      <th>arr_delay</th>\n",
              "      <th>year</th>\n",
              "      <th>month</th>\n",
              "      <th>day</th>\n",
              "      <th>week</th>\n",
              "      <th>crs_dep_hour</th>\n",
              "      <th>crs_arr_hour</th>\n",
              "      <th>flight_length</th>\n",
              "      <th>flight_haul_long</th>\n",
              "      <th>flight_haul_medium</th>\n",
              "      <th>flight_haul_short</th>\n",
              "    </tr>\n",
              "  </thead>\n",
              "  <tbody>\n",
              "    <tr>\n",
              "      <th>0</th>\n",
              "      <td>2019-06-03</td>\n",
              "      <td>WN</td>\n",
              "      <td>WN</td>\n",
              "      <td>510</td>\n",
              "      <td>N8639B</td>\n",
              "      <td>BDL</td>\n",
              "      <td>Hartford, CT</td>\n",
              "      <td>DEN</td>\n",
              "      <td>Denver, CO</td>\n",
              "      <td>1640</td>\n",
              "      <td>1905</td>\n",
              "      <td>265.0</td>\n",
              "      <td>1671.0</td>\n",
              "      <td>36.0</td>\n",
              "      <td>2019</td>\n",
              "      <td>6</td>\n",
              "      <td>3</td>\n",
              "      <td>23</td>\n",
              "      <td>16</td>\n",
              "      <td>19</td>\n",
              "      <td>medium</td>\n",
              "      <td>0</td>\n",
              "      <td>1</td>\n",
              "      <td>0</td>\n",
              "    </tr>\n",
              "    <tr>\n",
              "      <th>1</th>\n",
              "      <td>2019-07-25</td>\n",
              "      <td>AA</td>\n",
              "      <td>AA</td>\n",
              "      <td>12</td>\n",
              "      <td>N923NN</td>\n",
              "      <td>DFW</td>\n",
              "      <td>Dallas/Fort Worth, TX</td>\n",
              "      <td>JAX</td>\n",
              "      <td>Jacksonville, FL</td>\n",
              "      <td>1509</td>\n",
              "      <td>1830</td>\n",
              "      <td>141.0</td>\n",
              "      <td>918.0</td>\n",
              "      <td>32.0</td>\n",
              "      <td>2019</td>\n",
              "      <td>7</td>\n",
              "      <td>25</td>\n",
              "      <td>30</td>\n",
              "      <td>15</td>\n",
              "      <td>18</td>\n",
              "      <td>medium</td>\n",
              "      <td>0</td>\n",
              "      <td>1</td>\n",
              "      <td>0</td>\n",
              "    </tr>\n",
              "    <tr>\n",
              "      <th>2</th>\n",
              "      <td>2019-08-11</td>\n",
              "      <td>WN</td>\n",
              "      <td>WN</td>\n",
              "      <td>4462</td>\n",
              "      <td>N8552Z</td>\n",
              "      <td>MDW</td>\n",
              "      <td>Chicago, IL</td>\n",
              "      <td>PVD</td>\n",
              "      <td>Providence, RI</td>\n",
              "      <td>2215</td>\n",
              "      <td>125</td>\n",
              "      <td>130.0</td>\n",
              "      <td>842.0</td>\n",
              "      <td>-17.0</td>\n",
              "      <td>2019</td>\n",
              "      <td>8</td>\n",
              "      <td>11</td>\n",
              "      <td>32</td>\n",
              "      <td>22</td>\n",
              "      <td>1</td>\n",
              "      <td>medium</td>\n",
              "      <td>0</td>\n",
              "      <td>1</td>\n",
              "      <td>0</td>\n",
              "    </tr>\n",
              "    <tr>\n",
              "      <th>3</th>\n",
              "      <td>2018-01-29</td>\n",
              "      <td>AA</td>\n",
              "      <td>MQ</td>\n",
              "      <td>3652</td>\n",
              "      <td>N508AE</td>\n",
              "      <td>ORD</td>\n",
              "      <td>Chicago, IL</td>\n",
              "      <td>RAP</td>\n",
              "      <td>Rapid City, SD</td>\n",
              "      <td>1007</td>\n",
              "      <td>1135</td>\n",
              "      <td>148.0</td>\n",
              "      <td>779.0</td>\n",
              "      <td>5.0</td>\n",
              "      <td>2018</td>\n",
              "      <td>1</td>\n",
              "      <td>29</td>\n",
              "      <td>5</td>\n",
              "      <td>10</td>\n",
              "      <td>11</td>\n",
              "      <td>short</td>\n",
              "      <td>0</td>\n",
              "      <td>0</td>\n",
              "      <td>1</td>\n",
              "    </tr>\n",
              "    <tr>\n",
              "      <th>4</th>\n",
              "      <td>2018-02-18</td>\n",
              "      <td>AS</td>\n",
              "      <td>AS</td>\n",
              "      <td>9</td>\n",
              "      <td>N462AS</td>\n",
              "      <td>MCO</td>\n",
              "      <td>Orlando, FL</td>\n",
              "      <td>SEA</td>\n",
              "      <td>Seattle, WA</td>\n",
              "      <td>700</td>\n",
              "      <td>1040</td>\n",
              "      <td>400.0</td>\n",
              "      <td>2554.0</td>\n",
              "      <td>-22.0</td>\n",
              "      <td>2018</td>\n",
              "      <td>2</td>\n",
              "      <td>18</td>\n",
              "      <td>7</td>\n",
              "      <td>7</td>\n",
              "      <td>10</td>\n",
              "      <td>long</td>\n",
              "      <td>1</td>\n",
              "      <td>0</td>\n",
              "      <td>0</td>\n",
              "    </tr>\n",
              "  </tbody>\n",
              "</table>\n",
              "</div>"
            ],
            "text/plain": [
              "      fl_date mkt_unique_carrier  ... flight_haul_medium  flight_haul_short\n",
              "0  2019-06-03                 WN  ...                  1                  0\n",
              "1  2019-07-25                 AA  ...                  1                  0\n",
              "2  2019-08-11                 WN  ...                  1                  0\n",
              "3  2018-01-29                 AA  ...                  0                  1\n",
              "4  2018-02-18                 AS  ...                  0                  0\n",
              "\n",
              "[5 rows x 24 columns]"
            ]
          },
          "execution_count": 8,
          "metadata": {},
          "output_type": "execute_result"
        }
      ]
    },
    {
      "cell_type": "code",
      "metadata": {
        "colab": {
          "base_uri": "https://localhost:8080/",
          "height": 624
        },
        "id": "60LPL_wA9iX-",
        "outputId": "9872987f-900b-4c3e-920e-941e94aa1284"
      },
      "source": [
        "df_flights[~(df_flights['mkt_unique_carrier'] == df_flights['op_unique_carrier'])]"
      ],
      "execution_count": null,
      "outputs": [
        {
          "data": {
            "text/html": [
              "<div>\n",
              "<style scoped>\n",
              "    .dataframe tbody tr th:only-of-type {\n",
              "        vertical-align: middle;\n",
              "    }\n",
              "\n",
              "    .dataframe tbody tr th {\n",
              "        vertical-align: top;\n",
              "    }\n",
              "\n",
              "    .dataframe thead th {\n",
              "        text-align: right;\n",
              "    }\n",
              "</style>\n",
              "<table border=\"1\" class=\"dataframe\">\n",
              "  <thead>\n",
              "    <tr style=\"text-align: right;\">\n",
              "      <th></th>\n",
              "      <th>fl_date</th>\n",
              "      <th>mkt_unique_carrier</th>\n",
              "      <th>op_unique_carrier</th>\n",
              "      <th>mkt_carrier_fl_num</th>\n",
              "      <th>tail_num</th>\n",
              "      <th>origin</th>\n",
              "      <th>origin_city_name</th>\n",
              "      <th>dest</th>\n",
              "      <th>dest_city_name</th>\n",
              "      <th>crs_dep_time</th>\n",
              "      <th>crs_arr_time</th>\n",
              "      <th>crs_elapsed_time</th>\n",
              "      <th>distance</th>\n",
              "      <th>arr_delay</th>\n",
              "      <th>year</th>\n",
              "      <th>month</th>\n",
              "      <th>day</th>\n",
              "      <th>week</th>\n",
              "      <th>crs_dep_hour</th>\n",
              "      <th>crs_arr_hour</th>\n",
              "      <th>flight_length</th>\n",
              "      <th>flight_haul_long</th>\n",
              "      <th>flight_haul_medium</th>\n",
              "      <th>flight_haul_short</th>\n",
              "    </tr>\n",
              "  </thead>\n",
              "  <tbody>\n",
              "    <tr>\n",
              "      <th>3</th>\n",
              "      <td>2018-01-29</td>\n",
              "      <td>AA</td>\n",
              "      <td>MQ</td>\n",
              "      <td>3652</td>\n",
              "      <td>N508AE</td>\n",
              "      <td>ORD</td>\n",
              "      <td>Chicago, IL</td>\n",
              "      <td>RAP</td>\n",
              "      <td>Rapid City, SD</td>\n",
              "      <td>1007</td>\n",
              "      <td>1135</td>\n",
              "      <td>148.0</td>\n",
              "      <td>779.0</td>\n",
              "      <td>5.0</td>\n",
              "      <td>2018</td>\n",
              "      <td>1</td>\n",
              "      <td>29</td>\n",
              "      <td>5</td>\n",
              "      <td>10</td>\n",
              "      <td>11</td>\n",
              "      <td>short</td>\n",
              "      <td>0</td>\n",
              "      <td>0</td>\n",
              "      <td>1</td>\n",
              "    </tr>\n",
              "    <tr>\n",
              "      <th>7</th>\n",
              "      <td>2019-05-08</td>\n",
              "      <td>UA</td>\n",
              "      <td>EV</td>\n",
              "      <td>4377</td>\n",
              "      <td>N14105</td>\n",
              "      <td>EWR</td>\n",
              "      <td>Newark, NJ</td>\n",
              "      <td>JAX</td>\n",
              "      <td>Jacksonville, FL</td>\n",
              "      <td>1545</td>\n",
              "      <td>1822</td>\n",
              "      <td>157.0</td>\n",
              "      <td>820.0</td>\n",
              "      <td>8.0</td>\n",
              "      <td>2019</td>\n",
              "      <td>5</td>\n",
              "      <td>8</td>\n",
              "      <td>19</td>\n",
              "      <td>15</td>\n",
              "      <td>18</td>\n",
              "      <td>medium</td>\n",
              "      <td>0</td>\n",
              "      <td>1</td>\n",
              "      <td>0</td>\n",
              "    </tr>\n",
              "    <tr>\n",
              "      <th>8</th>\n",
              "      <td>2019-03-11</td>\n",
              "      <td>DL</td>\n",
              "      <td>OO</td>\n",
              "      <td>4314</td>\n",
              "      <td>N878AS</td>\n",
              "      <td>SWF</td>\n",
              "      <td>Newburgh/Poughkeepsie, NY</td>\n",
              "      <td>DTW</td>\n",
              "      <td>Detroit, MI</td>\n",
              "      <td>1747</td>\n",
              "      <td>1939</td>\n",
              "      <td>112.0</td>\n",
              "      <td>479.0</td>\n",
              "      <td>-2.0</td>\n",
              "      <td>2019</td>\n",
              "      <td>3</td>\n",
              "      <td>11</td>\n",
              "      <td>11</td>\n",
              "      <td>17</td>\n",
              "      <td>19</td>\n",
              "      <td>short</td>\n",
              "      <td>0</td>\n",
              "      <td>0</td>\n",
              "      <td>1</td>\n",
              "    </tr>\n",
              "    <tr>\n",
              "      <th>9</th>\n",
              "      <td>2019-05-18</td>\n",
              "      <td>UA</td>\n",
              "      <td>AX</td>\n",
              "      <td>4785</td>\n",
              "      <td>N17146</td>\n",
              "      <td>ISN</td>\n",
              "      <td>Williston, ND</td>\n",
              "      <td>DEN</td>\n",
              "      <td>Denver, CO</td>\n",
              "      <td>1655</td>\n",
              "      <td>1758</td>\n",
              "      <td>123.0</td>\n",
              "      <td>576.0</td>\n",
              "      <td>3.0</td>\n",
              "      <td>2019</td>\n",
              "      <td>5</td>\n",
              "      <td>18</td>\n",
              "      <td>20</td>\n",
              "      <td>16</td>\n",
              "      <td>17</td>\n",
              "      <td>short</td>\n",
              "      <td>0</td>\n",
              "      <td>0</td>\n",
              "      <td>1</td>\n",
              "    </tr>\n",
              "    <tr>\n",
              "      <th>19</th>\n",
              "      <td>2018-07-14</td>\n",
              "      <td>DL</td>\n",
              "      <td>9E</td>\n",
              "      <td>5047</td>\n",
              "      <td>N910XJ</td>\n",
              "      <td>BHM</td>\n",
              "      <td>Birmingham, AL</td>\n",
              "      <td>ATL</td>\n",
              "      <td>Atlanta, GA</td>\n",
              "      <td>938</td>\n",
              "      <td>1142</td>\n",
              "      <td>64.0</td>\n",
              "      <td>134.0</td>\n",
              "      <td>-7.0</td>\n",
              "      <td>2018</td>\n",
              "      <td>7</td>\n",
              "      <td>14</td>\n",
              "      <td>28</td>\n",
              "      <td>9</td>\n",
              "      <td>11</td>\n",
              "      <td>short</td>\n",
              "      <td>0</td>\n",
              "      <td>0</td>\n",
              "      <td>1</td>\n",
              "    </tr>\n",
              "    <tr>\n",
              "      <th>...</th>\n",
              "      <td>...</td>\n",
              "      <td>...</td>\n",
              "      <td>...</td>\n",
              "      <td>...</td>\n",
              "      <td>...</td>\n",
              "      <td>...</td>\n",
              "      <td>...</td>\n",
              "      <td>...</td>\n",
              "      <td>...</td>\n",
              "      <td>...</td>\n",
              "      <td>...</td>\n",
              "      <td>...</td>\n",
              "      <td>...</td>\n",
              "      <td>...</td>\n",
              "      <td>...</td>\n",
              "      <td>...</td>\n",
              "      <td>...</td>\n",
              "      <td>...</td>\n",
              "      <td>...</td>\n",
              "      <td>...</td>\n",
              "      <td>...</td>\n",
              "      <td>...</td>\n",
              "      <td>...</td>\n",
              "      <td>...</td>\n",
              "    </tr>\n",
              "    <tr>\n",
              "      <th>4999988</th>\n",
              "      <td>2018-09-05</td>\n",
              "      <td>AA</td>\n",
              "      <td>MQ</td>\n",
              "      <td>4219</td>\n",
              "      <td>N661JA</td>\n",
              "      <td>ORD</td>\n",
              "      <td>Chicago, IL</td>\n",
              "      <td>PIA</td>\n",
              "      <td>Peoria, IL</td>\n",
              "      <td>2015</td>\n",
              "      <td>2109</td>\n",
              "      <td>54.0</td>\n",
              "      <td>130.0</td>\n",
              "      <td>75.0</td>\n",
              "      <td>2018</td>\n",
              "      <td>9</td>\n",
              "      <td>5</td>\n",
              "      <td>36</td>\n",
              "      <td>20</td>\n",
              "      <td>21</td>\n",
              "      <td>short</td>\n",
              "      <td>0</td>\n",
              "      <td>0</td>\n",
              "      <td>1</td>\n",
              "    </tr>\n",
              "    <tr>\n",
              "      <th>4999989</th>\n",
              "      <td>2018-04-02</td>\n",
              "      <td>AA</td>\n",
              "      <td>MQ</td>\n",
              "      <td>3577</td>\n",
              "      <td>N247NN</td>\n",
              "      <td>TLH</td>\n",
              "      <td>Tallahassee, FL</td>\n",
              "      <td>DFW</td>\n",
              "      <td>Dallas/Fort Worth, TX</td>\n",
              "      <td>1629</td>\n",
              "      <td>1800</td>\n",
              "      <td>151.0</td>\n",
              "      <td>767.0</td>\n",
              "      <td>-6.0</td>\n",
              "      <td>2018</td>\n",
              "      <td>4</td>\n",
              "      <td>2</td>\n",
              "      <td>14</td>\n",
              "      <td>16</td>\n",
              "      <td>18</td>\n",
              "      <td>short</td>\n",
              "      <td>0</td>\n",
              "      <td>0</td>\n",
              "      <td>1</td>\n",
              "    </tr>\n",
              "    <tr>\n",
              "      <th>4999993</th>\n",
              "      <td>2018-10-26</td>\n",
              "      <td>UA</td>\n",
              "      <td>ZW</td>\n",
              "      <td>3766</td>\n",
              "      <td>N438AW</td>\n",
              "      <td>ABE</td>\n",
              "      <td>Allentown/Bethlehem/Easton, PA</td>\n",
              "      <td>ORD</td>\n",
              "      <td>Chicago, IL</td>\n",
              "      <td>755</td>\n",
              "      <td>909</td>\n",
              "      <td>134.0</td>\n",
              "      <td>654.0</td>\n",
              "      <td>2.0</td>\n",
              "      <td>2018</td>\n",
              "      <td>10</td>\n",
              "      <td>26</td>\n",
              "      <td>43</td>\n",
              "      <td>7</td>\n",
              "      <td>9</td>\n",
              "      <td>short</td>\n",
              "      <td>0</td>\n",
              "      <td>0</td>\n",
              "      <td>1</td>\n",
              "    </tr>\n",
              "    <tr>\n",
              "      <th>4999994</th>\n",
              "      <td>2019-09-01</td>\n",
              "      <td>DL</td>\n",
              "      <td>OO</td>\n",
              "      <td>3983</td>\n",
              "      <td>N910EV</td>\n",
              "      <td>ATL</td>\n",
              "      <td>Atlanta, GA</td>\n",
              "      <td>TRI</td>\n",
              "      <td>Bristol/Johnson City/Kingsport, TN</td>\n",
              "      <td>2229</td>\n",
              "      <td>2333</td>\n",
              "      <td>64.0</td>\n",
              "      <td>227.0</td>\n",
              "      <td>-7.0</td>\n",
              "      <td>2019</td>\n",
              "      <td>9</td>\n",
              "      <td>1</td>\n",
              "      <td>35</td>\n",
              "      <td>22</td>\n",
              "      <td>23</td>\n",
              "      <td>short</td>\n",
              "      <td>0</td>\n",
              "      <td>0</td>\n",
              "      <td>1</td>\n",
              "    </tr>\n",
              "    <tr>\n",
              "      <th>4999998</th>\n",
              "      <td>2019-02-27</td>\n",
              "      <td>UA</td>\n",
              "      <td>OO</td>\n",
              "      <td>5993</td>\n",
              "      <td>N956SW</td>\n",
              "      <td>SFO</td>\n",
              "      <td>San Francisco, CA</td>\n",
              "      <td>MFR</td>\n",
              "      <td>Medford, OR</td>\n",
              "      <td>1605</td>\n",
              "      <td>1739</td>\n",
              "      <td>94.0</td>\n",
              "      <td>329.0</td>\n",
              "      <td>114.0</td>\n",
              "      <td>2019</td>\n",
              "      <td>2</td>\n",
              "      <td>27</td>\n",
              "      <td>9</td>\n",
              "      <td>16</td>\n",
              "      <td>17</td>\n",
              "      <td>short</td>\n",
              "      <td>0</td>\n",
              "      <td>0</td>\n",
              "      <td>1</td>\n",
              "    </tr>\n",
              "  </tbody>\n",
              "</table>\n",
              "<p>1878403 rows × 24 columns</p>\n",
              "</div>"
            ],
            "text/plain": [
              "            fl_date mkt_unique_carrier  ... flight_haul_medium  flight_haul_short\n",
              "3        2018-01-29                 AA  ...                  0                  1\n",
              "7        2019-05-08                 UA  ...                  1                  0\n",
              "8        2019-03-11                 DL  ...                  0                  1\n",
              "9        2019-05-18                 UA  ...                  0                  1\n",
              "19       2018-07-14                 DL  ...                  0                  1\n",
              "...             ...                ...  ...                ...                ...\n",
              "4999988  2018-09-05                 AA  ...                  0                  1\n",
              "4999989  2018-04-02                 AA  ...                  0                  1\n",
              "4999993  2018-10-26                 UA  ...                  0                  1\n",
              "4999994  2019-09-01                 DL  ...                  0                  1\n",
              "4999998  2019-02-27                 UA  ...                  0                  1\n",
              "\n",
              "[1878403 rows x 24 columns]"
            ]
          },
          "execution_count": 9,
          "metadata": {},
          "output_type": "execute_result"
        }
      ]
    },
    {
      "cell_type": "code",
      "metadata": {
        "colab": {
          "base_uri": "https://localhost:8080/"
        },
        "id": "13y-Jwr8xVih",
        "outputId": "b3c92ebc-7520-4049-a09e-a70ca361ec2b"
      },
      "source": [
        "df_flights['mkt_unique_carrier'].value_counts()"
      ],
      "execution_count": null,
      "outputs": [
        {
          "data": {
            "text/plain": [
              "AA    1287815\n",
              "DL    1105966\n",
              "UA     967740\n",
              "WN     851625\n",
              "AS     269110\n",
              "B6     189359\n",
              "NK     120451\n",
              "F9      80162\n",
              "G4      63880\n",
              "HA      58575\n",
              "VX       5317\n",
              "Name: mkt_unique_carrier, dtype: int64"
            ]
          },
          "execution_count": 10,
          "metadata": {},
          "output_type": "execute_result"
        }
      ]
    },
    {
      "cell_type": "code",
      "metadata": {
        "colab": {
          "base_uri": "https://localhost:8080/"
        },
        "id": "zK8nQYacB2ko",
        "outputId": "3e784e72-585d-4566-9266-42e38f7105c9"
      },
      "source": [
        "df_flights.columns"
      ],
      "execution_count": null,
      "outputs": [
        {
          "data": {
            "text/plain": [
              "Index(['fl_date', 'mkt_unique_carrier', 'op_unique_carrier',\n",
              "       'mkt_carrier_fl_num', 'tail_num', 'origin', 'origin_city_name', 'dest',\n",
              "       'dest_city_name', 'crs_dep_time', 'crs_arr_time', 'crs_elapsed_time',\n",
              "       'distance', 'arr_delay', 'year', 'month', 'day', 'week', 'crs_dep_hour',\n",
              "       'crs_arr_hour', 'flight_length', 'flight_haul_long',\n",
              "       'flight_haul_medium', 'flight_haul_short'],\n",
              "      dtype='object')"
            ]
          },
          "execution_count": 11,
          "metadata": {},
          "output_type": "execute_result"
        }
      ]
    },
    {
      "cell_type": "markdown",
      "metadata": {
        "id": "ILL7tfOXCkK7"
      },
      "source": [
        "time of the day: the delay probably depends on the airport traffic which varies during the day."
      ]
    },
    {
      "cell_type": "code",
      "metadata": {
        "colab": {
          "base_uri": "https://localhost:8080/",
          "height": 326
        },
        "id": "q_yokVh2Cjgq",
        "outputId": "b0ee7c09-06ba-45a8-91ea-23c0f05e51d5"
      },
      "source": [
        "#morning = 0, noon = 1, evening = 2, night = 3\n",
        "df_flights['time_of_day'] = np.select (\n",
        "    [ \n",
        "     (df_flights['crs_arr_hour'] .between(4, 11, inclusive=True)),\n",
        "     (df_flights['crs_arr_hour'].between(12, 17, inclusive=True)),\n",
        "     (df_flights['crs_arr_hour'].between(18, 23, inclusive=True)),\n",
        "     (df_flights['crs_arr_hour'].between(0, 3, inclusive=True) | (df_flights['crs_arr_hour'] == 24) ),\n",
        "    ], \n",
        "    [\n",
        "     'morning',\n",
        "     'noon',\n",
        "     'evening',\n",
        "     'night'\n",
        "    ]\n",
        "                                    )\n",
        "df_flights = pd.concat([df_flights,pd.get_dummies(df_flights['time_of_day'], prefix = 'crs_arr')], axis = 1)\n",
        "print(df_flights.shape)\n",
        "df_flights.head()\n",
        "#df_flights[['time_of_day','crs_arr_hour','flights']].groupby(['time_of_day','crs_arr_hour']).count()"
      ],
      "execution_count": null,
      "outputs": [
        {
          "name": "stdout",
          "output_type": "stream",
          "text": [
            "(5000000, 29)\n"
          ]
        },
        {
          "data": {
            "text/html": [
              "<div>\n",
              "<style scoped>\n",
              "    .dataframe tbody tr th:only-of-type {\n",
              "        vertical-align: middle;\n",
              "    }\n",
              "\n",
              "    .dataframe tbody tr th {\n",
              "        vertical-align: top;\n",
              "    }\n",
              "\n",
              "    .dataframe thead th {\n",
              "        text-align: right;\n",
              "    }\n",
              "</style>\n",
              "<table border=\"1\" class=\"dataframe\">\n",
              "  <thead>\n",
              "    <tr style=\"text-align: right;\">\n",
              "      <th></th>\n",
              "      <th>fl_date</th>\n",
              "      <th>mkt_unique_carrier</th>\n",
              "      <th>op_unique_carrier</th>\n",
              "      <th>mkt_carrier_fl_num</th>\n",
              "      <th>tail_num</th>\n",
              "      <th>origin</th>\n",
              "      <th>origin_city_name</th>\n",
              "      <th>dest</th>\n",
              "      <th>dest_city_name</th>\n",
              "      <th>crs_dep_time</th>\n",
              "      <th>crs_arr_time</th>\n",
              "      <th>crs_elapsed_time</th>\n",
              "      <th>distance</th>\n",
              "      <th>arr_delay</th>\n",
              "      <th>year</th>\n",
              "      <th>month</th>\n",
              "      <th>day</th>\n",
              "      <th>week</th>\n",
              "      <th>crs_dep_hour</th>\n",
              "      <th>crs_arr_hour</th>\n",
              "      <th>flight_length</th>\n",
              "      <th>flight_haul_long</th>\n",
              "      <th>flight_haul_medium</th>\n",
              "      <th>flight_haul_short</th>\n",
              "      <th>time_of_day</th>\n",
              "      <th>crs_arr_evening</th>\n",
              "      <th>crs_arr_morning</th>\n",
              "      <th>crs_arr_night</th>\n",
              "      <th>crs_arr_noon</th>\n",
              "    </tr>\n",
              "  </thead>\n",
              "  <tbody>\n",
              "    <tr>\n",
              "      <th>0</th>\n",
              "      <td>2019-06-03</td>\n",
              "      <td>WN</td>\n",
              "      <td>WN</td>\n",
              "      <td>510</td>\n",
              "      <td>N8639B</td>\n",
              "      <td>BDL</td>\n",
              "      <td>Hartford, CT</td>\n",
              "      <td>DEN</td>\n",
              "      <td>Denver, CO</td>\n",
              "      <td>1640</td>\n",
              "      <td>1905</td>\n",
              "      <td>265.0</td>\n",
              "      <td>1671.0</td>\n",
              "      <td>36.0</td>\n",
              "      <td>2019</td>\n",
              "      <td>6</td>\n",
              "      <td>3</td>\n",
              "      <td>23</td>\n",
              "      <td>16</td>\n",
              "      <td>19</td>\n",
              "      <td>medium</td>\n",
              "      <td>0</td>\n",
              "      <td>1</td>\n",
              "      <td>0</td>\n",
              "      <td>evening</td>\n",
              "      <td>1</td>\n",
              "      <td>0</td>\n",
              "      <td>0</td>\n",
              "      <td>0</td>\n",
              "    </tr>\n",
              "    <tr>\n",
              "      <th>1</th>\n",
              "      <td>2019-07-25</td>\n",
              "      <td>AA</td>\n",
              "      <td>AA</td>\n",
              "      <td>12</td>\n",
              "      <td>N923NN</td>\n",
              "      <td>DFW</td>\n",
              "      <td>Dallas/Fort Worth, TX</td>\n",
              "      <td>JAX</td>\n",
              "      <td>Jacksonville, FL</td>\n",
              "      <td>1509</td>\n",
              "      <td>1830</td>\n",
              "      <td>141.0</td>\n",
              "      <td>918.0</td>\n",
              "      <td>32.0</td>\n",
              "      <td>2019</td>\n",
              "      <td>7</td>\n",
              "      <td>25</td>\n",
              "      <td>30</td>\n",
              "      <td>15</td>\n",
              "      <td>18</td>\n",
              "      <td>medium</td>\n",
              "      <td>0</td>\n",
              "      <td>1</td>\n",
              "      <td>0</td>\n",
              "      <td>evening</td>\n",
              "      <td>1</td>\n",
              "      <td>0</td>\n",
              "      <td>0</td>\n",
              "      <td>0</td>\n",
              "    </tr>\n",
              "    <tr>\n",
              "      <th>2</th>\n",
              "      <td>2019-08-11</td>\n",
              "      <td>WN</td>\n",
              "      <td>WN</td>\n",
              "      <td>4462</td>\n",
              "      <td>N8552Z</td>\n",
              "      <td>MDW</td>\n",
              "      <td>Chicago, IL</td>\n",
              "      <td>PVD</td>\n",
              "      <td>Providence, RI</td>\n",
              "      <td>2215</td>\n",
              "      <td>125</td>\n",
              "      <td>130.0</td>\n",
              "      <td>842.0</td>\n",
              "      <td>-17.0</td>\n",
              "      <td>2019</td>\n",
              "      <td>8</td>\n",
              "      <td>11</td>\n",
              "      <td>32</td>\n",
              "      <td>22</td>\n",
              "      <td>1</td>\n",
              "      <td>medium</td>\n",
              "      <td>0</td>\n",
              "      <td>1</td>\n",
              "      <td>0</td>\n",
              "      <td>night</td>\n",
              "      <td>0</td>\n",
              "      <td>0</td>\n",
              "      <td>1</td>\n",
              "      <td>0</td>\n",
              "    </tr>\n",
              "    <tr>\n",
              "      <th>3</th>\n",
              "      <td>2018-01-29</td>\n",
              "      <td>AA</td>\n",
              "      <td>MQ</td>\n",
              "      <td>3652</td>\n",
              "      <td>N508AE</td>\n",
              "      <td>ORD</td>\n",
              "      <td>Chicago, IL</td>\n",
              "      <td>RAP</td>\n",
              "      <td>Rapid City, SD</td>\n",
              "      <td>1007</td>\n",
              "      <td>1135</td>\n",
              "      <td>148.0</td>\n",
              "      <td>779.0</td>\n",
              "      <td>5.0</td>\n",
              "      <td>2018</td>\n",
              "      <td>1</td>\n",
              "      <td>29</td>\n",
              "      <td>5</td>\n",
              "      <td>10</td>\n",
              "      <td>11</td>\n",
              "      <td>short</td>\n",
              "      <td>0</td>\n",
              "      <td>0</td>\n",
              "      <td>1</td>\n",
              "      <td>morning</td>\n",
              "      <td>0</td>\n",
              "      <td>1</td>\n",
              "      <td>0</td>\n",
              "      <td>0</td>\n",
              "    </tr>\n",
              "    <tr>\n",
              "      <th>4</th>\n",
              "      <td>2018-02-18</td>\n",
              "      <td>AS</td>\n",
              "      <td>AS</td>\n",
              "      <td>9</td>\n",
              "      <td>N462AS</td>\n",
              "      <td>MCO</td>\n",
              "      <td>Orlando, FL</td>\n",
              "      <td>SEA</td>\n",
              "      <td>Seattle, WA</td>\n",
              "      <td>700</td>\n",
              "      <td>1040</td>\n",
              "      <td>400.0</td>\n",
              "      <td>2554.0</td>\n",
              "      <td>-22.0</td>\n",
              "      <td>2018</td>\n",
              "      <td>2</td>\n",
              "      <td>18</td>\n",
              "      <td>7</td>\n",
              "      <td>7</td>\n",
              "      <td>10</td>\n",
              "      <td>long</td>\n",
              "      <td>1</td>\n",
              "      <td>0</td>\n",
              "      <td>0</td>\n",
              "      <td>morning</td>\n",
              "      <td>0</td>\n",
              "      <td>1</td>\n",
              "      <td>0</td>\n",
              "      <td>0</td>\n",
              "    </tr>\n",
              "  </tbody>\n",
              "</table>\n",
              "</div>"
            ],
            "text/plain": [
              "      fl_date mkt_unique_carrier  ... crs_arr_night  crs_arr_noon\n",
              "0  2019-06-03                 WN  ...             0             0\n",
              "1  2019-07-25                 AA  ...             0             0\n",
              "2  2019-08-11                 WN  ...             1             0\n",
              "3  2018-01-29                 AA  ...             0             0\n",
              "4  2018-02-18                 AS  ...             0             0\n",
              "\n",
              "[5 rows x 29 columns]"
            ]
          },
          "execution_count": 12,
          "metadata": {},
          "output_type": "execute_result"
        }
      ]
    },
    {
      "cell_type": "code",
      "metadata": {
        "id": "TEt2_mgwKWtU"
      },
      "source": [
        "df_flights['tail_num'][~df_flights['tail_num'].str[0].isin(['N'])].value_counts()"
      ],
      "execution_count": null,
      "outputs": []
    },
    {
      "cell_type": "code",
      "metadata": {
        "id": "YGx8_qQgOVYp"
      },
      "source": [
        "df_flights['tail_num'].str[-2:].value_counts()"
      ],
      "execution_count": null,
      "outputs": []
    },
    {
      "cell_type": "code",
      "metadata": {
        "id": "eFHCbi1IOPUk"
      },
      "source": [
        "df_flights['tail_num'].str[0].value_counts()"
      ],
      "execution_count": null,
      "outputs": []
    },
    {
      "cell_type": "markdown",
      "metadata": {
        "id": "FWCurx958vCB"
      },
      "source": [
        "### Airport encoding"
      ]
    },
    {
      "cell_type": "code",
      "metadata": {
        "colab": {
          "base_uri": "https://localhost:8080/",
          "height": 326
        },
        "id": "KubIWYP-CBnT",
        "outputId": "6fc4adfc-666d-4b36-a34d-267217f0e235"
      },
      "source": [
        "#mainline = 0, regional = 1, ferry = 2\n",
        "df_flights['flight_type'] = np.select (\n",
        "    [ \n",
        "     (df_flights['mkt_carrier_fl_num'] .between(1, 2949, inclusive=True)),\n",
        "     (df_flights['mkt_carrier_fl_num'].between(2950, 7999, inclusive=True)),\n",
        "     (df_flights['mkt_carrier_fl_num'].between(8000, 9400, inclusive=True)),\n",
        "    ], \n",
        "    [\n",
        "     'mainline',\n",
        "     'regional',\n",
        "     'ferry'\n",
        "    ]\n",
        "                                    )\n",
        "df_flights = pd.concat([df_flights,pd.get_dummies(df_flights['flight_type'], prefix = 'flight_type')], axis = 1)\n",
        "print(df_flights.shape)\n",
        "df_flights.head()"
      ],
      "execution_count": null,
      "outputs": [
        {
          "name": "stdout",
          "output_type": "stream",
          "text": [
            "(5000000, 33)\n"
          ]
        },
        {
          "data": {
            "text/html": [
              "<div>\n",
              "<style scoped>\n",
              "    .dataframe tbody tr th:only-of-type {\n",
              "        vertical-align: middle;\n",
              "    }\n",
              "\n",
              "    .dataframe tbody tr th {\n",
              "        vertical-align: top;\n",
              "    }\n",
              "\n",
              "    .dataframe thead th {\n",
              "        text-align: right;\n",
              "    }\n",
              "</style>\n",
              "<table border=\"1\" class=\"dataframe\">\n",
              "  <thead>\n",
              "    <tr style=\"text-align: right;\">\n",
              "      <th></th>\n",
              "      <th>fl_date</th>\n",
              "      <th>mkt_unique_carrier</th>\n",
              "      <th>op_unique_carrier</th>\n",
              "      <th>mkt_carrier_fl_num</th>\n",
              "      <th>tail_num</th>\n",
              "      <th>origin</th>\n",
              "      <th>origin_city_name</th>\n",
              "      <th>dest</th>\n",
              "      <th>dest_city_name</th>\n",
              "      <th>crs_dep_time</th>\n",
              "      <th>crs_arr_time</th>\n",
              "      <th>crs_elapsed_time</th>\n",
              "      <th>distance</th>\n",
              "      <th>arr_delay</th>\n",
              "      <th>year</th>\n",
              "      <th>month</th>\n",
              "      <th>day</th>\n",
              "      <th>week</th>\n",
              "      <th>crs_dep_hour</th>\n",
              "      <th>crs_arr_hour</th>\n",
              "      <th>flight_length</th>\n",
              "      <th>flight_haul_long</th>\n",
              "      <th>flight_haul_medium</th>\n",
              "      <th>flight_haul_short</th>\n",
              "      <th>time_of_day</th>\n",
              "      <th>crs_arr_evening</th>\n",
              "      <th>crs_arr_morning</th>\n",
              "      <th>crs_arr_night</th>\n",
              "      <th>crs_arr_noon</th>\n",
              "      <th>flight_type</th>\n",
              "      <th>flight_type_ferry</th>\n",
              "      <th>flight_type_mainline</th>\n",
              "      <th>flight_type_regional</th>\n",
              "    </tr>\n",
              "  </thead>\n",
              "  <tbody>\n",
              "    <tr>\n",
              "      <th>0</th>\n",
              "      <td>2019-06-03</td>\n",
              "      <td>WN</td>\n",
              "      <td>WN</td>\n",
              "      <td>510</td>\n",
              "      <td>N8639B</td>\n",
              "      <td>BDL</td>\n",
              "      <td>Hartford, CT</td>\n",
              "      <td>DEN</td>\n",
              "      <td>Denver, CO</td>\n",
              "      <td>1640</td>\n",
              "      <td>1905</td>\n",
              "      <td>265.0</td>\n",
              "      <td>1671.0</td>\n",
              "      <td>36.0</td>\n",
              "      <td>2019</td>\n",
              "      <td>6</td>\n",
              "      <td>3</td>\n",
              "      <td>23</td>\n",
              "      <td>16</td>\n",
              "      <td>19</td>\n",
              "      <td>medium</td>\n",
              "      <td>0</td>\n",
              "      <td>1</td>\n",
              "      <td>0</td>\n",
              "      <td>evening</td>\n",
              "      <td>1</td>\n",
              "      <td>0</td>\n",
              "      <td>0</td>\n",
              "      <td>0</td>\n",
              "      <td>mainline</td>\n",
              "      <td>0</td>\n",
              "      <td>1</td>\n",
              "      <td>0</td>\n",
              "    </tr>\n",
              "    <tr>\n",
              "      <th>1</th>\n",
              "      <td>2019-07-25</td>\n",
              "      <td>AA</td>\n",
              "      <td>AA</td>\n",
              "      <td>12</td>\n",
              "      <td>N923NN</td>\n",
              "      <td>DFW</td>\n",
              "      <td>Dallas/Fort Worth, TX</td>\n",
              "      <td>JAX</td>\n",
              "      <td>Jacksonville, FL</td>\n",
              "      <td>1509</td>\n",
              "      <td>1830</td>\n",
              "      <td>141.0</td>\n",
              "      <td>918.0</td>\n",
              "      <td>32.0</td>\n",
              "      <td>2019</td>\n",
              "      <td>7</td>\n",
              "      <td>25</td>\n",
              "      <td>30</td>\n",
              "      <td>15</td>\n",
              "      <td>18</td>\n",
              "      <td>medium</td>\n",
              "      <td>0</td>\n",
              "      <td>1</td>\n",
              "      <td>0</td>\n",
              "      <td>evening</td>\n",
              "      <td>1</td>\n",
              "      <td>0</td>\n",
              "      <td>0</td>\n",
              "      <td>0</td>\n",
              "      <td>mainline</td>\n",
              "      <td>0</td>\n",
              "      <td>1</td>\n",
              "      <td>0</td>\n",
              "    </tr>\n",
              "    <tr>\n",
              "      <th>2</th>\n",
              "      <td>2019-08-11</td>\n",
              "      <td>WN</td>\n",
              "      <td>WN</td>\n",
              "      <td>4462</td>\n",
              "      <td>N8552Z</td>\n",
              "      <td>MDW</td>\n",
              "      <td>Chicago, IL</td>\n",
              "      <td>PVD</td>\n",
              "      <td>Providence, RI</td>\n",
              "      <td>2215</td>\n",
              "      <td>125</td>\n",
              "      <td>130.0</td>\n",
              "      <td>842.0</td>\n",
              "      <td>-17.0</td>\n",
              "      <td>2019</td>\n",
              "      <td>8</td>\n",
              "      <td>11</td>\n",
              "      <td>32</td>\n",
              "      <td>22</td>\n",
              "      <td>1</td>\n",
              "      <td>medium</td>\n",
              "      <td>0</td>\n",
              "      <td>1</td>\n",
              "      <td>0</td>\n",
              "      <td>night</td>\n",
              "      <td>0</td>\n",
              "      <td>0</td>\n",
              "      <td>1</td>\n",
              "      <td>0</td>\n",
              "      <td>regional</td>\n",
              "      <td>0</td>\n",
              "      <td>0</td>\n",
              "      <td>1</td>\n",
              "    </tr>\n",
              "    <tr>\n",
              "      <th>3</th>\n",
              "      <td>2018-01-29</td>\n",
              "      <td>AA</td>\n",
              "      <td>MQ</td>\n",
              "      <td>3652</td>\n",
              "      <td>N508AE</td>\n",
              "      <td>ORD</td>\n",
              "      <td>Chicago, IL</td>\n",
              "      <td>RAP</td>\n",
              "      <td>Rapid City, SD</td>\n",
              "      <td>1007</td>\n",
              "      <td>1135</td>\n",
              "      <td>148.0</td>\n",
              "      <td>779.0</td>\n",
              "      <td>5.0</td>\n",
              "      <td>2018</td>\n",
              "      <td>1</td>\n",
              "      <td>29</td>\n",
              "      <td>5</td>\n",
              "      <td>10</td>\n",
              "      <td>11</td>\n",
              "      <td>short</td>\n",
              "      <td>0</td>\n",
              "      <td>0</td>\n",
              "      <td>1</td>\n",
              "      <td>morning</td>\n",
              "      <td>0</td>\n",
              "      <td>1</td>\n",
              "      <td>0</td>\n",
              "      <td>0</td>\n",
              "      <td>regional</td>\n",
              "      <td>0</td>\n",
              "      <td>0</td>\n",
              "      <td>1</td>\n",
              "    </tr>\n",
              "    <tr>\n",
              "      <th>4</th>\n",
              "      <td>2018-02-18</td>\n",
              "      <td>AS</td>\n",
              "      <td>AS</td>\n",
              "      <td>9</td>\n",
              "      <td>N462AS</td>\n",
              "      <td>MCO</td>\n",
              "      <td>Orlando, FL</td>\n",
              "      <td>SEA</td>\n",
              "      <td>Seattle, WA</td>\n",
              "      <td>700</td>\n",
              "      <td>1040</td>\n",
              "      <td>400.0</td>\n",
              "      <td>2554.0</td>\n",
              "      <td>-22.0</td>\n",
              "      <td>2018</td>\n",
              "      <td>2</td>\n",
              "      <td>18</td>\n",
              "      <td>7</td>\n",
              "      <td>7</td>\n",
              "      <td>10</td>\n",
              "      <td>long</td>\n",
              "      <td>1</td>\n",
              "      <td>0</td>\n",
              "      <td>0</td>\n",
              "      <td>morning</td>\n",
              "      <td>0</td>\n",
              "      <td>1</td>\n",
              "      <td>0</td>\n",
              "      <td>0</td>\n",
              "      <td>mainline</td>\n",
              "      <td>0</td>\n",
              "      <td>1</td>\n",
              "      <td>0</td>\n",
              "    </tr>\n",
              "  </tbody>\n",
              "</table>\n",
              "</div>"
            ],
            "text/plain": [
              "      fl_date mkt_unique_carrier  ... flight_type_mainline  flight_type_regional\n",
              "0  2019-06-03                 WN  ...                    1                     0\n",
              "1  2019-07-25                 AA  ...                    1                     0\n",
              "2  2019-08-11                 WN  ...                    0                     1\n",
              "3  2018-01-29                 AA  ...                    0                     1\n",
              "4  2018-02-18                 AS  ...                    1                     0\n",
              "\n",
              "[5 rows x 33 columns]"
            ]
          },
          "execution_count": 13,
          "metadata": {},
          "output_type": "execute_result"
        }
      ]
    },
    {
      "cell_type": "markdown",
      "metadata": {
        "id": "seCC_Ku6KM8m"
      },
      "source": [
        "###Airport traffic"
      ]
    },
    {
      "cell_type": "code",
      "metadata": {
        "colab": {
          "base_uri": "https://localhost:8080/",
          "height": 418
        },
        "id": "mPfM0lPzzk_y",
        "outputId": "23a5c665-1cc6-4b75-a293-be872f228a1f"
      },
      "source": [
        "df_flights[['week','origin']].groupby(['origin','week']).size().reset_index(name='counts')"
      ],
      "execution_count": null,
      "outputs": [
        {
          "data": {
            "text/html": [
              "<div>\n",
              "<style scoped>\n",
              "    .dataframe tbody tr th:only-of-type {\n",
              "        vertical-align: middle;\n",
              "    }\n",
              "\n",
              "    .dataframe tbody tr th {\n",
              "        vertical-align: top;\n",
              "    }\n",
              "\n",
              "    .dataframe thead th {\n",
              "        text-align: right;\n",
              "    }\n",
              "</style>\n",
              "<table border=\"1\" class=\"dataframe\">\n",
              "  <thead>\n",
              "    <tr style=\"text-align: right;\">\n",
              "      <th></th>\n",
              "      <th>origin</th>\n",
              "      <th>week</th>\n",
              "      <th>counts</th>\n",
              "    </tr>\n",
              "  </thead>\n",
              "  <tbody>\n",
              "    <tr>\n",
              "      <th>0</th>\n",
              "      <td>ABE</td>\n",
              "      <td>1</td>\n",
              "      <td>59</td>\n",
              "    </tr>\n",
              "    <tr>\n",
              "      <th>1</th>\n",
              "      <td>ABE</td>\n",
              "      <td>2</td>\n",
              "      <td>66</td>\n",
              "    </tr>\n",
              "    <tr>\n",
              "      <th>2</th>\n",
              "      <td>ABE</td>\n",
              "      <td>3</td>\n",
              "      <td>53</td>\n",
              "    </tr>\n",
              "    <tr>\n",
              "      <th>3</th>\n",
              "      <td>ABE</td>\n",
              "      <td>4</td>\n",
              "      <td>80</td>\n",
              "    </tr>\n",
              "    <tr>\n",
              "      <th>4</th>\n",
              "      <td>ABE</td>\n",
              "      <td>5</td>\n",
              "      <td>56</td>\n",
              "    </tr>\n",
              "    <tr>\n",
              "      <th>...</th>\n",
              "      <td>...</td>\n",
              "      <td>...</td>\n",
              "      <td>...</td>\n",
              "    </tr>\n",
              "    <tr>\n",
              "      <th>18973</th>\n",
              "      <td>YUM</td>\n",
              "      <td>48</td>\n",
              "      <td>18</td>\n",
              "    </tr>\n",
              "    <tr>\n",
              "      <th>18974</th>\n",
              "      <td>YUM</td>\n",
              "      <td>49</td>\n",
              "      <td>18</td>\n",
              "    </tr>\n",
              "    <tr>\n",
              "      <th>18975</th>\n",
              "      <td>YUM</td>\n",
              "      <td>50</td>\n",
              "      <td>24</td>\n",
              "    </tr>\n",
              "    <tr>\n",
              "      <th>18976</th>\n",
              "      <td>YUM</td>\n",
              "      <td>51</td>\n",
              "      <td>23</td>\n",
              "    </tr>\n",
              "    <tr>\n",
              "      <th>18977</th>\n",
              "      <td>YUM</td>\n",
              "      <td>52</td>\n",
              "      <td>21</td>\n",
              "    </tr>\n",
              "  </tbody>\n",
              "</table>\n",
              "<p>18978 rows × 3 columns</p>\n",
              "</div>"
            ],
            "text/plain": [
              "      origin  week  counts\n",
              "0        ABE     1      59\n",
              "1        ABE     2      66\n",
              "2        ABE     3      53\n",
              "3        ABE     4      80\n",
              "4        ABE     5      56\n",
              "...      ...   ...     ...\n",
              "18973    YUM    48      18\n",
              "18974    YUM    49      18\n",
              "18975    YUM    50      24\n",
              "18976    YUM    51      23\n",
              "18977    YUM    52      21\n",
              "\n",
              "[18978 rows x 3 columns]"
            ]
          },
          "execution_count": 14,
          "metadata": {},
          "output_type": "execute_result"
        }
      ]
    },
    {
      "cell_type": "code",
      "metadata": {
        "colab": {
          "base_uri": "https://localhost:8080/"
        },
        "id": "rlYdTnFA4Ccu",
        "outputId": "3e5c69de-c0b8-4136-f1a8-3f42f7e24b00"
      },
      "source": [
        "pd.to_datetime(df_flights['fl_date']).dt.isocalendar().week.max()"
      ],
      "execution_count": null,
      "outputs": [
        {
          "data": {
            "text/plain": [
              "52"
            ]
          },
          "execution_count": 47,
          "metadata": {},
          "output_type": "execute_result"
        }
      ]
    },
    {
      "cell_type": "code",
      "metadata": {
        "colab": {
          "base_uri": "https://localhost:8080/"
        },
        "id": "GDJ5BQsgXjR8",
        "outputId": "fbef2867-c41e-41ba-aa24-33302dbb9b65"
      },
      "source": [
        "df_flights.columns"
      ],
      "execution_count": null,
      "outputs": [
        {
          "data": {
            "text/plain": [
              "Index(['fl_date', 'mkt_unique_carrier', 'op_unique_carrier',\n",
              "       'mkt_carrier_fl_num', 'tail_num', 'origin', 'origin_city_name', 'dest',\n",
              "       'dest_city_name', 'crs_dep_time', 'crs_arr_time', 'crs_elapsed_time',\n",
              "       'distance', 'arr_delay', 'year', 'month', 'day', 'week', 'crs_dep_hour',\n",
              "       'crs_arr_hour', 'flight_length', 'flight_haul_long',\n",
              "       'flight_haul_medium', 'flight_haul_short', 'time_of_day',\n",
              "       'crs_arr_evening', 'crs_arr_morning', 'crs_arr_night', 'crs_arr_noon',\n",
              "       'flight_type', 'flight_type_ferry', 'flight_type_mainline',\n",
              "       'flight_type_regional'],\n",
              "      dtype='object')"
            ]
          },
          "execution_count": 19,
          "metadata": {},
          "output_type": "execute_result"
        }
      ]
    },
    {
      "cell_type": "code",
      "metadata": {
        "id": "us1-norRXO36"
      },
      "source": [
        "df_flights2 = df_flights.copy()\n",
        "df_flights2 = df_flights2.drop(columns = ['fl_date','mkt_unique_carrier', 'op_unique_carrier',\n",
        "       'mkt_carrier_fl_num', 'tail_num', 'origin', 'origin_city_name', 'dest',\n",
        "       'dest_city_name', 'crs_dep_time', 'crs_arr_time','distance','flight_length','time_of_day','flight_type'])"
      ],
      "execution_count": null,
      "outputs": []
    },
    {
      "cell_type": "code",
      "metadata": {
        "colab": {
          "base_uri": "https://localhost:8080/"
        },
        "id": "82XzS2npZdrC",
        "outputId": "64bb5dc7-dd22-4d44-e922-d4615bc9f986"
      },
      "source": [
        "df_flights2.columns"
      ],
      "execution_count": null,
      "outputs": [
        {
          "data": {
            "text/plain": [
              "Index(['crs_elapsed_time', 'arr_delay', 'year', 'month', 'day', 'week',\n",
              "       'crs_dep_hour', 'crs_arr_hour', 'flight_haul_long',\n",
              "       'flight_haul_medium', 'flight_haul_short', 'crs_arr_evening',\n",
              "       'crs_arr_morning', 'crs_arr_night', 'crs_arr_noon', 'flight_type_ferry',\n",
              "       'flight_type_mainline', 'flight_type_regional'],\n",
              "      dtype='object')"
            ]
          },
          "execution_count": 18,
          "metadata": {},
          "output_type": "execute_result"
        }
      ]
    },
    {
      "cell_type": "code",
      "metadata": {
        "colab": {
          "base_uri": "https://localhost:8080/",
          "height": 224
        },
        "id": "c-g4EGb3fLt9",
        "outputId": "c1a09894-ee13-4ffb-bac7-dfdc182fb3c4"
      },
      "source": [
        "#early = 0, on-time = 1, delay = 2\n",
        "df_flights2['is_delay'] = np.select (\n",
        "    [ \n",
        "     (df_flights2['arr_delay'] .between(-500, -1, inclusive=True)),\n",
        "     (df_flights2['arr_delay'].between(0, 0.99, inclusive=True)),\n",
        "     (df_flights2['arr_delay'].between(1, 500, inclusive=True)),\n",
        "    ], \n",
        "    [\n",
        "     0,\n",
        "     1,\n",
        "     2\n",
        "    ]\n",
        "                                    )\n",
        "#df_flights = pd.concat([df_flights,pd.get_dummies(df_flights['flight_type'], prefix = 'flight_type')], axis = 1)\n",
        "#print(df_flights.shape)\n",
        "df_flights2.head()"
      ],
      "execution_count": null,
      "outputs": [
        {
          "data": {
            "text/html": [
              "<div>\n",
              "<style scoped>\n",
              "    .dataframe tbody tr th:only-of-type {\n",
              "        vertical-align: middle;\n",
              "    }\n",
              "\n",
              "    .dataframe tbody tr th {\n",
              "        vertical-align: top;\n",
              "    }\n",
              "\n",
              "    .dataframe thead th {\n",
              "        text-align: right;\n",
              "    }\n",
              "</style>\n",
              "<table border=\"1\" class=\"dataframe\">\n",
              "  <thead>\n",
              "    <tr style=\"text-align: right;\">\n",
              "      <th></th>\n",
              "      <th>crs_elapsed_time</th>\n",
              "      <th>arr_delay</th>\n",
              "      <th>year</th>\n",
              "      <th>month</th>\n",
              "      <th>day</th>\n",
              "      <th>week</th>\n",
              "      <th>crs_dep_hour</th>\n",
              "      <th>crs_arr_hour</th>\n",
              "      <th>flight_haul_long</th>\n",
              "      <th>flight_haul_medium</th>\n",
              "      <th>flight_haul_short</th>\n",
              "      <th>crs_arr_evening</th>\n",
              "      <th>crs_arr_morning</th>\n",
              "      <th>crs_arr_night</th>\n",
              "      <th>crs_arr_noon</th>\n",
              "      <th>flight_type_ferry</th>\n",
              "      <th>flight_type_mainline</th>\n",
              "      <th>flight_type_regional</th>\n",
              "      <th>is_delay</th>\n",
              "    </tr>\n",
              "  </thead>\n",
              "  <tbody>\n",
              "    <tr>\n",
              "      <th>0</th>\n",
              "      <td>265.0</td>\n",
              "      <td>36.0</td>\n",
              "      <td>2019</td>\n",
              "      <td>6</td>\n",
              "      <td>3</td>\n",
              "      <td>23</td>\n",
              "      <td>16</td>\n",
              "      <td>19</td>\n",
              "      <td>0</td>\n",
              "      <td>1</td>\n",
              "      <td>0</td>\n",
              "      <td>1</td>\n",
              "      <td>0</td>\n",
              "      <td>0</td>\n",
              "      <td>0</td>\n",
              "      <td>0</td>\n",
              "      <td>1</td>\n",
              "      <td>0</td>\n",
              "      <td>2</td>\n",
              "    </tr>\n",
              "    <tr>\n",
              "      <th>1</th>\n",
              "      <td>141.0</td>\n",
              "      <td>32.0</td>\n",
              "      <td>2019</td>\n",
              "      <td>7</td>\n",
              "      <td>25</td>\n",
              "      <td>30</td>\n",
              "      <td>15</td>\n",
              "      <td>18</td>\n",
              "      <td>0</td>\n",
              "      <td>1</td>\n",
              "      <td>0</td>\n",
              "      <td>1</td>\n",
              "      <td>0</td>\n",
              "      <td>0</td>\n",
              "      <td>0</td>\n",
              "      <td>0</td>\n",
              "      <td>1</td>\n",
              "      <td>0</td>\n",
              "      <td>2</td>\n",
              "    </tr>\n",
              "    <tr>\n",
              "      <th>2</th>\n",
              "      <td>130.0</td>\n",
              "      <td>-17.0</td>\n",
              "      <td>2019</td>\n",
              "      <td>8</td>\n",
              "      <td>11</td>\n",
              "      <td>32</td>\n",
              "      <td>22</td>\n",
              "      <td>1</td>\n",
              "      <td>0</td>\n",
              "      <td>1</td>\n",
              "      <td>0</td>\n",
              "      <td>0</td>\n",
              "      <td>0</td>\n",
              "      <td>1</td>\n",
              "      <td>0</td>\n",
              "      <td>0</td>\n",
              "      <td>0</td>\n",
              "      <td>1</td>\n",
              "      <td>0</td>\n",
              "    </tr>\n",
              "    <tr>\n",
              "      <th>3</th>\n",
              "      <td>148.0</td>\n",
              "      <td>5.0</td>\n",
              "      <td>2018</td>\n",
              "      <td>1</td>\n",
              "      <td>29</td>\n",
              "      <td>5</td>\n",
              "      <td>10</td>\n",
              "      <td>11</td>\n",
              "      <td>0</td>\n",
              "      <td>0</td>\n",
              "      <td>1</td>\n",
              "      <td>0</td>\n",
              "      <td>1</td>\n",
              "      <td>0</td>\n",
              "      <td>0</td>\n",
              "      <td>0</td>\n",
              "      <td>0</td>\n",
              "      <td>1</td>\n",
              "      <td>2</td>\n",
              "    </tr>\n",
              "    <tr>\n",
              "      <th>4</th>\n",
              "      <td>400.0</td>\n",
              "      <td>-22.0</td>\n",
              "      <td>2018</td>\n",
              "      <td>2</td>\n",
              "      <td>18</td>\n",
              "      <td>7</td>\n",
              "      <td>7</td>\n",
              "      <td>10</td>\n",
              "      <td>1</td>\n",
              "      <td>0</td>\n",
              "      <td>0</td>\n",
              "      <td>0</td>\n",
              "      <td>1</td>\n",
              "      <td>0</td>\n",
              "      <td>0</td>\n",
              "      <td>0</td>\n",
              "      <td>1</td>\n",
              "      <td>0</td>\n",
              "      <td>0</td>\n",
              "    </tr>\n",
              "  </tbody>\n",
              "</table>\n",
              "</div>"
            ],
            "text/plain": [
              "   crs_elapsed_time  arr_delay  ...  flight_type_regional  is_delay\n",
              "0             265.0       36.0  ...                     0         2\n",
              "1             141.0       32.0  ...                     0         2\n",
              "2             130.0      -17.0  ...                     1         0\n",
              "3             148.0        5.0  ...                     1         2\n",
              "4             400.0      -22.0  ...                     0         0\n",
              "\n",
              "[5 rows x 19 columns]"
            ]
          },
          "execution_count": 24,
          "metadata": {},
          "output_type": "execute_result"
        }
      ]
    },
    {
      "cell_type": "code",
      "metadata": {
        "colab": {
          "base_uri": "https://localhost:8080/",
          "height": 295
        },
        "id": "Y2ncZZPqXKLK",
        "outputId": "df5cdf04-bc2a-47ad-d8e1-35f90cb62046"
      },
      "source": [
        "import plotly.express as px\n",
        "from sklearn.decomposition import PCA\n",
        "from sklearn.preprocessing import StandardScaler\n",
        "\n",
        "\n",
        "X = df_flights2[['crs_elapsed_time', 'year', 'month', 'day', 'week',\n",
        "       'crs_dep_hour', 'crs_arr_hour', 'flight_haul_long',\n",
        "       'flight_haul_medium', 'flight_haul_short', 'crs_arr_evening',\n",
        "       'crs_arr_morning', 'crs_arr_night', 'crs_arr_noon', 'flight_type_ferry',\n",
        "       'flight_type_mainline', 'flight_type_regional']]\n",
        "y = df_flights2['is_delay']\n",
        "\n",
        "scaler = StandardScaler()\n",
        "scaler.fit(X)\n",
        "X = scaler.transform(X)\n",
        "\n",
        "pca = PCA(n_components=2)\n",
        "components = pca.fit_transform(X)\n",
        "\n",
        "fig, ax = plt.subplots(1,2)\n",
        "ax[0].scatter(X[:,0], X[:,1], c=y)\n",
        "ax[0].set_xlabel('x1')\n",
        "ax[0].set_ylabel('x2')\n",
        "ax[0].set_title('Before PCA')\n",
        "\n",
        "ax[1].scatter(components[:,0], components[:,1], c=y)\n",
        "ax[1].set_xlabel('PC1')\n",
        "ax[1].set_ylabel('PC2')\n",
        "ax[1].set_title('After PCA')\n",
        "plt.show()"
      ],
      "execution_count": null,
      "outputs": [
        {
          "data": {
            "image/png": "[encoded data removed]",
            "text/plain": [
              "<Figure size 432x288 with 2 Axes>"
            ]
          },
          "metadata": {},
          "output_type": "display_data"
        }
      ]
    },
    {
      "cell_type": "code",
      "metadata": {
        "id": "qsCwDF5cidvZ"
      },
      "source": [
        ""
      ],
      "execution_count": null,
      "outputs": []
    },
    {
      "cell_type": "markdown",
      "metadata": {
        "id": "YNH3dxmfidvY"
      },
      "source": [
        "### Feature Selection / Dimensionality Reduction"
      ]
    },
    {
      "cell_type": "markdown",
      "metadata": {
        "id": "FMC-Gj8ridvY"
      },
      "source": [
        "We need to apply different selection techniques to find out which one will be the best for our problems.\n",
        "\n",
        "- Original Features vs. PCA conponents?"
      ]
    },
    {
      "cell_type": "markdown",
      "metadata": {
        "id": "ELQTj8n-XNCK"
      },
      "source": [
        "### Looking for including or excluding features. It can help us to make the most accurate predictions"
      ]
    },
    {
      "cell_type": "code",
      "metadata": {
        "id": "u2e9lrmkFykG"
      },
      "source": [
        ""
      ],
      "execution_count": null,
      "outputs": []
    },
    {
      "cell_type": "code",
      "metadata": {
        "colab": {
          "base_uri": "https://localhost:8080/"
        },
        "id": "60annv-iHqoY",
        "outputId": "3ac88b34-ea60-4345-dcbf-0df651367a69"
      },
      "source": [
        "from google.colab import drive\n",
        "drive.mount('/content/drive')"
      ],
      "execution_count": 5,
      "outputs": [
        {
          "output_type": "stream",
          "text": [
            "Drive already mounted at /content/drive; to attempt to forcibly remount, call drive.mount(\"/content/drive\", force_remount=True).\n"
          ],
          "name": "stdout"
        }
      ]
    },
    {
      "cell_type": "code",
      "metadata": {
        "colab": {
          "base_uri": "https://localhost:8080/"
        },
        "id": "fTWJZN0pFznt",
        "outputId": "a0d7b3ad-3758-4b4d-ad37-b1274781bd54"
      },
      "source": [
        "from google.colab import drive\n",
        "drive.flush_and_unmount()"
      ],
      "execution_count": 5,
      "outputs": [
        {
          "output_type": "stream",
          "text": [
            "Drive not mounted, so nothing to flush and unmount.\n"
          ],
          "name": "stdout"
        }
      ]
    },
    {
      "cell_type": "code",
      "metadata": {
        "id": "5kN8OMUhkZdk"
      },
      "source": [
        "training_df = pd.read_csv('/content/drive/MyDrive/Feat_engineered_training_data_new.csv')"
      ],
      "execution_count": 6,
      "outputs": []
    },
    {
      "cell_type": "code",
      "metadata": {
        "colab": {
          "base_uri": "https://localhost:8080/",
          "height": 224
        },
        "id": "1YyRzyk-idvZ",
        "outputId": "caff397a-ae5c-47ee-bd47-58a6f11771a4"
      },
      "source": [
        "training_df.head()"
      ],
      "execution_count": 7,
      "outputs": [
        {
          "output_type": "execute_result",
          "data": {
            "text/html": [
              "<div>\n",
              "<style scoped>\n",
              "    .dataframe tbody tr th:only-of-type {\n",
              "        vertical-align: middle;\n",
              "    }\n",
              "\n",
              "    .dataframe tbody tr th {\n",
              "        vertical-align: top;\n",
              "    }\n",
              "\n",
              "    .dataframe thead th {\n",
              "        text-align: right;\n",
              "    }\n",
              "</style>\n",
              "<table border=\"1\" class=\"dataframe\">\n",
              "  <thead>\n",
              "    <tr style=\"text-align: right;\">\n",
              "      <th></th>\n",
              "      <th>mkt_carrier_fl_num</th>\n",
              "      <th>arr_delay</th>\n",
              "      <th>carrier_delay</th>\n",
              "      <th>weather_delay</th>\n",
              "      <th>nas_delay</th>\n",
              "      <th>security_delay</th>\n",
              "      <th>late_aircraft_delay</th>\n",
              "      <th>week</th>\n",
              "      <th>mean_weekly_dest_delay</th>\n",
              "      <th>mean_weekly_origin_delay</th>\n",
              "      <th>arriving_flights_per_week</th>\n",
              "      <th>leaving_flights_per_week</th>\n",
              "      <th>flight_type_0</th>\n",
              "      <th>flight_type_ferry</th>\n",
              "      <th>flight_type_mainline</th>\n",
              "      <th>flight_type_regional</th>\n",
              "      <th>flight_haul_long</th>\n",
              "      <th>flight_haul_medium</th>\n",
              "      <th>flight_haul_short</th>\n",
              "      <th>crs_dep_hour</th>\n",
              "      <th>crs_arr_hour</th>\n",
              "      <th>month</th>\n",
              "      <th>day</th>\n",
              "      <th>carrier_AA</th>\n",
              "      <th>carrier_AS</th>\n",
              "      <th>carrier_B6</th>\n",
              "      <th>carrier_DL</th>\n",
              "      <th>carrier_F9</th>\n",
              "      <th>carrier_G4</th>\n",
              "      <th>carrier_HA</th>\n",
              "      <th>carrier_NK</th>\n",
              "      <th>carrier_UA</th>\n",
              "      <th>carrier_VX</th>\n",
              "      <th>carrier_WN</th>\n",
              "    </tr>\n",
              "  </thead>\n",
              "  <tbody>\n",
              "    <tr>\n",
              "      <th>0</th>\n",
              "      <td>4917</td>\n",
              "      <td>-6.0</td>\n",
              "      <td>0.0</td>\n",
              "      <td>0.0</td>\n",
              "      <td>0.0</td>\n",
              "      <td>0.0</td>\n",
              "      <td>0.0</td>\n",
              "      <td>42</td>\n",
              "      <td>-3.669272</td>\n",
              "      <td>1.080318</td>\n",
              "      <td>6398</td>\n",
              "      <td>3399</td>\n",
              "      <td>0</td>\n",
              "      <td>0</td>\n",
              "      <td>0</td>\n",
              "      <td>1</td>\n",
              "      <td>0</td>\n",
              "      <td>0</td>\n",
              "      <td>1</td>\n",
              "      <td>13</td>\n",
              "      <td>14</td>\n",
              "      <td>10</td>\n",
              "      <td>17</td>\n",
              "      <td>0</td>\n",
              "      <td>0</td>\n",
              "      <td>0</td>\n",
              "      <td>1</td>\n",
              "      <td>0</td>\n",
              "      <td>0</td>\n",
              "      <td>0</td>\n",
              "      <td>0</td>\n",
              "      <td>0</td>\n",
              "      <td>0</td>\n",
              "      <td>0</td>\n",
              "    </tr>\n",
              "    <tr>\n",
              "      <th>1</th>\n",
              "      <td>681</td>\n",
              "      <td>-5.0</td>\n",
              "      <td>0.0</td>\n",
              "      <td>0.0</td>\n",
              "      <td>0.0</td>\n",
              "      <td>0.0</td>\n",
              "      <td>0.0</td>\n",
              "      <td>4</td>\n",
              "      <td>-3.190229</td>\n",
              "      <td>-0.628954</td>\n",
              "      <td>5977</td>\n",
              "      <td>6355</td>\n",
              "      <td>0</td>\n",
              "      <td>0</td>\n",
              "      <td>1</td>\n",
              "      <td>0</td>\n",
              "      <td>0</td>\n",
              "      <td>0</td>\n",
              "      <td>1</td>\n",
              "      <td>18</td>\n",
              "      <td>19</td>\n",
              "      <td>1</td>\n",
              "      <td>27</td>\n",
              "      <td>0</td>\n",
              "      <td>0</td>\n",
              "      <td>0</td>\n",
              "      <td>0</td>\n",
              "      <td>0</td>\n",
              "      <td>0</td>\n",
              "      <td>0</td>\n",
              "      <td>0</td>\n",
              "      <td>1</td>\n",
              "      <td>0</td>\n",
              "      <td>0</td>\n",
              "    </tr>\n",
              "    <tr>\n",
              "      <th>2</th>\n",
              "      <td>1075</td>\n",
              "      <td>29.0</td>\n",
              "      <td>0.0</td>\n",
              "      <td>0.0</td>\n",
              "      <td>29.0</td>\n",
              "      <td>0.0</td>\n",
              "      <td>0.0</td>\n",
              "      <td>33</td>\n",
              "      <td>1.425821</td>\n",
              "      <td>33.765468</td>\n",
              "      <td>1766</td>\n",
              "      <td>5868</td>\n",
              "      <td>0</td>\n",
              "      <td>0</td>\n",
              "      <td>1</td>\n",
              "      <td>0</td>\n",
              "      <td>1</td>\n",
              "      <td>0</td>\n",
              "      <td>0</td>\n",
              "      <td>18</td>\n",
              "      <td>21</td>\n",
              "      <td>8</td>\n",
              "      <td>16</td>\n",
              "      <td>0</td>\n",
              "      <td>0</td>\n",
              "      <td>0</td>\n",
              "      <td>0</td>\n",
              "      <td>0</td>\n",
              "      <td>0</td>\n",
              "      <td>0</td>\n",
              "      <td>0</td>\n",
              "      <td>1</td>\n",
              "      <td>0</td>\n",
              "      <td>0</td>\n",
              "    </tr>\n",
              "    <tr>\n",
              "      <th>3</th>\n",
              "      <td>826</td>\n",
              "      <td>9.0</td>\n",
              "      <td>0.0</td>\n",
              "      <td>0.0</td>\n",
              "      <td>0.0</td>\n",
              "      <td>0.0</td>\n",
              "      <td>0.0</td>\n",
              "      <td>39</td>\n",
              "      <td>-2.012551</td>\n",
              "      <td>-1.997789</td>\n",
              "      <td>2709</td>\n",
              "      <td>9498</td>\n",
              "      <td>0</td>\n",
              "      <td>0</td>\n",
              "      <td>1</td>\n",
              "      <td>0</td>\n",
              "      <td>0</td>\n",
              "      <td>0</td>\n",
              "      <td>1</td>\n",
              "      <td>9</td>\n",
              "      <td>11</td>\n",
              "      <td>9</td>\n",
              "      <td>23</td>\n",
              "      <td>0</td>\n",
              "      <td>0</td>\n",
              "      <td>0</td>\n",
              "      <td>0</td>\n",
              "      <td>0</td>\n",
              "      <td>0</td>\n",
              "      <td>0</td>\n",
              "      <td>0</td>\n",
              "      <td>0</td>\n",
              "      <td>0</td>\n",
              "      <td>1</td>\n",
              "    </tr>\n",
              "    <tr>\n",
              "      <th>4</th>\n",
              "      <td>2273</td>\n",
              "      <td>-13.0</td>\n",
              "      <td>0.0</td>\n",
              "      <td>0.0</td>\n",
              "      <td>0.0</td>\n",
              "      <td>0.0</td>\n",
              "      <td>0.0</td>\n",
              "      <td>3</td>\n",
              "      <td>11.181481</td>\n",
              "      <td>-0.681825</td>\n",
              "      <td>270</td>\n",
              "      <td>6377</td>\n",
              "      <td>0</td>\n",
              "      <td>0</td>\n",
              "      <td>1</td>\n",
              "      <td>0</td>\n",
              "      <td>0</td>\n",
              "      <td>0</td>\n",
              "      <td>1</td>\n",
              "      <td>13</td>\n",
              "      <td>14</td>\n",
              "      <td>1</td>\n",
              "      <td>15</td>\n",
              "      <td>0</td>\n",
              "      <td>1</td>\n",
              "      <td>0</td>\n",
              "      <td>0</td>\n",
              "      <td>0</td>\n",
              "      <td>0</td>\n",
              "      <td>0</td>\n",
              "      <td>0</td>\n",
              "      <td>0</td>\n",
              "      <td>0</td>\n",
              "      <td>0</td>\n",
              "    </tr>\n",
              "  </tbody>\n",
              "</table>\n",
              "</div>"
            ],
            "text/plain": [
              "   mkt_carrier_fl_num  arr_delay  ...  carrier_VX  carrier_WN\n",
              "0                4917       -6.0  ...           0           0\n",
              "1                 681       -5.0  ...           0           0\n",
              "2                1075       29.0  ...           0           0\n",
              "3                 826        9.0  ...           0           1\n",
              "4                2273      -13.0  ...           0           0\n",
              "\n",
              "[5 rows x 34 columns]"
            ]
          },
          "metadata": {},
          "execution_count": 7
        }
      ]
    },
    {
      "cell_type": "code",
      "metadata": {
        "id": "0k8v68Zq3XJL"
      },
      "source": [
        "training_df['mkt_carrier_delay'] = training_df.groupby(['mkt_carrier_fl_num'])['arr_delay'].transform(np.mean)"
      ],
      "execution_count": 8,
      "outputs": []
    },
    {
      "cell_type": "code",
      "metadata": {
        "id": "kqG255HPidvZ"
      },
      "source": [
        "#training_no_outliers = feat_engineered_training_data[(feat_engineered_training_data['arr_delay'] < 250)&(feat_engineered_training_data['arr_delay'] > -60)]"
      ],
      "execution_count": null,
      "outputs": []
    },
    {
      "cell_type": "code",
      "metadata": {
        "id": "QlEXUwOsidvZ"
      },
      "source": [
        "training_df_clear = training_df.drop(['carrier_delay',\t'weather_delay',\t'nas_delay',\t'security_delay',\t'late_aircraft_delay'], axis = 1).head(600000)"
      ],
      "execution_count": 9,
      "outputs": []
    },
    {
      "cell_type": "code",
      "metadata": {
        "colab": {
          "base_uri": "https://localhost:8080/",
          "height": 438
        },
        "id": "IqpYeloEidva",
        "outputId": "2f95f0c6-074e-4641-df01-ea57d5a0812b"
      },
      "source": [
        "training_df_clear"
      ],
      "execution_count": 10,
      "outputs": [
        {
          "output_type": "execute_result",
          "data": {
            "text/html": [
              "<div>\n",
              "<style scoped>\n",
              "    .dataframe tbody tr th:only-of-type {\n",
              "        vertical-align: middle;\n",
              "    }\n",
              "\n",
              "    .dataframe tbody tr th {\n",
              "        vertical-align: top;\n",
              "    }\n",
              "\n",
              "    .dataframe thead th {\n",
              "        text-align: right;\n",
              "    }\n",
              "</style>\n",
              "<table border=\"1\" class=\"dataframe\">\n",
              "  <thead>\n",
              "    <tr style=\"text-align: right;\">\n",
              "      <th></th>\n",
              "      <th>mkt_carrier_fl_num</th>\n",
              "      <th>arr_delay</th>\n",
              "      <th>week</th>\n",
              "      <th>mean_weekly_dest_delay</th>\n",
              "      <th>mean_weekly_origin_delay</th>\n",
              "      <th>arriving_flights_per_week</th>\n",
              "      <th>leaving_flights_per_week</th>\n",
              "      <th>flight_type_0</th>\n",
              "      <th>flight_type_ferry</th>\n",
              "      <th>flight_type_mainline</th>\n",
              "      <th>flight_type_regional</th>\n",
              "      <th>flight_haul_long</th>\n",
              "      <th>flight_haul_medium</th>\n",
              "      <th>flight_haul_short</th>\n",
              "      <th>crs_dep_hour</th>\n",
              "      <th>crs_arr_hour</th>\n",
              "      <th>month</th>\n",
              "      <th>day</th>\n",
              "      <th>carrier_AA</th>\n",
              "      <th>carrier_AS</th>\n",
              "      <th>carrier_B6</th>\n",
              "      <th>carrier_DL</th>\n",
              "      <th>carrier_F9</th>\n",
              "      <th>carrier_G4</th>\n",
              "      <th>carrier_HA</th>\n",
              "      <th>carrier_NK</th>\n",
              "      <th>carrier_UA</th>\n",
              "      <th>carrier_VX</th>\n",
              "      <th>carrier_WN</th>\n",
              "      <th>mkt_carrier_delay</th>\n",
              "    </tr>\n",
              "  </thead>\n",
              "  <tbody>\n",
              "    <tr>\n",
              "      <th>0</th>\n",
              "      <td>4917</td>\n",
              "      <td>-6.0</td>\n",
              "      <td>42</td>\n",
              "      <td>-3.669272</td>\n",
              "      <td>1.080318</td>\n",
              "      <td>6398</td>\n",
              "      <td>3399</td>\n",
              "      <td>0</td>\n",
              "      <td>0</td>\n",
              "      <td>0</td>\n",
              "      <td>1</td>\n",
              "      <td>0</td>\n",
              "      <td>0</td>\n",
              "      <td>1</td>\n",
              "      <td>13</td>\n",
              "      <td>14</td>\n",
              "      <td>10</td>\n",
              "      <td>17</td>\n",
              "      <td>0</td>\n",
              "      <td>0</td>\n",
              "      <td>0</td>\n",
              "      <td>1</td>\n",
              "      <td>0</td>\n",
              "      <td>0</td>\n",
              "      <td>0</td>\n",
              "      <td>0</td>\n",
              "      <td>0</td>\n",
              "      <td>0</td>\n",
              "      <td>0</td>\n",
              "      <td>13.862197</td>\n",
              "    </tr>\n",
              "    <tr>\n",
              "      <th>1</th>\n",
              "      <td>681</td>\n",
              "      <td>-5.0</td>\n",
              "      <td>4</td>\n",
              "      <td>-3.190229</td>\n",
              "      <td>-0.628954</td>\n",
              "      <td>5977</td>\n",
              "      <td>6355</td>\n",
              "      <td>0</td>\n",
              "      <td>0</td>\n",
              "      <td>1</td>\n",
              "      <td>0</td>\n",
              "      <td>0</td>\n",
              "      <td>0</td>\n",
              "      <td>1</td>\n",
              "      <td>18</td>\n",
              "      <td>19</td>\n",
              "      <td>1</td>\n",
              "      <td>27</td>\n",
              "      <td>0</td>\n",
              "      <td>0</td>\n",
              "      <td>0</td>\n",
              "      <td>0</td>\n",
              "      <td>0</td>\n",
              "      <td>0</td>\n",
              "      <td>0</td>\n",
              "      <td>0</td>\n",
              "      <td>1</td>\n",
              "      <td>0</td>\n",
              "      <td>0</td>\n",
              "      <td>5.332055</td>\n",
              "    </tr>\n",
              "    <tr>\n",
              "      <th>2</th>\n",
              "      <td>1075</td>\n",
              "      <td>29.0</td>\n",
              "      <td>33</td>\n",
              "      <td>1.425821</td>\n",
              "      <td>33.765468</td>\n",
              "      <td>1766</td>\n",
              "      <td>5868</td>\n",
              "      <td>0</td>\n",
              "      <td>0</td>\n",
              "      <td>1</td>\n",
              "      <td>0</td>\n",
              "      <td>1</td>\n",
              "      <td>0</td>\n",
              "      <td>0</td>\n",
              "      <td>18</td>\n",
              "      <td>21</td>\n",
              "      <td>8</td>\n",
              "      <td>16</td>\n",
              "      <td>0</td>\n",
              "      <td>0</td>\n",
              "      <td>0</td>\n",
              "      <td>0</td>\n",
              "      <td>0</td>\n",
              "      <td>0</td>\n",
              "      <td>0</td>\n",
              "      <td>0</td>\n",
              "      <td>1</td>\n",
              "      <td>0</td>\n",
              "      <td>0</td>\n",
              "      <td>3.485995</td>\n",
              "    </tr>\n",
              "    <tr>\n",
              "      <th>3</th>\n",
              "      <td>826</td>\n",
              "      <td>9.0</td>\n",
              "      <td>39</td>\n",
              "      <td>-2.012551</td>\n",
              "      <td>-1.997789</td>\n",
              "      <td>2709</td>\n",
              "      <td>9498</td>\n",
              "      <td>0</td>\n",
              "      <td>0</td>\n",
              "      <td>1</td>\n",
              "      <td>0</td>\n",
              "      <td>0</td>\n",
              "      <td>0</td>\n",
              "      <td>1</td>\n",
              "      <td>9</td>\n",
              "      <td>11</td>\n",
              "      <td>9</td>\n",
              "      <td>23</td>\n",
              "      <td>0</td>\n",
              "      <td>0</td>\n",
              "      <td>0</td>\n",
              "      <td>0</td>\n",
              "      <td>0</td>\n",
              "      <td>0</td>\n",
              "      <td>0</td>\n",
              "      <td>0</td>\n",
              "      <td>0</td>\n",
              "      <td>0</td>\n",
              "      <td>1</td>\n",
              "      <td>1.560806</td>\n",
              "    </tr>\n",
              "    <tr>\n",
              "      <th>4</th>\n",
              "      <td>2273</td>\n",
              "      <td>-13.0</td>\n",
              "      <td>3</td>\n",
              "      <td>11.181481</td>\n",
              "      <td>-0.681825</td>\n",
              "      <td>270</td>\n",
              "      <td>6377</td>\n",
              "      <td>0</td>\n",
              "      <td>0</td>\n",
              "      <td>1</td>\n",
              "      <td>0</td>\n",
              "      <td>0</td>\n",
              "      <td>0</td>\n",
              "      <td>1</td>\n",
              "      <td>13</td>\n",
              "      <td>14</td>\n",
              "      <td>1</td>\n",
              "      <td>15</td>\n",
              "      <td>0</td>\n",
              "      <td>1</td>\n",
              "      <td>0</td>\n",
              "      <td>0</td>\n",
              "      <td>0</td>\n",
              "      <td>0</td>\n",
              "      <td>0</td>\n",
              "      <td>0</td>\n",
              "      <td>0</td>\n",
              "      <td>0</td>\n",
              "      <td>0</td>\n",
              "      <td>2.019950</td>\n",
              "    </tr>\n",
              "    <tr>\n",
              "      <th>...</th>\n",
              "      <td>...</td>\n",
              "      <td>...</td>\n",
              "      <td>...</td>\n",
              "      <td>...</td>\n",
              "      <td>...</td>\n",
              "      <td>...</td>\n",
              "      <td>...</td>\n",
              "      <td>...</td>\n",
              "      <td>...</td>\n",
              "      <td>...</td>\n",
              "      <td>...</td>\n",
              "      <td>...</td>\n",
              "      <td>...</td>\n",
              "      <td>...</td>\n",
              "      <td>...</td>\n",
              "      <td>...</td>\n",
              "      <td>...</td>\n",
              "      <td>...</td>\n",
              "      <td>...</td>\n",
              "      <td>...</td>\n",
              "      <td>...</td>\n",
              "      <td>...</td>\n",
              "      <td>...</td>\n",
              "      <td>...</td>\n",
              "      <td>...</td>\n",
              "      <td>...</td>\n",
              "      <td>...</td>\n",
              "      <td>...</td>\n",
              "      <td>...</td>\n",
              "      <td>...</td>\n",
              "    </tr>\n",
              "    <tr>\n",
              "      <th>599995</th>\n",
              "      <td>1025</td>\n",
              "      <td>-15.0</td>\n",
              "      <td>48</td>\n",
              "      <td>21.667741</td>\n",
              "      <td>11.332707</td>\n",
              "      <td>13968</td>\n",
              "      <td>1064</td>\n",
              "      <td>0</td>\n",
              "      <td>0</td>\n",
              "      <td>1</td>\n",
              "      <td>0</td>\n",
              "      <td>0</td>\n",
              "      <td>1</td>\n",
              "      <td>0</td>\n",
              "      <td>13</td>\n",
              "      <td>15</td>\n",
              "      <td>12</td>\n",
              "      <td>1</td>\n",
              "      <td>1</td>\n",
              "      <td>0</td>\n",
              "      <td>0</td>\n",
              "      <td>0</td>\n",
              "      <td>0</td>\n",
              "      <td>0</td>\n",
              "      <td>0</td>\n",
              "      <td>0</td>\n",
              "      <td>0</td>\n",
              "      <td>0</td>\n",
              "      <td>0</td>\n",
              "      <td>1.285959</td>\n",
              "    </tr>\n",
              "    <tr>\n",
              "      <th>599996</th>\n",
              "      <td>746</td>\n",
              "      <td>-8.0</td>\n",
              "      <td>16</td>\n",
              "      <td>15.723199</td>\n",
              "      <td>4.811177</td>\n",
              "      <td>1138</td>\n",
              "      <td>15126</td>\n",
              "      <td>0</td>\n",
              "      <td>0</td>\n",
              "      <td>1</td>\n",
              "      <td>0</td>\n",
              "      <td>0</td>\n",
              "      <td>0</td>\n",
              "      <td>1</td>\n",
              "      <td>13</td>\n",
              "      <td>14</td>\n",
              "      <td>4</td>\n",
              "      <td>15</td>\n",
              "      <td>0</td>\n",
              "      <td>0</td>\n",
              "      <td>0</td>\n",
              "      <td>1</td>\n",
              "      <td>0</td>\n",
              "      <td>0</td>\n",
              "      <td>0</td>\n",
              "      <td>0</td>\n",
              "      <td>0</td>\n",
              "      <td>0</td>\n",
              "      <td>0</td>\n",
              "      <td>-0.645299</td>\n",
              "    </tr>\n",
              "    <tr>\n",
              "      <th>599997</th>\n",
              "      <td>1640</td>\n",
              "      <td>-6.0</td>\n",
              "      <td>48</td>\n",
              "      <td>1.871514</td>\n",
              "      <td>16.083276</td>\n",
              "      <td>3012</td>\n",
              "      <td>5860</td>\n",
              "      <td>0</td>\n",
              "      <td>0</td>\n",
              "      <td>1</td>\n",
              "      <td>0</td>\n",
              "      <td>0</td>\n",
              "      <td>1</td>\n",
              "      <td>0</td>\n",
              "      <td>17</td>\n",
              "      <td>20</td>\n",
              "      <td>11</td>\n",
              "      <td>27</td>\n",
              "      <td>0</td>\n",
              "      <td>0</td>\n",
              "      <td>0</td>\n",
              "      <td>0</td>\n",
              "      <td>0</td>\n",
              "      <td>0</td>\n",
              "      <td>0</td>\n",
              "      <td>0</td>\n",
              "      <td>1</td>\n",
              "      <td>0</td>\n",
              "      <td>0</td>\n",
              "      <td>2.848889</td>\n",
              "    </tr>\n",
              "    <tr>\n",
              "      <th>599998</th>\n",
              "      <td>2242</td>\n",
              "      <td>-7.0</td>\n",
              "      <td>52</td>\n",
              "      <td>10.364315</td>\n",
              "      <td>11.332473</td>\n",
              "      <td>10318</td>\n",
              "      <td>6590</td>\n",
              "      <td>0</td>\n",
              "      <td>0</td>\n",
              "      <td>1</td>\n",
              "      <td>0</td>\n",
              "      <td>0</td>\n",
              "      <td>1</td>\n",
              "      <td>0</td>\n",
              "      <td>16</td>\n",
              "      <td>19</td>\n",
              "      <td>12</td>\n",
              "      <td>29</td>\n",
              "      <td>0</td>\n",
              "      <td>0</td>\n",
              "      <td>0</td>\n",
              "      <td>0</td>\n",
              "      <td>0</td>\n",
              "      <td>0</td>\n",
              "      <td>0</td>\n",
              "      <td>0</td>\n",
              "      <td>1</td>\n",
              "      <td>0</td>\n",
              "      <td>0</td>\n",
              "      <td>5.046489</td>\n",
              "    </tr>\n",
              "    <tr>\n",
              "      <th>599999</th>\n",
              "      <td>2437</td>\n",
              "      <td>4.0</td>\n",
              "      <td>42</td>\n",
              "      <td>5.991165</td>\n",
              "      <td>-1.789552</td>\n",
              "      <td>11205</td>\n",
              "      <td>9456</td>\n",
              "      <td>0</td>\n",
              "      <td>0</td>\n",
              "      <td>1</td>\n",
              "      <td>0</td>\n",
              "      <td>0</td>\n",
              "      <td>1</td>\n",
              "      <td>0</td>\n",
              "      <td>7</td>\n",
              "      <td>12</td>\n",
              "      <td>10</td>\n",
              "      <td>16</td>\n",
              "      <td>1</td>\n",
              "      <td>0</td>\n",
              "      <td>0</td>\n",
              "      <td>0</td>\n",
              "      <td>0</td>\n",
              "      <td>0</td>\n",
              "      <td>0</td>\n",
              "      <td>0</td>\n",
              "      <td>0</td>\n",
              "      <td>0</td>\n",
              "      <td>0</td>\n",
              "      <td>0.338843</td>\n",
              "    </tr>\n",
              "  </tbody>\n",
              "</table>\n",
              "<p>600000 rows × 30 columns</p>\n",
              "</div>"
            ],
            "text/plain": [
              "        mkt_carrier_fl_num  arr_delay  ...  carrier_WN  mkt_carrier_delay\n",
              "0                     4917       -6.0  ...           0          13.862197\n",
              "1                      681       -5.0  ...           0           5.332055\n",
              "2                     1075       29.0  ...           0           3.485995\n",
              "3                      826        9.0  ...           1           1.560806\n",
              "4                     2273      -13.0  ...           0           2.019950\n",
              "...                    ...        ...  ...         ...                ...\n",
              "599995                1025      -15.0  ...           0           1.285959\n",
              "599996                 746       -8.0  ...           0          -0.645299\n",
              "599997                1640       -6.0  ...           0           2.848889\n",
              "599998                2242       -7.0  ...           0           5.046489\n",
              "599999                2437        4.0  ...           0           0.338843\n",
              "\n",
              "[600000 rows x 30 columns]"
            ]
          },
          "metadata": {},
          "execution_count": 10
        }
      ]
    },
    {
      "cell_type": "markdown",
      "metadata": {
        "id": "wNsKapBUidva"
      },
      "source": [
        "### Modeling"
      ]
    },
    {
      "cell_type": "markdown",
      "metadata": {
        "id": "ZdkaE-l8idva"
      },
      "source": [
        "Use different ML techniques to predict each problem.\n",
        "\n",
        "- linear / logistic / multinomial logistic regression\n",
        "- Naive Bayes\n",
        "- Random Forest\n",
        "- SVM\n",
        "- XGBoost\n",
        "- The ensemble of your own choice"
      ]
    },
    {
      "cell_type": "markdown",
      "metadata": {
        "id": "hjSgmMkOWYqT"
      },
      "source": [
        "### Random Forest Regression"
      ]
    },
    {
      "cell_type": "code",
      "metadata": {
        "id": "IDyAI9YGidvb"
      },
      "source": [
        "from sklearn.model_selection import train_test_split\n",
        "X = training_df.drop(['arr_delay'],axis=1)\n",
        "y = training_df['arr_delay']\n",
        "X_train,X_test,y_train,y_test=train_test_split(X,y,test_size=0.20,random_state=0)"
      ],
      "execution_count": null,
      "outputs": []
    },
    {
      "cell_type": "code",
      "metadata": {
        "id": "UfzIlLxVidvb"
      },
      "source": [
        "from sklearn.ensemble import RandomForestRegressor\n",
        "\n",
        "clf = RandomForestRegressor(n_estimators=100, max_depth=30, random_state=0)\n",
        "clf.fit(X_train,y_train)"
      ],
      "execution_count": null,
      "outputs": []
    },
    {
      "cell_type": "code",
      "metadata": {
        "id": "UzIPRkiTidvb"
      },
      "source": [
        "y_pred=clf.predict(X_test)"
      ],
      "execution_count": null,
      "outputs": []
    },
    {
      "cell_type": "code",
      "metadata": {
        "id": "UrHVMqTz7683"
      },
      "source": [
        "from sklearn.metrics import r2_score\n",
        "print(r2_score(y_test, y_pred))"
      ],
      "execution_count": null,
      "outputs": []
    },
    {
      "cell_type": "markdown",
      "metadata": {
        "id": "bNC8Qi_opgI-"
      },
      "source": [
        "Result with all delays"
      ]
    },
    {
      "cell_type": "code",
      "metadata": {
        "colab": {
          "base_uri": "https://localhost:8080/"
        },
        "id": "gpjqGKknidvb",
        "outputId": "5b4e6719-110c-4c19-e67f-9d5457849274"
      },
      "source": [
        "from sklearn.metrics import r2_score\n",
        "print(r2_score(y_test, y_pred))"
      ],
      "execution_count": null,
      "outputs": [
        {
          "name": "stdout",
          "output_type": "stream",
          "text": [
            "0.9235738763903485\n"
          ]
        }
      ]
    },
    {
      "cell_type": "code",
      "metadata": {
        "colab": {
          "base_uri": "https://localhost:8080/"
        },
        "id": "yFlzUYivnhqU",
        "outputId": "4346e216-629f-4112-f7c8-94738098e41b"
      },
      "source": [
        "from sklearn.metrics import mean_squared_error\n",
        "mean_squared_error(y_test, y_pred)"
      ],
      "execution_count": null,
      "outputs": [
        {
          "data": {
            "text/plain": [
              "90.39871808472118"
            ]
          },
          "execution_count": 40,
          "metadata": {},
          "output_type": "execute_result"
        }
      ]
    },
    {
      "cell_type": "markdown",
      "metadata": {
        "id": "Yv2RHYe2Bsx7"
      },
      "source": [
        "### Using pickle to save model results"
      ]
    },
    {
      "cell_type": "code",
      "metadata": {
        "id": "_6i1tV-jBGi8"
      },
      "source": [
        "import pickle\n",
        "filename = 'random_forest.pickle'\n",
        "pickle.dump(clf, open(filename, 'wb'))"
      ],
      "execution_count": null,
      "outputs": []
    },
    {
      "cell_type": "code",
      "metadata": {
        "id": "0eoyayZFBbAV"
      },
      "source": [
        "loaded_model = pickle.load(open(filename, 'rb'))\n",
        "result = loaded_model.score(X_test, y_pred)\n",
        "print(result)"
      ],
      "execution_count": null,
      "outputs": []
    },
    {
      "cell_type": "markdown",
      "metadata": {
        "id": "V2HPu_dGplf1"
      },
      "source": [
        "## Feature Selection and new attempt in Modeling "
      ]
    },
    {
      "cell_type": "code",
      "metadata": {
        "id": "hYWSbf4Epy9l"
      },
      "source": [
        "from sklearn.model_selection import train_test_split\n",
        "X = training_df_clear.drop(['arr_delay'],axis=1)\n",
        "y = training_df_clear['arr_delay']\n",
        "X_train,X_test,y_train,y_test=train_test_split(X,y,test_size=0.20)\n"
      ],
      "execution_count": 11,
      "outputs": []
    },
    {
      "cell_type": "code",
      "metadata": {
        "id": "4YwCNZ4fqaMh"
      },
      "source": [
        "from sklearn.ensemble import RandomForestRegressor\n",
        "\n",
        "clf = RandomForestRegressor(n_estimators=110, max_depth=20, random_state = 5000)\n",
        "clf.fit(X_train,y_train)\n",
        "y_pred=clf.predict(X_test)"
      ],
      "execution_count": null,
      "outputs": []
    },
    {
      "cell_type": "code",
      "metadata": {
        "id": "Ayvw2mwXq0cS"
      },
      "source": [
        "from sklearn.metrics import r2_score\n",
        "print(r2_score(y_test, y_pred))"
      ],
      "execution_count": null,
      "outputs": []
    },
    {
      "cell_type": "code",
      "metadata": {
        "colab": {
          "base_uri": "https://localhost:8080/"
        },
        "id": "9DAET7SGu2IH",
        "outputId": "1748e5b4-dc55-4b33-96fa-96d032773fe7"
      },
      "source": [
        "from sklearn.metrics import mean_squared_error\n",
        "print(mean_squared_error(y_test, y_pred))"
      ],
      "execution_count": 15,
      "outputs": [
        {
          "output_type": "stream",
          "text": [
            "1144.324349519348\n"
          ],
          "name": "stdout"
        }
      ]
    },
    {
      "cell_type": "markdown",
      "metadata": {
        "id": "agvaPqAA7lmD"
      },
      "source": [
        "## XGBoost"
      ]
    },
    {
      "cell_type": "code",
      "metadata": {
        "id": "YykSmUEVxOk0"
      },
      "source": [
        "import xgboost as xgb\n",
        "from sklearn.preprocessing import StandardScaler\n",
        "from sklearn.model_selection import train_test_split\n",
        "\n",
        "X = training_df_clear.drop(['arr_delay'],axis=1)\n",
        "y = training_df_clear['arr_delay']\n",
        "\n",
        "scaler = StandardScaler()\n",
        "scaler.fit(X)\n",
        "X = scaler.transform(X)\n",
        "\n",
        "X_train,X_test,y_train,y_test=train_test_split(X,y,test_size=0.25)\n",
        "\n",
        "clf_xgb = xgb.XGBClassifier()\n",
        "clf_xgb.fit(X_train, y_train)\n"
      ],
      "execution_count": null,
      "outputs": []
    },
    {
      "cell_type": "code",
      "metadata": {
        "id": "Fe-teInxpG80"
      },
      "source": [
        "y_pred = clf_xgb.predict(X_test)"
      ],
      "execution_count": null,
      "outputs": []
    },
    {
      "cell_type": "code",
      "metadata": {
        "id": "ZKBeYmz01rJb"
      },
      "source": [
        "from sklearn.metrics import r2_score\n",
        "print(r2_score(y_test, y_pred))"
      ],
      "execution_count": null,
      "outputs": []
    },
    {
      "cell_type": "code",
      "metadata": {
        "id": "eRC3oyeQ1rJj"
      },
      "source": [
        "from sklearn.metrics import mean_squared_error\n",
        "print(mean_squared_error(y_test, y_pred))"
      ],
      "execution_count": null,
      "outputs": []
    },
    {
      "cell_type": "markdown",
      "metadata": {
        "id": "ztmZEePcTS9V"
      },
      "source": [
        "### Looking for the best parameters of Random Forest Regressor with GridSearch"
      ]
    },
    {
      "cell_type": "code",
      "metadata": {
        "id": "DBIkMMYWR8re"
      },
      "source": [
        "from sklearn.model_selection import GridSearchCV\n",
        "max_depth = [5, 8, 15, 25, 30, 45, 50]\n",
        "n_estimators = [10, 20, 30, 40, 50, 60, 70, 80, 100]\n",
        "\n",
        "hyperF = dict(n_estimators = n_estimators, max_depth = max_depth)\n",
        "\n",
        "gridF = GridSearchCV(clf, hyperF, cv = 5)#, verbose = 3, n_jobs = -1)"
      ],
      "execution_count": null,
      "outputs": []
    },
    {
      "cell_type": "code",
      "metadata": {
        "id": "hzhB6PEdS2n2"
      },
      "source": [
        "gridcv = gridF.fit(X_train,y_train)"
      ],
      "execution_count": null,
      "outputs": []
    },
    {
      "cell_type": "code",
      "metadata": {
        "id": "5gncFLeGS-d3"
      },
      "source": [
        "gridcv.best_params_"
      ],
      "execution_count": null,
      "outputs": []
    },
    {
      "cell_type": "code",
      "metadata": {
        "id": "dJGC5SzgTDWt"
      },
      "source": [
        "rfc = RandomForestClassifier(n_estimators = , max_depth = )\n",
        "rfc.fit(X_train,y_train)\n",
        "y_pred1 = rfc.predict(X_test)"
      ],
      "execution_count": null,
      "outputs": []
    },
    {
      "cell_type": "code",
      "metadata": {
        "id": "F2dOtdCDTHRa"
      },
      "source": [
        "print(r2_score(y_test, y_pred1))"
      ],
      "execution_count": null,
      "outputs": []
    },
    {
      "cell_type": "markdown",
      "metadata": {
        "id": "03Yc9CarWhXz"
      },
      "source": [
        "### ***Logistic Regression is not working!***"
      ]
    },
    {
      "cell_type": "code",
      "metadata": {
        "id": "6-fo7weh5wEW"
      },
      "source": [
        "from sklearn.linear_model import LogisticRegression\n",
        "logreg = LogisticRegression()\n",
        "\n",
        "logreg.fit(X_train,y_train)\n",
        "\n",
        "y_pred=logreg.predict(X_test)\n",
        "\n",
        "print(r2_score(y_test, y_pred))"
      ],
      "execution_count": null,
      "outputs": []
    },
    {
      "cell_type": "markdown",
      "metadata": {
        "id": "SmqALW4RWqRy"
      },
      "source": [
        "### Looking for the most correlated variables to drop"
      ]
    },
    {
      "cell_type": "code",
      "metadata": {
        "colab": {
          "base_uri": "https://localhost:8080/",
          "height": 639
        },
        "id": "A8KSrADMUVnH",
        "outputId": "615fd457-4902-4f58-da47-84228cbf2149"
      },
      "source": [
        "fig, ax = plt.subplots(figsize=(10,10))  \n",
        "df_corr = training_no_outliers.corr()\n",
        "ax = sns.heatmap(\n",
        "    df_corr, \n",
        "    #cmap=sns.diverging_palette(20, 220, n=200),\n",
        "    square=True\n",
        ")\n",
        "ax.set_xticklabels(\n",
        "    ax.get_xticklabels(),\n",
        "    rotation=45,\n",
        "    horizontalalignment='right'\n",
        ")"
      ],
      "execution_count": null,
      "outputs": [
        {
          "data": {
            "image/png": "[encoded data removed]",
            "text/plain": [
              "<Figure size 720x720 with 2 Axes>"
            ]
          },
          "metadata": {},
          "output_type": "display_data"
        }
      ]
    },
    {
      "cell_type": "markdown",
      "metadata": {
        "id": "D8iBnHdtV5oE"
      },
      "source": [
        "### Naive Bayes"
      ]
    },
    {
      "cell_type": "code",
      "metadata": {
        "id": "rvJ89vzVV5FE"
      },
      "source": [
        "from sklearn.naive_bayes import GaussianNB\n",
        "from sklearn.preprocessing import StandardScaler\n",
        "from sklearn.model_selection import train_test_split\n",
        "\n",
        "\n",
        "gnb = GaussianNB()\n",
        "\n",
        "X = training_no_outliers.drop(['arr_delay','mkt_carrier_fl_num','crs_elapsed_time'],axis=1)\n",
        "y = training_no_outliers['arr_delay']\n",
        "\n",
        "#scaler = StandardScaler()\n",
        "#scaler.fit(X)\n",
        "#X = scaler.transform(X)\n",
        "X_train, X_test, y_train, y_test = train_test_split(X, y, train_size = 0.8)\n",
        "\n",
        "gnb.fit(X_train, y_train)\n",
        "\n",
        "y_pred = gnb.predict(X_test)\n"
      ],
      "execution_count": null,
      "outputs": []
    },
    {
      "cell_type": "code",
      "metadata": {
        "colab": {
          "base_uri": "https://localhost:8080/"
        },
        "id": "sc2j-4G1b7eC",
        "outputId": "13fa8a4c-19de-4bfd-9b16-02b147cf0858"
      },
      "source": [
        "from sklearn.metrics import r2_score\n",
        "print(r2_score(y_test, y_pred))"
      ],
      "execution_count": null,
      "outputs": [
        {
          "name": "stdout",
          "output_type": "stream",
          "text": [
            "-0.9278251983674091\n"
          ]
        }
      ]
    },
    {
      "cell_type": "code",
      "metadata": {
        "colab": {
          "base_uri": "https://localhost:8080/"
        },
        "id": "jIgdlZn8dIIn",
        "outputId": "51222b2a-592a-40a1-83b7-198aa38590b9"
      },
      "source": [
        "from sklearn.metrics import accuracy_score\n",
        "accuracy_score(y_test, y_pred)"
      ],
      "execution_count": null,
      "outputs": [
        {
          "data": {
            "text/plain": [
              "0.0003580465943332086"
            ]
          },
          "execution_count": 20,
          "metadata": {},
          "output_type": "execute_result"
        }
      ]
    },
    {
      "cell_type": "markdown",
      "metadata": {
        "id": "-hbh3BCwidvb"
      },
      "source": [
        "### Evaluation"
      ]
    },
    {
      "cell_type": "markdown",
      "metadata": {
        "id": "xS-KUwS4idvc"
      },
      "source": [
        "You have data from 2018 and 2019 to develop models. Use different evaluation metrics for each problem and compare the performance of different models.\n",
        "\n",
        "You are required to predict delays on **out of sample** data from **first 7 days (1st-7th) of January 2020** and to share the file with LighthouseLabs. Sample submission can be found in the file **_sample_submission.csv_**"
      ]
    },
    {
      "cell_type": "code",
      "metadata": {
        "id": "uGvgiTB_idvc"
      },
      "source": [
        ""
      ],
      "execution_count": null,
      "outputs": []
    },
    {
      "cell_type": "code",
      "metadata": {
        "id": "0EGQWxFtidvd"
      },
      "source": [
        ""
      ],
      "execution_count": null,
      "outputs": []
    },
    {
      "cell_type": "code",
      "metadata": {
        "id": "8qzv-h0Didvd"
      },
      "source": [
        ""
      ],
      "execution_count": null,
      "outputs": []
    },
    {
      "cell_type": "code",
      "metadata": {
        "id": "KxiPkDYYidvd"
      },
      "source": [
        ""
      ],
      "execution_count": null,
      "outputs": []
    },
    {
      "cell_type": "markdown",
      "metadata": {
        "id": "zpGfucN8idvd"
      },
      "source": [
        "======================================================================\n",
        "## Stretch Tasks"
      ]
    },
    {
      "cell_type": "markdown",
      "metadata": {
        "id": "6ysY8CAridvd"
      },
      "source": [
        "### Multiclass Classification"
      ]
    },
    {
      "cell_type": "markdown",
      "metadata": {
        "id": "0T7ckaHRidvd"
      },
      "source": [
        "The target variables are **CARRIER_DELAY, WEATHER_DELAY, NAS_DELAY, SECURITY_DELAY, LATE_AIRCRAFT_DELAY**. We need to do additional transformations because these variables are not binary but continuos. For each flight that was delayed, we need to have one of these variables as 1 and others 0.\n",
        "\n",
        "It can happen that we have two types of delays with more than 0 minutes. In this case, take the bigger one as 1 and others as 0."
      ]
    },
    {
      "cell_type": "code",
      "metadata": {
        "id": "dew1LqQ2idvh"
      },
      "source": [
        ""
      ],
      "execution_count": null,
      "outputs": []
    },
    {
      "cell_type": "code",
      "metadata": {
        "id": "AN1A3p6sidvh"
      },
      "source": [
        ""
      ],
      "execution_count": null,
      "outputs": []
    },
    {
      "cell_type": "code",
      "metadata": {
        "id": "cvDHjTdyidvi"
      },
      "source": [
        ""
      ],
      "execution_count": null,
      "outputs": []
    },
    {
      "cell_type": "markdown",
      "metadata": {
        "id": "wfm2B3Ktidvi"
      },
      "source": [
        "### Binary Classification"
      ]
    },
    {
      "cell_type": "markdown",
      "metadata": {
        "id": "X9eJucV8idvi"
      },
      "source": [
        "The target variable is **CANCELLED**. The main problem here is going to be huge class imbalance. We have only very little cancelled flights with comparison to all flights. It is important to do the right sampling before training and to choose correct evaluation metrics."
      ]
    },
    {
      "cell_type": "code",
      "metadata": {
        "id": "u9WCAPjeidvj"
      },
      "source": [
        ""
      ],
      "execution_count": null,
      "outputs": []
    },
    {
      "cell_type": "code",
      "metadata": {
        "id": "cL4JT7-_idvj"
      },
      "source": [
        ""
      ],
      "execution_count": null,
      "outputs": []
    },
    {
      "cell_type": "code",
      "metadata": {
        "id": "kF5l9Blsidvj"
      },
      "source": [
        ""
      ],
      "execution_count": null,
      "outputs": []
    }
  ]
}