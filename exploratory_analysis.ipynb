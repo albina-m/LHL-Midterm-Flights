{
 "cells": [
  {
   "cell_type": "markdown",
   "metadata": {},
   "source": [
    "## Exploratory Data Analysis\n",
    "\n",
    "Use this notebook to get familiar with the datasets we have. There is 10 questions we need to answer during the EDA.\n",
    "\n",
    "\n",
    "We shouldn't limit our EDA to these 10 questions. Let's be creative :)."
   ]
  },
  {
   "cell_type": "code",
   "execution_count": 40,
   "metadata": {},
   "outputs": [
    {
     "name": "stdout",
     "output_type": "stream",
     "text": [
      "Connection opened successfully\n"
     ]
    }
   ],
   "source": [
    "import psycopg2\n",
    "import pandas as pd\n",
    "from scipy import stats\n",
    "import seaborn as sns\n",
    "import matplotlib.pyplot as plt\n",
    "import scipy\n",
    "pd.set_option('display.max_columns', None)  #set pandas to display all columns\n",
    "\n",
    "%matplotlib inline\n",
    "\n",
    "conn = psycopg2.connect(database='mid_term_project',user='lhl_student',password='lhl_student', host='mid-term-project.ca2jkepgjpne.us-east-2.rds.amazonaws.com', port='5432')\n",
    "\n",
    "print('Connection opened successfully')"
   ]
  },
  {
   "cell_type": "code",
   "execution_count": 2,
   "metadata": {},
   "outputs": [],
   "source": [
    "def postgresql_to_dataframe(conn, select_query, column_names):\n",
    "    \"\"\"\n",
    "    Tranform a SELECT query into a pandas dataframe\n",
    "    \"\"\"\n",
    "    cursor = conn.cursor()\n",
    "    try:\n",
    "        cursor.execute(select_query)\n",
    "    except (Exception, psycopg2.DatabaseError) as error:\n",
    "        print(\"Error: %s\" % error)\n",
    "        cursor.close()\n",
    "        return 1\n",
    "    \n",
    "    # Naturally we get a list of tupples\n",
    "    tupples = cursor.fetchall()\n",
    "    cursor.close()\n",
    "    \n",
    "    # We just need to turn it into a pandas dataframe\n",
    "    df = pd.DataFrame(tupples, columns=column_names)\n",
    "    return df"
   ]
  },
  {
   "cell_type": "code",
   "execution_count": null,
   "metadata": {},
   "outputs": [],
   "source": []
  },
  {
   "cell_type": "markdown",
   "metadata": {},
   "source": [
    "#### **Task 1**: Test the hypothesis that the delay is from Normal distribution. and that **mean** of the delay is 0. Be careful about the outliers."
   ]
  },
  {
   "cell_type": "code",
   "execution_count": 3,
   "metadata": {},
   "outputs": [],
   "source": [
    "column_names = ['arr_delay']\n",
    "delays = postgresql_to_dataframe(conn, 'SELECT arr_delay FROM flights', column_names)"
   ]
  },
  {
   "cell_type": "code",
   "execution_count": 4,
   "metadata": {},
   "outputs": [
    {
     "name": "stdout",
     "output_type": "stream",
     "text": [
      "(15927485, 1)\n",
      "arr_delay    5.475932\n",
      "dtype: float64\n"
     ]
    }
   ],
   "source": [
    "print(delays.shape)\n",
    "print(delays.mean())"
   ]
  },
  {
   "cell_type": "code",
   "execution_count": 5,
   "metadata": {},
   "outputs": [],
   "source": [
    "delays = delays.fillna(0)"
   ]
  },
  {
   "cell_type": "code",
   "execution_count": 6,
   "metadata": {},
   "outputs": [],
   "source": [
    "delays_nooutliers = delays[(delays['arr_delay'] < 250)&(delays['arr_delay'] > -60)]"
   ]
  },
  {
   "cell_type": "code",
   "execution_count": 7,
   "metadata": {},
   "outputs": [
    {
     "name": "stdout",
     "output_type": "stream",
     "text": [
      "count    1.583836e+07\n",
      "mean     3.064837e+00\n",
      "std      3.413541e+01\n",
      "min     -5.900000e+01\n",
      "25%     -1.500000e+01\n",
      "50%     -6.000000e+00\n",
      "75%      7.000000e+00\n",
      "max      2.490000e+02\n",
      "Name: arr_delay, dtype: float64\n"
     ]
    },
    {
     "name": "stderr",
     "output_type": "stream",
     "text": [
      "D:\\Anaconda\\lib\\site-packages\\scipy\\stats\\morestats.py:1681: UserWarning: p-value may not be accurate for N > 5000.\n",
      "  warnings.warn(\"p-value may not be accurate for N > 5000.\")\n"
     ]
    },
    {
     "data": {
      "text/plain": [
       "ShapiroResult(statistic=0.7248700857162476, pvalue=0.0)"
      ]
     },
     "execution_count": 7,
     "metadata": {},
     "output_type": "execute_result"
    }
   ],
   "source": [
    "print(delays_nooutliers['arr_delay'].describe())\n",
    "shapiro_test = stats.shapiro(delays_nooutliers['arr_delay'])\n",
    "shapiro_test"
   ]
  },
  {
   "cell_type": "code",
   "execution_count": 35,
   "metadata": {},
   "outputs": [
    {
     "data": {
      "text/plain": [
       "<AxesSubplot:xlabel='arr_delay', ylabel='Count'>"
      ]
     },
     "execution_count": 35,
     "metadata": {},
     "output_type": "execute_result"
    },
    {
     "data": {
      "image/png": "[encoded data removed]",
      "text/plain": [
       "<Figure size 432x288 with 1 Axes>"
      ]
     },
     "metadata": {
      "needs_background": "light"
     },
     "output_type": "display_data"
    }
   ],
   "source": [
    "sns.histplot(data=delays_nooutliers, x='arr_delay')"
   ]
  },
  {
   "cell_type": "markdown",
   "metadata": {},
   "source": [
    "Plot doesn't really show properly, it does appear to be a normal distribution centered around 0"
   ]
  },
  {
   "cell_type": "markdown",
   "metadata": {},
   "source": [
    "#### **Task 2**: Is average/median monthly delay different during the year? If yes, which are months with the biggest delays and what could be the reason?"
   ]
  },
  {
   "cell_type": "code",
   "execution_count": 9,
   "metadata": {},
   "outputs": [],
   "source": [
    "column_names = ['date','delay']\n",
    "delays = postgresql_to_dataframe(conn, 'SELECT fl_date, arr_delay FROM flights', column_names)\n",
    "delays = delays.fillna(0)\n",
    "delays['date'] = pd.to_datetime(delays['date'])\n",
    "delays = delays.set_index('date')"
   ]
  },
  {
   "cell_type": "code",
   "execution_count": 10,
   "metadata": {},
   "outputs": [],
   "source": [
    "median_delays_by_month = delays.groupby([(delays.index.year),(delays.index.month)]).median()\n",
    "mean_delays_by_month = delays.groupby([(delays.index.year),(delays.index.month)]).mean()"
   ]
  },
  {
   "cell_type": "code",
   "execution_count": 41,
   "metadata": {},
   "outputs": [
    {
     "data": {
      "text/html": [
       "<div>\n",
       "<style scoped>\n",
       "    .dataframe tbody tr th:only-of-type {\n",
       "        vertical-align: middle;\n",
       "    }\n",
       "\n",
       "    .dataframe tbody tr th {\n",
       "        vertical-align: top;\n",
       "    }\n",
       "\n",
       "    .dataframe thead tr th {\n",
       "        text-align: left;\n",
       "    }\n",
       "</style>\n",
       "<table border=\"1\" class=\"dataframe\">\n",
       "  <thead>\n",
       "    <tr>\n",
       "      <th>date</th>\n",
       "      <th colspan=\"12\" halign=\"left\">2018</th>\n",
       "      <th colspan=\"12\" halign=\"left\">2019</th>\n",
       "    </tr>\n",
       "    <tr>\n",
       "      <th>date</th>\n",
       "      <th>1</th>\n",
       "      <th>2</th>\n",
       "      <th>3</th>\n",
       "      <th>4</th>\n",
       "      <th>5</th>\n",
       "      <th>6</th>\n",
       "      <th>7</th>\n",
       "      <th>8</th>\n",
       "      <th>9</th>\n",
       "      <th>10</th>\n",
       "      <th>11</th>\n",
       "      <th>12</th>\n",
       "      <th>1</th>\n",
       "      <th>2</th>\n",
       "      <th>3</th>\n",
       "      <th>4</th>\n",
       "      <th>5</th>\n",
       "      <th>6</th>\n",
       "      <th>7</th>\n",
       "      <th>8</th>\n",
       "      <th>9</th>\n",
       "      <th>10</th>\n",
       "      <th>11</th>\n",
       "      <th>12</th>\n",
       "    </tr>\n",
       "  </thead>\n",
       "  <tbody>\n",
       "    <tr>\n",
       "      <th>delay</th>\n",
       "      <td>3.174404</td>\n",
       "      <td>4.051883</td>\n",
       "      <td>2.053084</td>\n",
       "      <td>3.548852</td>\n",
       "      <td>5.882243</td>\n",
       "      <td>8.619621</td>\n",
       "      <td>8.786836</td>\n",
       "      <td>9.840758</td>\n",
       "      <td>2.931579</td>\n",
       "      <td>3.033436</td>\n",
       "      <td>5.524317</td>\n",
       "      <td>3.660244</td>\n",
       "      <td>4.559447</td>\n",
       "      <td>8.985047</td>\n",
       "      <td>3.412902</td>\n",
       "      <td>4.588739</td>\n",
       "      <td>6.865583</td>\n",
       "      <td>11.692696</td>\n",
       "      <td>8.755337</td>\n",
       "      <td>7.584691</td>\n",
       "      <td>0.467555</td>\n",
       "      <td>2.621728</td>\n",
       "      <td>0.453388</td>\n",
       "      <td>6.360014</td>\n",
       "    </tr>\n",
       "  </tbody>\n",
       "</table>\n",
       "</div>"
      ],
      "text/plain": [
       "date       2018                                                              \\\n",
       "date         1         2         3         4         5         6         7    \n",
       "delay  3.174404  4.051883  2.053084  3.548852  5.882243  8.619621  8.786836   \n",
       "\n",
       "date                                                         2019            \\\n",
       "date         8         9         10        11        12        1         2    \n",
       "delay  9.840758  2.931579  3.033436  5.524317  3.660244  4.559447  8.985047   \n",
       "\n",
       "date                                                                          \\\n",
       "date         3         4         5          6         7         8         9    \n",
       "delay  3.412902  4.588739  6.865583  11.692696  8.755337  7.584691  0.467555   \n",
       "\n",
       "date                                 \n",
       "date         10        11        12  \n",
       "delay  2.621728  0.453388  6.360014  "
      ]
     },
     "execution_count": 41,
     "metadata": {},
     "output_type": "execute_result"
    }
   ],
   "source": [
    "mean_delays_by_month.T"
   ]
  },
  {
   "cell_type": "code",
   "execution_count": 42,
   "metadata": {},
   "outputs": [
    {
     "data": {
      "text/html": [
       "<div>\n",
       "<style scoped>\n",
       "    .dataframe tbody tr th:only-of-type {\n",
       "        vertical-align: middle;\n",
       "    }\n",
       "\n",
       "    .dataframe tbody tr th {\n",
       "        vertical-align: top;\n",
       "    }\n",
       "\n",
       "    .dataframe thead tr th {\n",
       "        text-align: left;\n",
       "    }\n",
       "</style>\n",
       "<table border=\"1\" class=\"dataframe\">\n",
       "  <thead>\n",
       "    <tr>\n",
       "      <th>date</th>\n",
       "      <th colspan=\"12\" halign=\"left\">2018</th>\n",
       "      <th colspan=\"12\" halign=\"left\">2019</th>\n",
       "    </tr>\n",
       "    <tr>\n",
       "      <th>date</th>\n",
       "      <th>1</th>\n",
       "      <th>2</th>\n",
       "      <th>3</th>\n",
       "      <th>4</th>\n",
       "      <th>5</th>\n",
       "      <th>6</th>\n",
       "      <th>7</th>\n",
       "      <th>8</th>\n",
       "      <th>9</th>\n",
       "      <th>10</th>\n",
       "      <th>11</th>\n",
       "      <th>12</th>\n",
       "      <th>1</th>\n",
       "      <th>2</th>\n",
       "      <th>3</th>\n",
       "      <th>4</th>\n",
       "      <th>5</th>\n",
       "      <th>6</th>\n",
       "      <th>7</th>\n",
       "      <th>8</th>\n",
       "      <th>9</th>\n",
       "      <th>10</th>\n",
       "      <th>11</th>\n",
       "      <th>12</th>\n",
       "    </tr>\n",
       "  </thead>\n",
       "  <tbody>\n",
       "    <tr>\n",
       "      <th>delay</th>\n",
       "      <td>-8.0</td>\n",
       "      <td>-6.0</td>\n",
       "      <td>-6.0</td>\n",
       "      <td>-6.0</td>\n",
       "      <td>-5.0</td>\n",
       "      <td>-4.0</td>\n",
       "      <td>-4.0</td>\n",
       "      <td>-4.0</td>\n",
       "      <td>-7.0</td>\n",
       "      <td>-6.0</td>\n",
       "      <td>-5.0</td>\n",
       "      <td>-6.0</td>\n",
       "      <td>-6.0</td>\n",
       "      <td>-4.0</td>\n",
       "      <td>-6.0</td>\n",
       "      <td>-7.0</td>\n",
       "      <td>-5.0</td>\n",
       "      <td>-3.0</td>\n",
       "      <td>-5.0</td>\n",
       "      <td>-6.0</td>\n",
       "      <td>-8.0</td>\n",
       "      <td>-7.0</td>\n",
       "      <td>-8.0</td>\n",
       "      <td>-5.0</td>\n",
       "    </tr>\n",
       "  </tbody>\n",
       "</table>\n",
       "</div>"
      ],
      "text/plain": [
       "date  2018                                                        2019       \\\n",
       "date    1    2    3    4    5    6    7    8    9    10   11   12   1    2    \n",
       "delay -8.0 -6.0 -6.0 -6.0 -5.0 -4.0 -4.0 -4.0 -7.0 -6.0 -5.0 -6.0 -6.0 -4.0   \n",
       "\n",
       "date                                                     \n",
       "date    3    4    5    6    7    8    9    10   11   12  \n",
       "delay -6.0 -7.0 -5.0 -3.0 -5.0 -6.0 -8.0 -7.0 -8.0 -5.0  "
      ]
     },
     "execution_count": 42,
     "metadata": {},
     "output_type": "execute_result"
    }
   ],
   "source": [
    "median_delays_by_month.T"
   ]
  },
  {
   "cell_type": "code",
   "execution_count": null,
   "metadata": {},
   "outputs": [],
   "source": []
  },
  {
   "cell_type": "markdown",
   "metadata": {},
   "source": [
    "#### **Task 3**: Does the weather affect the delay? \n",
    "Use the API to pull the weather information for flights. There is no need to get weather for ALL flights. We can choose the right representative sample. Let's focus on four weather types:\n",
    "- sunny\n",
    "- cloudy\n",
    "- rainy\n",
    "- snow.\n",
    "Test the hypothesis that these 4 delays are from the same distribution. If they are not, which ones are significantly different?"
   ]
  },
  {
   "cell_type": "code",
   "execution_count": null,
   "metadata": {},
   "outputs": [],
   "source": [
    "from pandas import json_normalize\n",
    "import os\n",
    "import requests as re\n",
    "import json\n",
    "from IPython.display import JSON\n",
    "import time\n",
    "API_KEY = os.environ[\"VISUAL_CROSSING_API_KEY\"]"
   ]
  },
  {
   "cell_type": "code",
   "execution_count": null,
   "metadata": {},
   "outputs": [],
   "source": [
    "def get_weather(row):\n",
    "    \n",
    "    location = row['city']\n",
    "    year = row['Year']\n",
    "    month = row['Month']\n",
    "    day = row['Day']\n",
    "    hour = int(row['Hour']/100)\n",
    "    date = f'{year}-{month}-{day}T{hour}:00:00'\n",
    "    fs_url = f'https://weather.visualcrossing.com/VisualCrossingWebServices/rest/services/timeline/{location}/{date}?key={API_KEY}&include=current'\n",
    "    res = re.get(fs_url)\n",
    "    weather = res.json()\n",
    "    try:\n",
    "        weather_at_time = weather['currentConditions']['conditions']\n",
    "    except:\n",
    "        weather_at_time = weather['days'][0]['conditions']\n",
    "    return weather_at_time"
   ]
  },
  {
   "cell_type": "code",
   "execution_count": null,
   "metadata": {},
   "outputs": [],
   "source": []
  },
  {
   "cell_type": "markdown",
   "metadata": {},
   "source": [
    "#### **Task 4**: How taxi times changing during the day? Does higher traffic lead to bigger taxi times?"
   ]
  },
  {
   "cell_type": "code",
   "execution_count": 13,
   "metadata": {},
   "outputs": [],
   "source": [
    "column_names = ['dep_time','arr_time','taxi_out','taxi_in']\n",
    "taxi = postgresql_to_dataframe(conn, 'SELECT dep_time, arr_time, taxi_out, taxi_in FROM flights', column_names)"
   ]
  },
  {
   "cell_type": "code",
   "execution_count": 47,
   "metadata": {},
   "outputs": [],
   "source": [
    "taxi_no_na = taxi.dropna()"
   ]
  },
  {
   "cell_type": "code",
   "execution_count": 56,
   "metadata": {},
   "outputs": [
    {
     "data": {
      "text/plain": [
       "(15927485, 4)"
      ]
     },
     "execution_count": 56,
     "metadata": {},
     "output_type": "execute_result"
    }
   ],
   "source": [
    "taxi.shape"
   ]
  },
  {
   "cell_type": "code",
   "execution_count": 55,
   "metadata": {},
   "outputs": [
    {
     "data": {
      "text/plain": [
       "(15646311, 4)"
      ]
     },
     "execution_count": 55,
     "metadata": {},
     "output_type": "execute_result"
    }
   ],
   "source": [
    "taxi_no_na.shape"
   ]
  },
  {
   "cell_type": "code",
   "execution_count": 49,
   "metadata": {},
   "outputs": [],
   "source": [
    "dep_taxi = taxi_no_na[['dep_time','taxi_out']].copy(deep = True)\n",
    "dep_taxi['dep_time'] = dep_taxi['dep_time'] / 100\n",
    "dep_taxi['dep_time'] = dep_taxi['dep_time'].astype(int)\n",
    "dep_taxi = dep_taxi.set_index('dep_time')"
   ]
  },
  {
   "cell_type": "code",
   "execution_count": 50,
   "metadata": {},
   "outputs": [],
   "source": [
    "arr_taxi = taxi_no_na[['arr_time','taxi_in']].copy(deep = True)\n",
    "arr_taxi['arr_time'] = arr_taxi['arr_time'] / 100\n",
    "arr_taxi['arr_time'] = arr_taxi['arr_time'].astype(int)\n",
    "arr_taxi = arr_taxi.set_index('arr_time')"
   ]
  },
  {
   "cell_type": "code",
   "execution_count": 51,
   "metadata": {},
   "outputs": [],
   "source": [
    "dep_taxi_hourly_mean = dep_taxi.groupby(dep_taxi.index).mean()"
   ]
  },
  {
   "cell_type": "code",
   "execution_count": 52,
   "metadata": {},
   "outputs": [],
   "source": [
    "arr_taxi_hourly_mean = arr_taxi.groupby(arr_taxi.index).mean()"
   ]
  },
  {
   "cell_type": "code",
   "execution_count": 53,
   "metadata": {},
   "outputs": [
    {
     "data": {
      "text/html": [
       "<div>\n",
       "<style scoped>\n",
       "    .dataframe tbody tr th:only-of-type {\n",
       "        vertical-align: middle;\n",
       "    }\n",
       "\n",
       "    .dataframe tbody tr th {\n",
       "        vertical-align: top;\n",
       "    }\n",
       "\n",
       "    .dataframe thead th {\n",
       "        text-align: right;\n",
       "    }\n",
       "</style>\n",
       "<table border=\"1\" class=\"dataframe\">\n",
       "  <thead>\n",
       "    <tr style=\"text-align: right;\">\n",
       "      <th>dep_time</th>\n",
       "      <th>0</th>\n",
       "      <th>1</th>\n",
       "      <th>2</th>\n",
       "      <th>3</th>\n",
       "      <th>4</th>\n",
       "      <th>5</th>\n",
       "      <th>6</th>\n",
       "      <th>7</th>\n",
       "      <th>8</th>\n",
       "      <th>9</th>\n",
       "      <th>10</th>\n",
       "      <th>11</th>\n",
       "      <th>12</th>\n",
       "      <th>13</th>\n",
       "      <th>14</th>\n",
       "      <th>15</th>\n",
       "      <th>16</th>\n",
       "      <th>17</th>\n",
       "      <th>18</th>\n",
       "      <th>19</th>\n",
       "      <th>20</th>\n",
       "      <th>21</th>\n",
       "      <th>22</th>\n",
       "      <th>23</th>\n",
       "      <th>24</th>\n",
       "    </tr>\n",
       "  </thead>\n",
       "  <tbody>\n",
       "    <tr>\n",
       "      <th>taxi_out</th>\n",
       "      <td>15.832357</td>\n",
       "      <td>14.592141</td>\n",
       "      <td>13.394658</td>\n",
       "      <td>12.54128</td>\n",
       "      <td>14.506214</td>\n",
       "      <td>16.025582</td>\n",
       "      <td>16.779315</td>\n",
       "      <td>17.779268</td>\n",
       "      <td>19.380408</td>\n",
       "      <td>18.493286</td>\n",
       "      <td>17.767804</td>\n",
       "      <td>17.233944</td>\n",
       "      <td>16.871219</td>\n",
       "      <td>16.646071</td>\n",
       "      <td>16.86035</td>\n",
       "      <td>17.610989</td>\n",
       "      <td>17.322199</td>\n",
       "      <td>17.849931</td>\n",
       "      <td>18.407493</td>\n",
       "      <td>17.591122</td>\n",
       "      <td>18.161761</td>\n",
       "      <td>17.612785</td>\n",
       "      <td>17.113212</td>\n",
       "      <td>16.613118</td>\n",
       "      <td>16.720984</td>\n",
       "    </tr>\n",
       "  </tbody>\n",
       "</table>\n",
       "</div>"
      ],
      "text/plain": [
       "dep_time         0          1          2         3          4          5   \\\n",
       "taxi_out  15.832357  14.592141  13.394658  12.54128  14.506214  16.025582   \n",
       "\n",
       "dep_time         6          7          8          9          10         11  \\\n",
       "taxi_out  16.779315  17.779268  19.380408  18.493286  17.767804  17.233944   \n",
       "\n",
       "dep_time         12         13        14         15         16         17  \\\n",
       "taxi_out  16.871219  16.646071  16.86035  17.610989  17.322199  17.849931   \n",
       "\n",
       "dep_time         18         19         20         21         22         23  \\\n",
       "taxi_out  18.407493  17.591122  18.161761  17.612785  17.113212  16.613118   \n",
       "\n",
       "dep_time         24  \n",
       "taxi_out  16.720984  "
      ]
     },
     "execution_count": 53,
     "metadata": {},
     "output_type": "execute_result"
    }
   ],
   "source": [
    "dep_taxi_hourly_mean.T"
   ]
  },
  {
   "cell_type": "code",
   "execution_count": 54,
   "metadata": {},
   "outputs": [
    {
     "data": {
      "text/html": [
       "<div>\n",
       "<style scoped>\n",
       "    .dataframe tbody tr th:only-of-type {\n",
       "        vertical-align: middle;\n",
       "    }\n",
       "\n",
       "    .dataframe tbody tr th {\n",
       "        vertical-align: top;\n",
       "    }\n",
       "\n",
       "    .dataframe thead th {\n",
       "        text-align: right;\n",
       "    }\n",
       "</style>\n",
       "<table border=\"1\" class=\"dataframe\">\n",
       "  <thead>\n",
       "    <tr style=\"text-align: right;\">\n",
       "      <th>arr_time</th>\n",
       "      <th>0</th>\n",
       "      <th>1</th>\n",
       "      <th>2</th>\n",
       "      <th>3</th>\n",
       "      <th>4</th>\n",
       "      <th>5</th>\n",
       "      <th>6</th>\n",
       "      <th>7</th>\n",
       "      <th>8</th>\n",
       "      <th>9</th>\n",
       "      <th>10</th>\n",
       "      <th>11</th>\n",
       "      <th>12</th>\n",
       "      <th>13</th>\n",
       "      <th>14</th>\n",
       "      <th>15</th>\n",
       "      <th>16</th>\n",
       "      <th>17</th>\n",
       "      <th>18</th>\n",
       "      <th>19</th>\n",
       "      <th>20</th>\n",
       "      <th>21</th>\n",
       "      <th>22</th>\n",
       "      <th>23</th>\n",
       "      <th>24</th>\n",
       "    </tr>\n",
       "  </thead>\n",
       "  <tbody>\n",
       "    <tr>\n",
       "      <th>taxi_in</th>\n",
       "      <td>7.244766</td>\n",
       "      <td>7.14225</td>\n",
       "      <td>7.028483</td>\n",
       "      <td>6.988308</td>\n",
       "      <td>6.615069</td>\n",
       "      <td>7.093966</td>\n",
       "      <td>7.901549</td>\n",
       "      <td>7.892096</td>\n",
       "      <td>8.525365</td>\n",
       "      <td>8.081947</td>\n",
       "      <td>7.882279</td>\n",
       "      <td>7.290834</td>\n",
       "      <td>7.271266</td>\n",
       "      <td>7.262956</td>\n",
       "      <td>7.40267</td>\n",
       "      <td>7.369924</td>\n",
       "      <td>7.176246</td>\n",
       "      <td>7.703222</td>\n",
       "      <td>7.997614</td>\n",
       "      <td>8.468218</td>\n",
       "      <td>8.333433</td>\n",
       "      <td>7.952396</td>\n",
       "      <td>7.394409</td>\n",
       "      <td>6.930329</td>\n",
       "      <td>7.247988</td>\n",
       "    </tr>\n",
       "  </tbody>\n",
       "</table>\n",
       "</div>"
      ],
      "text/plain": [
       "arr_time        0        1         2         3         4         5         6   \\\n",
       "taxi_in   7.244766  7.14225  7.028483  6.988308  6.615069  7.093966  7.901549   \n",
       "\n",
       "arr_time        7         8         9         10        11        12  \\\n",
       "taxi_in   7.892096  8.525365  8.081947  7.882279  7.290834  7.271266   \n",
       "\n",
       "arr_time        13       14        15        16        17        18        19  \\\n",
       "taxi_in   7.262956  7.40267  7.369924  7.176246  7.703222  7.997614  8.468218   \n",
       "\n",
       "arr_time        20        21        22        23        24  \n",
       "taxi_in   8.333433  7.952396  7.394409  6.930329  7.247988  "
      ]
     },
     "execution_count": 54,
     "metadata": {},
     "output_type": "execute_result"
    }
   ],
   "source": [
    "arr_taxi_hourly_mean.T"
   ]
  },
  {
   "cell_type": "markdown",
   "metadata": {},
   "source": [
    "#### **Task 5**: What is the average percentage of delays that is already created before departure? (aka are arrival delays caused by departure delays?) Are airlines able to lower the delay during the flights?"
   ]
  },
  {
   "cell_type": "code",
   "execution_count": 28,
   "metadata": {},
   "outputs": [],
   "source": [
    "column_names = ['arr_delay','dep_delay']\n",
    "arr_vs_dep_delay = postgresql_to_dataframe(conn, 'SELECT arr_delay, dep_delay FROM flights', column_names)"
   ]
  },
  {
   "cell_type": "code",
   "execution_count": 29,
   "metadata": {},
   "outputs": [],
   "source": [
    "percentage_delays_bef_dep = arr_vs_dep_delay[arr_vs_dep_delay['arr_delay'] == arr_vs_dep_delay['dep_delay']].count() / arr_vs_dep_delay.count()"
   ]
  },
  {
   "cell_type": "code",
   "execution_count": 30,
   "metadata": {},
   "outputs": [
    {
     "data": {
      "text/plain": [
       "2.832494468242013"
      ]
     },
     "execution_count": 30,
     "metadata": {},
     "output_type": "execute_result"
    }
   ],
   "source": [
    "percentage_delays_bef_dep['arr_delay'] * 100"
   ]
  },
  {
   "cell_type": "code",
   "execution_count": 31,
   "metadata": {},
   "outputs": [],
   "source": [
    "delays_decreased = arr_vs_dep_delay[arr_vs_dep_delay['arr_delay'] < arr_vs_dep_delay['dep_delay']].count() / arr_vs_dep_delay.count()"
   ]
  },
  {
   "cell_type": "code",
   "execution_count": 32,
   "metadata": {},
   "outputs": [
    {
     "data": {
      "text/plain": [
       "71.01194877655821"
      ]
     },
     "execution_count": 32,
     "metadata": {},
     "output_type": "execute_result"
    }
   ],
   "source": [
    "delays_decreased['arr_delay'] * 100"
   ]
  },
  {
   "cell_type": "markdown",
   "metadata": {},
   "source": [
    "#### **Task 6**: How many states cover 50% of US air traffic? "
   ]
  },
  {
   "cell_type": "code",
   "execution_count": null,
   "metadata": {},
   "outputs": [],
   "source": []
  },
  {
   "cell_type": "code",
   "execution_count": null,
   "metadata": {},
   "outputs": [],
   "source": []
  },
  {
   "cell_type": "markdown",
   "metadata": {},
   "source": [
    "#### **Task 7**: Test the hypothesis whether planes fly faster when there is the departure delay? "
   ]
  },
  {
   "cell_type": "code",
   "execution_count": null,
   "metadata": {},
   "outputs": [],
   "source": []
  },
  {
   "cell_type": "code",
   "execution_count": null,
   "metadata": {},
   "outputs": [],
   "source": []
  },
  {
   "cell_type": "markdown",
   "metadata": {},
   "source": [
    "#### **Task 8**: When (which hour) do most 'LONG', 'SHORT', 'MEDIUM' haul flights take off?"
   ]
  },
  {
   "cell_type": "code",
   "execution_count": null,
   "metadata": {},
   "outputs": [],
   "source": []
  },
  {
   "cell_type": "code",
   "execution_count": null,
   "metadata": {},
   "outputs": [],
   "source": []
  },
  {
   "cell_type": "markdown",
   "metadata": {},
   "source": [
    "#### **Task 9**: Find the top 10 the bussiest airports. Does the biggest number of flights mean that the biggest number of passengers went through the particular airport? How much traffic do these 10 airports cover?"
   ]
  },
  {
   "cell_type": "code",
   "execution_count": null,
   "metadata": {},
   "outputs": [],
   "source": []
  },
  {
   "cell_type": "code",
   "execution_count": null,
   "metadata": {},
   "outputs": [],
   "source": []
  },
  {
   "cell_type": "markdown",
   "metadata": {},
   "source": [
    "#### **Task 10**: Do bigger delays lead to bigger fuel comsumption per passenger? \n",
    "We need to do four things to answer this as accurate as possible:\n",
    "- Find out average monthly delay per air carrier (monthly delay is sum of all delays in 1 month)\n",
    "- Find out distance covered monthly by different air carriers\n",
    "- Find out number of passengers that were carried by different air carriers\n",
    "- Find out total fuel comsumption per air carrier.\n",
    "\n",
    "Use this information to get the average fuel comsumption per passenger per km. Is this higher for the airlines with bigger average delays?"
   ]
  },
  {
   "cell_type": "code",
   "execution_count": null,
   "metadata": {},
   "outputs": [],
   "source": []
  },
  {
   "cell_type": "code",
   "execution_count": null,
   "metadata": {},
   "outputs": [],
   "source": []
  }
 ],
 "metadata": {
  "kernelspec": {
   "display_name": "Python 3",
   "language": "python",
   "name": "python3"
  },
  "language_info": {
   "codemirror_mode": {
    "name": "ipython",
    "version": 3
   },
   "file_extension": ".py",
   "mimetype": "text/x-python",
   "name": "python",
   "nbconvert_exporter": "python",
   "pygments_lexer": "ipython3",
   "version": "3.8.11"
  },
  "toc": {
   "base_numbering": 1,
   "nav_menu": {},
   "number_sections": true,
   "sideBar": true,
   "skip_h1_title": false,
   "title_cell": "Table of Contents",
   "title_sidebar": "Contents",
   "toc_cell": false,
   "toc_position": {},
   "toc_section_display": true,
   "toc_window_display": false
  },
  "varInspector": {
   "cols": {
    "lenName": 16,
    "lenType": 16,
    "lenVar": 40
   },
   "kernels_config": {
    "python": {
     "delete_cmd_postfix": "",
     "delete_cmd_prefix": "del ",
     "library": "var_list.py",
     "varRefreshCmd": "print(var_dic_list())"
    },
    "r": {
     "delete_cmd_postfix": ") ",
     "delete_cmd_prefix": "rm(",
     "library": "var_list.r",
     "varRefreshCmd": "cat(var_dic_list()) "
    }
   },
   "types_to_exclude": [
    "module",
    "function",
    "builtin_function_or_method",
    "instance",
    "_Feature"
   ],
   "window_display": false
  }
 },
 "nbformat": 4,
 "nbformat_minor": 4
}
