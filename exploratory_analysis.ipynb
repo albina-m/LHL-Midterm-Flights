{
  "nbformat": 4,
  "nbformat_minor": 0,
  "metadata": {
    "kernelspec": {
      "display_name": "Python 3",
      "language": "python",
      "name": "python3"
    },
    "language_info": {
      "codemirror_mode": {
        "name": "ipython",
        "version": 3
      },
      "file_extension": ".py",
      "mimetype": "text/x-python",
      "name": "python",
      "nbconvert_exporter": "python",
      "pygments_lexer": "ipython3",
      "version": "3.8.11"
    },
    "toc": {
      "base_numbering": 1,
      "nav_menu": {},
      "number_sections": true,
      "sideBar": true,
      "skip_h1_title": false,
      "title_cell": "Table of Contents",
      "title_sidebar": "Contents",
      "toc_cell": false,
      "toc_position": {},
      "toc_section_display": true,
      "toc_window_display": false
    },
    "varInspector": {
      "cols": {
        "lenName": 16,
        "lenType": 16,
        "lenVar": 40
      },
      "kernels_config": {
        "python": {
          "delete_cmd_postfix": "",
          "delete_cmd_prefix": "del ",
          "library": "var_list.py",
          "varRefreshCmd": "print(var_dic_list())"
        },
        "r": {
          "delete_cmd_postfix": ") ",
          "delete_cmd_prefix": "rm(",
          "library": "var_list.r",
          "varRefreshCmd": "cat(var_dic_list()) "
        }
      },
      "types_to_exclude": [
        "module",
        "function",
        "builtin_function_or_method",
        "instance",
        "_Feature"
      ],
      "window_display": false
    },
    "colab": {
      "name": "exploratory_analysis.ipynb",
      "provenance": [],
      "collapsed_sections": [
        "eQlZ6LWTHYlX"
      ]
    }
  },
  "cells": [
    {
      "cell_type": "markdown",
      "metadata": {
        "id": "-SJsVNAEHYk6"
      },
      "source": [
        "## Exploratory Data Analysis\n",
        "\n",
        "Use this notebook to get familiar with the datasets we have. There is 10 questions we need to answer during the EDA.\n",
        "\n",
        "\n",
        "We shouldn't limit our EDA to these 10 questions. Let's be creative :)."
      ]
    },
    {
      "cell_type": "code",
      "metadata": {
        "colab": {
          "base_uri": "https://localhost:8080/"
        },
        "id": "PLvkB8zhHYk-",
        "outputId": "99917480-0578-43bd-ed3b-b7fefc17c435"
      },
      "source": [
        "import psycopg2\n",
        "import pandas as pd\n",
        "import numpy as np\n",
        "from scipy import stats\n",
        "import seaborn as sns\n",
        "import plotly.graph_objs as go\n",
        "import matplotlib.pyplot as plt\n",
        "conn = psycopg2.connect(database='mid_term_project',user='lhl_student',password='lhl_student', host='mid-term-project.ca2jkepgjpne.us-east-2.rds.amazonaws.com', port='5432')\n",
        "\n",
        "print('Connection opened successfully')"
      ],
      "execution_count": 1,
      "outputs": [
        {
          "output_type": "stream",
          "text": [
            "/usr/local/lib/python3.7/dist-packages/psycopg2/__init__.py:144: UserWarning: The psycopg2 wheel package will be renamed from release 2.8; in order to keep installing from binary please use \"pip install psycopg2-binary\" instead. For details see: <http://initd.org/psycopg/docs/install.html#binary-install-from-pypi>.\n",
            "  \"\"\")\n"
          ],
          "name": "stderr"
        },
        {
          "output_type": "stream",
          "text": [
            "Connection opened successfully\n"
          ],
          "name": "stdout"
        }
      ]
    },
    {
      "cell_type": "code",
      "metadata": {
        "id": "mlzSzx__HYlA"
      },
      "source": [
        "def postgresql_to_dataframe(conn, select_query, column_names):\n",
        "    \"\"\"\n",
        "    Tranform a SELECT query into a pandas dataframe\n",
        "    \"\"\"\n",
        "    cursor = conn.cursor()\n",
        "    try:\n",
        "        cursor.execute(select_query)\n",
        "    except (Exception, psycopg2.DatabaseError) as error:\n",
        "        print(\"Error: %s\" % error)\n",
        "        cursor.close()\n",
        "        return 1\n",
        "    \n",
        "    # Naturally we get a list of tupples\n",
        "    tupples = cursor.fetchall()\n",
        "    cursor.close()\n",
        "    \n",
        "    # We just need to turn it into a pandas dataframe\n",
        "    df = pd.DataFrame(tupples, columns=column_names)\n",
        "    return df\n"
      ],
      "execution_count": 2,
      "outputs": []
    },
    {
      "cell_type": "code",
      "metadata": {
        "id": "wFeKTZjvHYlA"
      },
      "source": [
        ""
      ],
      "execution_count": null,
      "outputs": []
    },
    {
      "cell_type": "markdown",
      "metadata": {
        "id": "HB4jHyK-HYlB"
      },
      "source": [
        "#### **Task 1**: Test the hypothesis that the delay is from Normal distribution. and that **mean** of the delay is 0. Be careful about the outliers."
      ]
    },
    {
      "cell_type": "code",
      "metadata": {
        "id": "jp-RY6waHYlC"
      },
      "source": [
        "column_names = ['arr_delay']\n",
        "delays = postgresql_to_dataframe(conn, 'SELECT arr_delay FROM flights', column_names)"
      ],
      "execution_count": 3,
      "outputs": []
    },
    {
      "cell_type": "code",
      "metadata": {
        "colab": {
          "base_uri": "https://localhost:8080/"
        },
        "id": "y8td2_BDHYlE",
        "outputId": "b90a9ef1-95a3-4803-88e6-8089af8e81aa"
      },
      "source": [
        "print(delays.shape)\n",
        "print(delays.mean())"
      ],
      "execution_count": 4,
      "outputs": [
        {
          "output_type": "stream",
          "text": [
            "(15927485, 1)\n",
            "arr_delay    5.475932\n",
            "dtype: float64\n"
          ],
          "name": "stdout"
        }
      ]
    },
    {
      "cell_type": "code",
      "metadata": {
        "id": "Uge576x3HYlF"
      },
      "source": [
        "delays = delays.fillna(0)"
      ],
      "execution_count": 5,
      "outputs": []
    },
    {
      "cell_type": "code",
      "metadata": {
        "id": "l3ONg4gnHYlG"
      },
      "source": [
        "delays_nooutliers = delays[(delays['arr_delay'] < 250)&(delays['arr_delay'] > -60)]"
      ],
      "execution_count": 6,
      "outputs": []
    },
    {
      "cell_type": "code",
      "metadata": {
        "colab": {
          "base_uri": "https://localhost:8080/"
        },
        "id": "wFguF7s0HYlH",
        "outputId": "d2a99a01-aec3-4823-ab9a-aa1b14989a8c"
      },
      "source": [
        "print(delays_nooutliers['arr_delay'].describe())\n",
        "shapiro_test = stats.shapiro(delays_nooutliers['arr_delay'])\n",
        "shapiro_test"
      ],
      "execution_count": 7,
      "outputs": [
        {
          "output_type": "stream",
          "text": [
            "count    1.583836e+07\n",
            "mean     3.064837e+00\n",
            "std      3.413541e+01\n",
            "min     -5.900000e+01\n",
            "25%     -1.500000e+01\n",
            "50%     -6.000000e+00\n",
            "75%      7.000000e+00\n",
            "max      2.490000e+02\n",
            "Name: arr_delay, dtype: float64\n"
          ],
          "name": "stdout"
        },
        {
          "output_type": "stream",
          "text": [
            "/usr/local/lib/python3.7/dist-packages/scipy/stats/morestats.py:1676: UserWarning: p-value may not be accurate for N > 5000.\n",
            "  warnings.warn(\"p-value may not be accurate for N > 5000.\")\n"
          ],
          "name": "stderr"
        },
        {
          "output_type": "execute_result",
          "data": {
            "text/plain": [
              "(0.7248700857162476, 0.0)"
            ]
          },
          "metadata": {},
          "execution_count": 7
        }
      ]
    },
    {
      "cell_type": "code",
      "metadata": {
        "colab": {
          "base_uri": "https://localhost:8080/",
          "height": 280
        },
        "id": "Nza9XzrlHYlI",
        "outputId": "00e2712a-5a22-4665-ffd3-03bcd960adde"
      },
      "source": [
        "sns.histplot(data=delays_nooutliers, x='arr_delay')\n",
        "plt.show()"
      ],
      "execution_count": 8,
      "outputs": [
        {
          "output_type": "display_data",
          "data": {
            "image/png": "[encoded data removed]",
            "text/plain": [
              "<Figure size 432x288 with 1 Axes>"
            ]
          },
          "metadata": {
            "needs_background": "light"
          }
        }
      ]
    },
    {
      "cell_type": "code",
      "metadata": {
        "colab": {
          "base_uri": "https://localhost:8080/"
        },
        "id": "2Vplq8yNHYlI",
        "outputId": "4b409c5b-4047-48e6-8ec1-8258534b86bc"
      },
      "source": [
        "stats.ttest_1samp(delays_nooutliers['arr_delay'], 0)"
      ],
      "execution_count": 9,
      "outputs": [
        {
          "output_type": "execute_result",
          "data": {
            "text/plain": [
              "Ttest_1sampResult(statistic=357.31997227134013, pvalue=0.0)"
            ]
          },
          "metadata": {},
          "execution_count": 9
        }
      ]
    },
    {
      "cell_type": "markdown",
      "metadata": {
        "tags": [],
        "id": "2Jbf-M_aHYlJ"
      },
      "source": [
        "#### **Task 2**: Is average/median monthly delay different during the year? If yes, which are months with the biggest delays and what could be the reason?"
      ]
    },
    {
      "cell_type": "code",
      "metadata": {
        "id": "KTqcqwHoHYlJ"
      },
      "source": [
        "column_names = ['date','delay']\n",
        "delays = postgresql_to_dataframe(conn, 'SELECT fl_date, arr_delay FROM flights', column_names)\n",
        "delays = delays.fillna(0)\n",
        "delays['date'] = pd.to_datetime(delays['date'])\n",
        "delays = delays.set_index('date')"
      ],
      "execution_count": 10,
      "outputs": []
    },
    {
      "cell_type": "code",
      "metadata": {
        "id": "Y_8aXFG3HYlK"
      },
      "source": [
        ""
      ],
      "execution_count": null,
      "outputs": []
    },
    {
      "cell_type": "code",
      "metadata": {
        "id": "lJCQ4KOPHYlK"
      },
      "source": [
        "median_delays_by_month = delays.groupby([(delays.index.year),(delays.index.month)]).median()\n",
        "mean_delays_by_month = delays.groupby([(delays.index.year),(delays.index.month)]).mean()"
      ],
      "execution_count": 11,
      "outputs": []
    },
    {
      "cell_type": "code",
      "metadata": {
        "colab": {
          "base_uri": "https://localhost:8080/",
          "height": 819
        },
        "id": "UM3NJPKJHYlK",
        "outputId": "749f2b21-7030-45e8-93cc-62caeb6aff06"
      },
      "source": [
        "mean_delays_by_month"
      ],
      "execution_count": 12,
      "outputs": [
        {
          "output_type": "execute_result",
          "data": {
            "text/html": [
              "<div>\n",
              "<style scoped>\n",
              "    .dataframe tbody tr th:only-of-type {\n",
              "        vertical-align: middle;\n",
              "    }\n",
              "\n",
              "    .dataframe tbody tr th {\n",
              "        vertical-align: top;\n",
              "    }\n",
              "\n",
              "    .dataframe thead th {\n",
              "        text-align: right;\n",
              "    }\n",
              "</style>\n",
              "<table border=\"1\" class=\"dataframe\">\n",
              "  <thead>\n",
              "    <tr style=\"text-align: right;\">\n",
              "      <th></th>\n",
              "      <th></th>\n",
              "      <th>delay</th>\n",
              "    </tr>\n",
              "    <tr>\n",
              "      <th>date</th>\n",
              "      <th>date</th>\n",
              "      <th></th>\n",
              "    </tr>\n",
              "  </thead>\n",
              "  <tbody>\n",
              "    <tr>\n",
              "      <th rowspan=\"12\" valign=\"top\">2018</th>\n",
              "      <th>1</th>\n",
              "      <td>3.174404</td>\n",
              "    </tr>\n",
              "    <tr>\n",
              "      <th>2</th>\n",
              "      <td>4.051883</td>\n",
              "    </tr>\n",
              "    <tr>\n",
              "      <th>3</th>\n",
              "      <td>2.053084</td>\n",
              "    </tr>\n",
              "    <tr>\n",
              "      <th>4</th>\n",
              "      <td>3.548852</td>\n",
              "    </tr>\n",
              "    <tr>\n",
              "      <th>5</th>\n",
              "      <td>5.882243</td>\n",
              "    </tr>\n",
              "    <tr>\n",
              "      <th>6</th>\n",
              "      <td>8.619621</td>\n",
              "    </tr>\n",
              "    <tr>\n",
              "      <th>7</th>\n",
              "      <td>8.786836</td>\n",
              "    </tr>\n",
              "    <tr>\n",
              "      <th>8</th>\n",
              "      <td>9.840758</td>\n",
              "    </tr>\n",
              "    <tr>\n",
              "      <th>9</th>\n",
              "      <td>2.931579</td>\n",
              "    </tr>\n",
              "    <tr>\n",
              "      <th>10</th>\n",
              "      <td>3.033436</td>\n",
              "    </tr>\n",
              "    <tr>\n",
              "      <th>11</th>\n",
              "      <td>5.524317</td>\n",
              "    </tr>\n",
              "    <tr>\n",
              "      <th>12</th>\n",
              "      <td>3.660244</td>\n",
              "    </tr>\n",
              "    <tr>\n",
              "      <th rowspan=\"12\" valign=\"top\">2019</th>\n",
              "      <th>1</th>\n",
              "      <td>4.559447</td>\n",
              "    </tr>\n",
              "    <tr>\n",
              "      <th>2</th>\n",
              "      <td>8.985047</td>\n",
              "    </tr>\n",
              "    <tr>\n",
              "      <th>3</th>\n",
              "      <td>3.412902</td>\n",
              "    </tr>\n",
              "    <tr>\n",
              "      <th>4</th>\n",
              "      <td>4.588739</td>\n",
              "    </tr>\n",
              "    <tr>\n",
              "      <th>5</th>\n",
              "      <td>6.865583</td>\n",
              "    </tr>\n",
              "    <tr>\n",
              "      <th>6</th>\n",
              "      <td>11.692696</td>\n",
              "    </tr>\n",
              "    <tr>\n",
              "      <th>7</th>\n",
              "      <td>8.755337</td>\n",
              "    </tr>\n",
              "    <tr>\n",
              "      <th>8</th>\n",
              "      <td>7.584691</td>\n",
              "    </tr>\n",
              "    <tr>\n",
              "      <th>9</th>\n",
              "      <td>0.467555</td>\n",
              "    </tr>\n",
              "    <tr>\n",
              "      <th>10</th>\n",
              "      <td>2.621728</td>\n",
              "    </tr>\n",
              "    <tr>\n",
              "      <th>11</th>\n",
              "      <td>0.453388</td>\n",
              "    </tr>\n",
              "    <tr>\n",
              "      <th>12</th>\n",
              "      <td>6.360014</td>\n",
              "    </tr>\n",
              "  </tbody>\n",
              "</table>\n",
              "</div>"
            ],
            "text/plain": [
              "               delay\n",
              "date date           \n",
              "2018 1      3.174404\n",
              "     2      4.051883\n",
              "     3      2.053084\n",
              "     4      3.548852\n",
              "     5      5.882243\n",
              "     6      8.619621\n",
              "     7      8.786836\n",
              "     8      9.840758\n",
              "     9      2.931579\n",
              "     10     3.033436\n",
              "     11     5.524317\n",
              "     12     3.660244\n",
              "2019 1      4.559447\n",
              "     2      8.985047\n",
              "     3      3.412902\n",
              "     4      4.588739\n",
              "     5      6.865583\n",
              "     6     11.692696\n",
              "     7      8.755337\n",
              "     8      7.584691\n",
              "     9      0.467555\n",
              "     10     2.621728\n",
              "     11     0.453388\n",
              "     12     6.360014"
            ]
          },
          "metadata": {},
          "execution_count": 12
        }
      ]
    },
    {
      "cell_type": "code",
      "metadata": {
        "colab": {
          "base_uri": "https://localhost:8080/",
          "height": 819
        },
        "id": "XmKrgLboHYlK",
        "outputId": "84978a19-d586-472b-f323-abe2d62f4434"
      },
      "source": [
        "median_delays_by_month"
      ],
      "execution_count": 13,
      "outputs": [
        {
          "output_type": "execute_result",
          "data": {
            "text/html": [
              "<div>\n",
              "<style scoped>\n",
              "    .dataframe tbody tr th:only-of-type {\n",
              "        vertical-align: middle;\n",
              "    }\n",
              "\n",
              "    .dataframe tbody tr th {\n",
              "        vertical-align: top;\n",
              "    }\n",
              "\n",
              "    .dataframe thead th {\n",
              "        text-align: right;\n",
              "    }\n",
              "</style>\n",
              "<table border=\"1\" class=\"dataframe\">\n",
              "  <thead>\n",
              "    <tr style=\"text-align: right;\">\n",
              "      <th></th>\n",
              "      <th></th>\n",
              "      <th>delay</th>\n",
              "    </tr>\n",
              "    <tr>\n",
              "      <th>date</th>\n",
              "      <th>date</th>\n",
              "      <th></th>\n",
              "    </tr>\n",
              "  </thead>\n",
              "  <tbody>\n",
              "    <tr>\n",
              "      <th rowspan=\"12\" valign=\"top\">2018</th>\n",
              "      <th>1</th>\n",
              "      <td>-8.0</td>\n",
              "    </tr>\n",
              "    <tr>\n",
              "      <th>2</th>\n",
              "      <td>-6.0</td>\n",
              "    </tr>\n",
              "    <tr>\n",
              "      <th>3</th>\n",
              "      <td>-6.0</td>\n",
              "    </tr>\n",
              "    <tr>\n",
              "      <th>4</th>\n",
              "      <td>-6.0</td>\n",
              "    </tr>\n",
              "    <tr>\n",
              "      <th>5</th>\n",
              "      <td>-5.0</td>\n",
              "    </tr>\n",
              "    <tr>\n",
              "      <th>6</th>\n",
              "      <td>-4.0</td>\n",
              "    </tr>\n",
              "    <tr>\n",
              "      <th>7</th>\n",
              "      <td>-4.0</td>\n",
              "    </tr>\n",
              "    <tr>\n",
              "      <th>8</th>\n",
              "      <td>-4.0</td>\n",
              "    </tr>\n",
              "    <tr>\n",
              "      <th>9</th>\n",
              "      <td>-7.0</td>\n",
              "    </tr>\n",
              "    <tr>\n",
              "      <th>10</th>\n",
              "      <td>-6.0</td>\n",
              "    </tr>\n",
              "    <tr>\n",
              "      <th>11</th>\n",
              "      <td>-5.0</td>\n",
              "    </tr>\n",
              "    <tr>\n",
              "      <th>12</th>\n",
              "      <td>-6.0</td>\n",
              "    </tr>\n",
              "    <tr>\n",
              "      <th rowspan=\"12\" valign=\"top\">2019</th>\n",
              "      <th>1</th>\n",
              "      <td>-6.0</td>\n",
              "    </tr>\n",
              "    <tr>\n",
              "      <th>2</th>\n",
              "      <td>-4.0</td>\n",
              "    </tr>\n",
              "    <tr>\n",
              "      <th>3</th>\n",
              "      <td>-6.0</td>\n",
              "    </tr>\n",
              "    <tr>\n",
              "      <th>4</th>\n",
              "      <td>-7.0</td>\n",
              "    </tr>\n",
              "    <tr>\n",
              "      <th>5</th>\n",
              "      <td>-5.0</td>\n",
              "    </tr>\n",
              "    <tr>\n",
              "      <th>6</th>\n",
              "      <td>-3.0</td>\n",
              "    </tr>\n",
              "    <tr>\n",
              "      <th>7</th>\n",
              "      <td>-5.0</td>\n",
              "    </tr>\n",
              "    <tr>\n",
              "      <th>8</th>\n",
              "      <td>-6.0</td>\n",
              "    </tr>\n",
              "    <tr>\n",
              "      <th>9</th>\n",
              "      <td>-8.0</td>\n",
              "    </tr>\n",
              "    <tr>\n",
              "      <th>10</th>\n",
              "      <td>-7.0</td>\n",
              "    </tr>\n",
              "    <tr>\n",
              "      <th>11</th>\n",
              "      <td>-8.0</td>\n",
              "    </tr>\n",
              "    <tr>\n",
              "      <th>12</th>\n",
              "      <td>-5.0</td>\n",
              "    </tr>\n",
              "  </tbody>\n",
              "</table>\n",
              "</div>"
            ],
            "text/plain": [
              "           delay\n",
              "date date       \n",
              "2018 1      -8.0\n",
              "     2      -6.0\n",
              "     3      -6.0\n",
              "     4      -6.0\n",
              "     5      -5.0\n",
              "     6      -4.0\n",
              "     7      -4.0\n",
              "     8      -4.0\n",
              "     9      -7.0\n",
              "     10     -6.0\n",
              "     11     -5.0\n",
              "     12     -6.0\n",
              "2019 1      -6.0\n",
              "     2      -4.0\n",
              "     3      -6.0\n",
              "     4      -7.0\n",
              "     5      -5.0\n",
              "     6      -3.0\n",
              "     7      -5.0\n",
              "     8      -6.0\n",
              "     9      -8.0\n",
              "     10     -7.0\n",
              "     11     -8.0\n",
              "     12     -5.0"
            ]
          },
          "metadata": {},
          "execution_count": 13
        }
      ]
    },
    {
      "cell_type": "markdown",
      "metadata": {
        "id": "TZcZ4HrWHYlL"
      },
      "source": [
        "#### **Task 3**: Does the weather affect the delay? \n",
        "Use the API to pull the weather information for flights. There is no need to get weather for ALL flights. We can choose the right representative sample. Let's focus on four weather types:\n",
        "- sunny\n",
        "- cloudy\n",
        "- rainy\n",
        "- snow.\n",
        "Test the hypothesis that these 4 delays are from the same distribution. If they are not, which ones are significantly different?"
      ]
    },
    {
      "cell_type": "code",
      "metadata": {
        "id": "tly6tULEHYlL"
      },
      "source": [
        ""
      ],
      "execution_count": null,
      "outputs": []
    },
    {
      "cell_type": "code",
      "metadata": {
        "id": "N5e8aTnVHYlL"
      },
      "source": [
        ""
      ],
      "execution_count": null,
      "outputs": []
    },
    {
      "cell_type": "markdown",
      "metadata": {
        "id": "vtFW5xRHHYlL"
      },
      "source": [
        "#### **Task 4**: How taxi times changing during the day? Does higher traffic lead to bigger taxi times?"
      ]
    },
    {
      "cell_type": "code",
      "metadata": {
        "id": "eCNr7QvFHYlM"
      },
      "source": [
        "column_names = ['dep_time','arr_time','taxi_out','taxi_in']\n",
        "taxi = postgresql_to_dataframe(conn, 'SELECT dep_time, arr_time, taxi_out, taxi_in FROM flights', column_names)\n",
        "taxi_no_na = taxi.fillna(0)"
      ],
      "execution_count": 14,
      "outputs": []
    },
    {
      "cell_type": "code",
      "metadata": {
        "id": "1tNmC1wuHYlM"
      },
      "source": [
        "dep_taxi = taxi_no_na[['dep_time','taxi_out']].copy(deep = True)\n",
        "dep_taxi['dep_time'] = dep_taxi['dep_time'] / 100\n",
        "dep_taxi['dep_time'] = dep_taxi['dep_time'].astype(int)\n",
        "dep_taxi = dep_taxi.set_index('dep_time')"
      ],
      "execution_count": 16,
      "outputs": []
    },
    {
      "cell_type": "code",
      "metadata": {
        "id": "hllcZpIhHYlN"
      },
      "source": [
        "arr_taxi = taxi_no_na[['arr_time','taxi_in']].copy(deep = True)\n",
        "arr_taxi['arr_time'] = arr_taxi['arr_time'] / 100\n",
        "arr_taxi['arr_time'] = arr_taxi['arr_time'].astype(int)\n",
        "arr_taxi = arr_taxi.set_index('arr_time')"
      ],
      "execution_count": 17,
      "outputs": []
    },
    {
      "cell_type": "code",
      "metadata": {
        "id": "W5mvemslHYlN"
      },
      "source": [
        "dep_taxi_hourly_mean = dep_taxi.groupby(dep_taxi.index).mean()"
      ],
      "execution_count": 18,
      "outputs": []
    },
    {
      "cell_type": "code",
      "metadata": {
        "id": "g_gqw7K2HYlN"
      },
      "source": [
        "arr_taxi_hourly_mean = arr_taxi.groupby(arr_taxi.index).mean()"
      ],
      "execution_count": 19,
      "outputs": []
    },
    {
      "cell_type": "markdown",
      "metadata": {
        "id": "yiEdsUBnHYlO"
      },
      "source": [
        "#### **Task 5**: What is the average percentage of delays that is already created before departure? (aka are arrival delays caused by departure delays?) Are airlines able to lower the delay during the flights?"
      ]
    },
    {
      "cell_type": "code",
      "metadata": {
        "id": "3p5_SkKsHYlP"
      },
      "source": [
        "column_names = ['arr_delay','dep_delay']\n",
        "arr_vs_dep_delay = postgresql_to_dataframe(conn, 'SELECT arr_delay, dep_delay FROM flights', column_names)"
      ],
      "execution_count": 20,
      "outputs": []
    },
    {
      "cell_type": "code",
      "metadata": {
        "id": "OhjBoYnkHYlP"
      },
      "source": [
        "percentage_delays_bef_dep = arr_vs_dep_delay[arr_vs_dep_delay['arr_delay'] == arr_vs_dep_delay['dep_delay']].count() / arr_vs_dep_delay.count()"
      ],
      "execution_count": 21,
      "outputs": []
    },
    {
      "cell_type": "code",
      "metadata": {
        "colab": {
          "base_uri": "https://localhost:8080/"
        },
        "id": "M9YNDAsaHYlP",
        "outputId": "fa41d8cd-8bb2-475a-ebce-c2e516315ae9"
      },
      "source": [
        "percentage_delays_bef_dep['arr_delay'] * 100"
      ],
      "execution_count": 22,
      "outputs": [
        {
          "output_type": "execute_result",
          "data": {
            "text/plain": [
              "2.832494468242013"
            ]
          },
          "metadata": {},
          "execution_count": 22
        }
      ]
    },
    {
      "cell_type": "code",
      "metadata": {
        "id": "xa6wGZ2mHYlQ"
      },
      "source": [
        "delays_decreased = arr_vs_dep_delay[arr_vs_dep_delay['arr_delay'] < arr_vs_dep_delay['dep_delay']].count() / arr_vs_dep_delay.count()"
      ],
      "execution_count": 23,
      "outputs": []
    },
    {
      "cell_type": "code",
      "metadata": {
        "colab": {
          "base_uri": "https://localhost:8080/"
        },
        "id": "R50ZSJLkHYlQ",
        "outputId": "bcc03225-89f0-44bf-838b-8fd097758a8b"
      },
      "source": [
        "delays_decreased['arr_delay'] * 100"
      ],
      "execution_count": 24,
      "outputs": [
        {
          "output_type": "execute_result",
          "data": {
            "text/plain": [
              "71.01194877655821"
            ]
          },
          "metadata": {},
          "execution_count": 24
        }
      ]
    },
    {
      "cell_type": "markdown",
      "metadata": {
        "id": "kqTxNeUSHYlU"
      },
      "source": [
        "#### **Task 6**: How many states cover 50% of US air traffic? "
      ]
    },
    {
      "cell_type": "code",
      "metadata": {
        "id": "XBs2qwWNHYlU"
      },
      "source": [
        "column_names = ['origin_city_name','dest_city_name','flights']\n",
        "traffic = postgresql_to_dataframe(conn, 'SELECT origin_city_name, dest_city_name, flights FROM flights', column_names)\n"
      ],
      "execution_count": 25,
      "outputs": []
    },
    {
      "cell_type": "code",
      "metadata": {
        "id": "0VKN1BXHHYlU",
        "outputId": "eea88862-2808-4959-cc24-bb21bb176db2"
      },
      "source": [
        "traffic.head()"
      ],
      "execution_count": null,
      "outputs": [
        {
          "data": {
            "text/html": [
              "<div>\n",
              "<style scoped>\n",
              "    .dataframe tbody tr th:only-of-type {\n",
              "        vertical-align: middle;\n",
              "    }\n",
              "\n",
              "    .dataframe tbody tr th {\n",
              "        vertical-align: top;\n",
              "    }\n",
              "\n",
              "    .dataframe thead th {\n",
              "        text-align: right;\n",
              "    }\n",
              "</style>\n",
              "<table border=\"1\" class=\"dataframe\">\n",
              "  <thead>\n",
              "    <tr style=\"text-align: right;\">\n",
              "      <th></th>\n",
              "      <th>origin_city_name</th>\n",
              "      <th>dest_city_name</th>\n",
              "      <th>flights</th>\n",
              "    </tr>\n",
              "  </thead>\n",
              "  <tbody>\n",
              "    <tr>\n",
              "      <th>0</th>\n",
              "      <td>Dallas/Fort Worth, TX</td>\n",
              "      <td>San Antonio, TX</td>\n",
              "      <td>1.0</td>\n",
              "    </tr>\n",
              "    <tr>\n",
              "      <th>1</th>\n",
              "      <td>San Antonio, TX</td>\n",
              "      <td>Dallas/Fort Worth, TX</td>\n",
              "      <td>1.0</td>\n",
              "    </tr>\n",
              "    <tr>\n",
              "      <th>2</th>\n",
              "      <td>Miami, FL</td>\n",
              "      <td>Baltimore, MD</td>\n",
              "      <td>1.0</td>\n",
              "    </tr>\n",
              "    <tr>\n",
              "      <th>3</th>\n",
              "      <td>Orlando, FL</td>\n",
              "      <td>Miami, FL</td>\n",
              "      <td>1.0</td>\n",
              "    </tr>\n",
              "    <tr>\n",
              "      <th>4</th>\n",
              "      <td>Miami, FL</td>\n",
              "      <td>Orlando, FL</td>\n",
              "      <td>1.0</td>\n",
              "    </tr>\n",
              "  </tbody>\n",
              "</table>\n",
              "</div>"
            ],
            "text/plain": [
              "        origin_city_name         dest_city_name  flights\n",
              "0  Dallas/Fort Worth, TX        San Antonio, TX      1.0\n",
              "1        San Antonio, TX  Dallas/Fort Worth, TX      1.0\n",
              "2              Miami, FL          Baltimore, MD      1.0\n",
              "3            Orlando, FL              Miami, FL      1.0\n",
              "4              Miami, FL            Orlando, FL      1.0"
            ]
          },
          "execution_count": 77,
          "metadata": {},
          "output_type": "execute_result"
        }
      ]
    },
    {
      "cell_type": "code",
      "metadata": {
        "colab": {
          "base_uri": "https://localhost:8080/",
          "height": 203
        },
        "id": "E4M8dPQUSqvd",
        "outputId": "20f76673-4661-489a-d136-d610b9c21bd9"
      },
      "source": [
        "traffic['origin_state'] = traffic['origin_city_name'].str[-2:]\n",
        "traffic['dest_state'] = traffic['dest_city_name'].str[-2:]\n",
        "traffic.head()"
      ],
      "execution_count": 29,
      "outputs": [
        {
          "output_type": "execute_result",
          "data": {
            "text/html": [
              "<div>\n",
              "<style scoped>\n",
              "    .dataframe tbody tr th:only-of-type {\n",
              "        vertical-align: middle;\n",
              "    }\n",
              "\n",
              "    .dataframe tbody tr th {\n",
              "        vertical-align: top;\n",
              "    }\n",
              "\n",
              "    .dataframe thead th {\n",
              "        text-align: right;\n",
              "    }\n",
              "</style>\n",
              "<table border=\"1\" class=\"dataframe\">\n",
              "  <thead>\n",
              "    <tr style=\"text-align: right;\">\n",
              "      <th></th>\n",
              "      <th>origin_city_name</th>\n",
              "      <th>dest_city_name</th>\n",
              "      <th>flights</th>\n",
              "      <th>origin_state</th>\n",
              "      <th>dest_state</th>\n",
              "    </tr>\n",
              "  </thead>\n",
              "  <tbody>\n",
              "    <tr>\n",
              "      <th>0</th>\n",
              "      <td>Dallas/Fort Worth, TX</td>\n",
              "      <td>San Antonio, TX</td>\n",
              "      <td>1.0</td>\n",
              "      <td>TX</td>\n",
              "      <td>TX</td>\n",
              "    </tr>\n",
              "    <tr>\n",
              "      <th>1</th>\n",
              "      <td>San Antonio, TX</td>\n",
              "      <td>Dallas/Fort Worth, TX</td>\n",
              "      <td>1.0</td>\n",
              "      <td>TX</td>\n",
              "      <td>TX</td>\n",
              "    </tr>\n",
              "    <tr>\n",
              "      <th>2</th>\n",
              "      <td>Miami, FL</td>\n",
              "      <td>Baltimore, MD</td>\n",
              "      <td>1.0</td>\n",
              "      <td>FL</td>\n",
              "      <td>MD</td>\n",
              "    </tr>\n",
              "    <tr>\n",
              "      <th>3</th>\n",
              "      <td>Orlando, FL</td>\n",
              "      <td>Miami, FL</td>\n",
              "      <td>1.0</td>\n",
              "      <td>FL</td>\n",
              "      <td>FL</td>\n",
              "    </tr>\n",
              "    <tr>\n",
              "      <th>4</th>\n",
              "      <td>Miami, FL</td>\n",
              "      <td>Orlando, FL</td>\n",
              "      <td>1.0</td>\n",
              "      <td>FL</td>\n",
              "      <td>FL</td>\n",
              "    </tr>\n",
              "  </tbody>\n",
              "</table>\n",
              "</div>"
            ],
            "text/plain": [
              "        origin_city_name         dest_city_name  ...  origin_state dest_state\n",
              "0  Dallas/Fort Worth, TX        San Antonio, TX  ...            TX         TX\n",
              "1        San Antonio, TX  Dallas/Fort Worth, TX  ...            TX         TX\n",
              "2              Miami, FL          Baltimore, MD  ...            FL         MD\n",
              "3            Orlando, FL              Miami, FL  ...            FL         FL\n",
              "4              Miami, FL            Orlando, FL  ...            FL         FL\n",
              "\n",
              "[5 rows x 5 columns]"
            ]
          },
          "metadata": {},
          "execution_count": 29
        }
      ]
    },
    {
      "cell_type": "code",
      "metadata": {
        "colab": {
          "base_uri": "https://localhost:8080/",
          "height": 203
        },
        "id": "K8tRVVfSHYlV",
        "outputId": "127ff40e-d469-41f8-c30f-b7054b5da468"
      },
      "source": [
        "traffic_origin = traffic.groupby(['origin_state']).sum('flights').sort_values('flights', ascending=False).reset_index()\n",
        "traffic_origin.head()"
      ],
      "execution_count": 81,
      "outputs": [
        {
          "output_type": "execute_result",
          "data": {
            "text/html": [
              "<div>\n",
              "<style scoped>\n",
              "    .dataframe tbody tr th:only-of-type {\n",
              "        vertical-align: middle;\n",
              "    }\n",
              "\n",
              "    .dataframe tbody tr th {\n",
              "        vertical-align: top;\n",
              "    }\n",
              "\n",
              "    .dataframe thead th {\n",
              "        text-align: right;\n",
              "    }\n",
              "</style>\n",
              "<table border=\"1\" class=\"dataframe\">\n",
              "  <thead>\n",
              "    <tr style=\"text-align: right;\">\n",
              "      <th></th>\n",
              "      <th>origin_state</th>\n",
              "      <th>flights</th>\n",
              "    </tr>\n",
              "  </thead>\n",
              "  <tbody>\n",
              "    <tr>\n",
              "      <th>0</th>\n",
              "      <td>CA</td>\n",
              "      <td>1738254.0</td>\n",
              "    </tr>\n",
              "    <tr>\n",
              "      <th>1</th>\n",
              "      <td>TX</td>\n",
              "      <td>1572078.0</td>\n",
              "    </tr>\n",
              "    <tr>\n",
              "      <th>2</th>\n",
              "      <td>FL</td>\n",
              "      <td>1151221.0</td>\n",
              "    </tr>\n",
              "    <tr>\n",
              "      <th>3</th>\n",
              "      <td>IL</td>\n",
              "      <td>1008184.0</td>\n",
              "    </tr>\n",
              "    <tr>\n",
              "      <th>4</th>\n",
              "      <td>GA</td>\n",
              "      <td>841057.0</td>\n",
              "    </tr>\n",
              "  </tbody>\n",
              "</table>\n",
              "</div>"
            ],
            "text/plain": [
              "  origin_state    flights\n",
              "0           CA  1738254.0\n",
              "1           TX  1572078.0\n",
              "2           FL  1151221.0\n",
              "3           IL  1008184.0\n",
              "4           GA   841057.0"
            ]
          },
          "metadata": {},
          "execution_count": 81
        }
      ]
    },
    {
      "cell_type": "code",
      "metadata": {
        "colab": {
          "base_uri": "https://localhost:8080/",
          "height": 203
        },
        "id": "ELzALcrbrOew",
        "outputId": "062992c1-e7cb-4b41-c601-1a175e5f9270"
      },
      "source": [
        "traffic_dest = traffic.groupby('dest_state').sum('flights').sort_values('flights', ascending=False).reset_index()\n",
        "traffic_dest.head()"
      ],
      "execution_count": 82,
      "outputs": [
        {
          "output_type": "execute_result",
          "data": {
            "text/html": [
              "<div>\n",
              "<style scoped>\n",
              "    .dataframe tbody tr th:only-of-type {\n",
              "        vertical-align: middle;\n",
              "    }\n",
              "\n",
              "    .dataframe tbody tr th {\n",
              "        vertical-align: top;\n",
              "    }\n",
              "\n",
              "    .dataframe thead th {\n",
              "        text-align: right;\n",
              "    }\n",
              "</style>\n",
              "<table border=\"1\" class=\"dataframe\">\n",
              "  <thead>\n",
              "    <tr style=\"text-align: right;\">\n",
              "      <th></th>\n",
              "      <th>dest_state</th>\n",
              "      <th>flights</th>\n",
              "    </tr>\n",
              "  </thead>\n",
              "  <tbody>\n",
              "    <tr>\n",
              "      <th>0</th>\n",
              "      <td>CA</td>\n",
              "      <td>1738330.0</td>\n",
              "    </tr>\n",
              "    <tr>\n",
              "      <th>1</th>\n",
              "      <td>TX</td>\n",
              "      <td>1572051.0</td>\n",
              "    </tr>\n",
              "    <tr>\n",
              "      <th>2</th>\n",
              "      <td>FL</td>\n",
              "      <td>1151320.0</td>\n",
              "    </tr>\n",
              "    <tr>\n",
              "      <th>3</th>\n",
              "      <td>IL</td>\n",
              "      <td>1008051.0</td>\n",
              "    </tr>\n",
              "    <tr>\n",
              "      <th>4</th>\n",
              "      <td>GA</td>\n",
              "      <td>841095.0</td>\n",
              "    </tr>\n",
              "  </tbody>\n",
              "</table>\n",
              "</div>"
            ],
            "text/plain": [
              "  dest_state    flights\n",
              "0         CA  1738330.0\n",
              "1         TX  1572051.0\n",
              "2         FL  1151320.0\n",
              "3         IL  1008051.0\n",
              "4         GA   841095.0"
            ]
          },
          "metadata": {},
          "execution_count": 82
        }
      ]
    },
    {
      "cell_type": "code",
      "metadata": {
        "colab": {
          "base_uri": "https://localhost:8080/",
          "height": 265
        },
        "id": "tr7IAq42HYlV",
        "outputId": "7dc74d9d-5ca1-4a91-cf04-73c9ad4cb906"
      },
      "source": [
        "traffic_origin['overall_prc'] = (traffic_origin['flights']/traffic_origin['flights'].sum())*100\n",
        "traffic_origin['cumsum_states'] = traffic_origin['overall_prc'].cumsum()\n",
        "traffic_origin[traffic_origin['cumsum_states']<=50]"
      ],
      "execution_count": 87,
      "outputs": [
        {
          "output_type": "execute_result",
          "data": {
            "text/html": [
              "<div>\n",
              "<style scoped>\n",
              "    .dataframe tbody tr th:only-of-type {\n",
              "        vertical-align: middle;\n",
              "    }\n",
              "\n",
              "    .dataframe tbody tr th {\n",
              "        vertical-align: top;\n",
              "    }\n",
              "\n",
              "    .dataframe thead th {\n",
              "        text-align: right;\n",
              "    }\n",
              "</style>\n",
              "<table border=\"1\" class=\"dataframe\">\n",
              "  <thead>\n",
              "    <tr style=\"text-align: right;\">\n",
              "      <th></th>\n",
              "      <th>origin_state</th>\n",
              "      <th>flights</th>\n",
              "      <th>overall_prc</th>\n",
              "      <th>cumsum_states</th>\n",
              "    </tr>\n",
              "  </thead>\n",
              "  <tbody>\n",
              "    <tr>\n",
              "      <th>0</th>\n",
              "      <td>CA</td>\n",
              "      <td>1738254.0</td>\n",
              "      <td>10.913550</td>\n",
              "      <td>10.913550</td>\n",
              "    </tr>\n",
              "    <tr>\n",
              "      <th>1</th>\n",
              "      <td>TX</td>\n",
              "      <td>1572078.0</td>\n",
              "      <td>9.870221</td>\n",
              "      <td>20.783771</td>\n",
              "    </tr>\n",
              "    <tr>\n",
              "      <th>2</th>\n",
              "      <td>FL</td>\n",
              "      <td>1151221.0</td>\n",
              "      <td>7.227889</td>\n",
              "      <td>28.011660</td>\n",
              "    </tr>\n",
              "    <tr>\n",
              "      <th>3</th>\n",
              "      <td>IL</td>\n",
              "      <td>1008184.0</td>\n",
              "      <td>6.329838</td>\n",
              "      <td>34.341498</td>\n",
              "    </tr>\n",
              "    <tr>\n",
              "      <th>4</th>\n",
              "      <td>GA</td>\n",
              "      <td>841057.0</td>\n",
              "      <td>5.280539</td>\n",
              "      <td>39.622037</td>\n",
              "    </tr>\n",
              "    <tr>\n",
              "      <th>5</th>\n",
              "      <td>NY</td>\n",
              "      <td>827854.0</td>\n",
              "      <td>5.197644</td>\n",
              "      <td>44.819681</td>\n",
              "    </tr>\n",
              "    <tr>\n",
              "      <th>6</th>\n",
              "      <td>NC</td>\n",
              "      <td>736077.0</td>\n",
              "      <td>4.621426</td>\n",
              "      <td>49.441108</td>\n",
              "    </tr>\n",
              "  </tbody>\n",
              "</table>\n",
              "</div>"
            ],
            "text/plain": [
              "  origin_state    flights  overall_prc  cumsum_states\n",
              "0           CA  1738254.0    10.913550      10.913550\n",
              "1           TX  1572078.0     9.870221      20.783771\n",
              "2           FL  1151221.0     7.227889      28.011660\n",
              "3           IL  1008184.0     6.329838      34.341498\n",
              "4           GA   841057.0     5.280539      39.622037\n",
              "5           NY   827854.0     5.197644      44.819681\n",
              "6           NC   736077.0     4.621426      49.441108"
            ]
          },
          "metadata": {},
          "execution_count": 87
        }
      ]
    },
    {
      "cell_type": "code",
      "metadata": {
        "colab": {
          "base_uri": "https://localhost:8080/",
          "height": 392
        },
        "id": "KYfxLYBFuvnY",
        "outputId": "faa2985c-0bfc-41de-b0b4-bd8acf4a0f70"
      },
      "source": [
        "all = traffic_origin[traffic_origin['cumsum_states']<=80]\n",
        "x = all['origin_state']\n",
        "y = all['overall_prc']\n",
        "cumsum = all['cumsum_states']\n",
        "fig,ax = plt.subplots(figsize = (8,6))\n",
        "ax.bar(x, y)\n",
        "ax.plot(x, cumsum)\n",
        "ax.set_ylim(0,100)\n",
        "ax.set_xlabel('Origin states')\n",
        "ax.set_ylabel('percent')\n",
        "plt.grid()\n",
        "plt.show()"
      ],
      "execution_count": 114,
      "outputs": [
        {
          "output_type": "display_data",
          "data": {
            "image/png": "[encoded data removed]",
            "text/plain": [
              "<Figure size 576x432 with 1 Axes>"
            ]
          },
          "metadata": {
            "needs_background": "light"
          }
        }
      ]
    },
    {
      "cell_type": "code",
      "metadata": {
        "colab": {
          "base_uri": "https://localhost:8080/",
          "height": 265
        },
        "id": "_k3jCIi6tJkE",
        "outputId": "fd9f9732-4a4c-4ce7-bd12-c57e5aa8eae0"
      },
      "source": [
        "traffic_dest['overall_prc'] = (traffic_dest['flights']/traffic_dest['flights'].sum())*100\n",
        "traffic_dest['cumsum_states'] = traffic_dest['overall_prc'].cumsum()\n",
        "traffic_dest[traffic_dest['cumsum_states']<=50]"
      ],
      "execution_count": 88,
      "outputs": [
        {
          "output_type": "execute_result",
          "data": {
            "text/html": [
              "<div>\n",
              "<style scoped>\n",
              "    .dataframe tbody tr th:only-of-type {\n",
              "        vertical-align: middle;\n",
              "    }\n",
              "\n",
              "    .dataframe tbody tr th {\n",
              "        vertical-align: top;\n",
              "    }\n",
              "\n",
              "    .dataframe thead th {\n",
              "        text-align: right;\n",
              "    }\n",
              "</style>\n",
              "<table border=\"1\" class=\"dataframe\">\n",
              "  <thead>\n",
              "    <tr style=\"text-align: right;\">\n",
              "      <th></th>\n",
              "      <th>dest_state</th>\n",
              "      <th>flights</th>\n",
              "      <th>overall_prc</th>\n",
              "      <th>cumsum_states</th>\n",
              "    </tr>\n",
              "  </thead>\n",
              "  <tbody>\n",
              "    <tr>\n",
              "      <th>0</th>\n",
              "      <td>CA</td>\n",
              "      <td>1738330.0</td>\n",
              "      <td>10.914027</td>\n",
              "      <td>10.914027</td>\n",
              "    </tr>\n",
              "    <tr>\n",
              "      <th>1</th>\n",
              "      <td>TX</td>\n",
              "      <td>1572051.0</td>\n",
              "      <td>9.870052</td>\n",
              "      <td>20.784079</td>\n",
              "    </tr>\n",
              "    <tr>\n",
              "      <th>2</th>\n",
              "      <td>FL</td>\n",
              "      <td>1151320.0</td>\n",
              "      <td>7.228511</td>\n",
              "      <td>28.012590</td>\n",
              "    </tr>\n",
              "    <tr>\n",
              "      <th>3</th>\n",
              "      <td>IL</td>\n",
              "      <td>1008051.0</td>\n",
              "      <td>6.329003</td>\n",
              "      <td>34.341593</td>\n",
              "    </tr>\n",
              "    <tr>\n",
              "      <th>4</th>\n",
              "      <td>GA</td>\n",
              "      <td>841095.0</td>\n",
              "      <td>5.280777</td>\n",
              "      <td>39.622370</td>\n",
              "    </tr>\n",
              "    <tr>\n",
              "      <th>5</th>\n",
              "      <td>NY</td>\n",
              "      <td>827847.0</td>\n",
              "      <td>5.197600</td>\n",
              "      <td>44.819970</td>\n",
              "    </tr>\n",
              "    <tr>\n",
              "      <th>6</th>\n",
              "      <td>NC</td>\n",
              "      <td>736070.0</td>\n",
              "      <td>4.621382</td>\n",
              "      <td>49.441352</td>\n",
              "    </tr>\n",
              "  </tbody>\n",
              "</table>\n",
              "</div>"
            ],
            "text/plain": [
              "  dest_state    flights  overall_prc  cumsum_states\n",
              "0         CA  1738330.0    10.914027      10.914027\n",
              "1         TX  1572051.0     9.870052      20.784079\n",
              "2         FL  1151320.0     7.228511      28.012590\n",
              "3         IL  1008051.0     6.329003      34.341593\n",
              "4         GA   841095.0     5.280777      39.622370\n",
              "5         NY   827847.0     5.197600      44.819970\n",
              "6         NC   736070.0     4.621382      49.441352"
            ]
          },
          "metadata": {},
          "execution_count": 88
        }
      ]
    },
    {
      "cell_type": "code",
      "metadata": {
        "colab": {
          "base_uri": "https://localhost:8080/",
          "height": 392
        },
        "id": "6BFYsMGX1Byl",
        "outputId": "fd64f31b-31d3-486d-f71f-5bc87874043b"
      },
      "source": [
        "all = traffic_dest[traffic_dest['cumsum_states']<=80]\n",
        "x = all['dest_state']\n",
        "y = all['overall_prc']\n",
        "cumsum = all['cumsum_states']\n",
        "fig,ax = plt.subplots(figsize = (8,6))\n",
        "ax.bar(x, y)\n",
        "ax.plot(x, cumsum)\n",
        "ax.set_ylim(0,100)\n",
        "ax.set_xlabel('Origin states')\n",
        "ax.set_ylabel('percent')\n",
        "plt.grid()\n",
        "plt.show()"
      ],
      "execution_count": 115,
      "outputs": [
        {
          "output_type": "display_data",
          "data": {
            "image/png": "[encoded data removed]",
            "text/plain": [
              "<Figure size 576x432 with 1 Axes>"
            ]
          },
          "metadata": {
            "needs_background": "light"
          }
        }
      ]
    },
    {
      "cell_type": "markdown",
      "metadata": {
        "id": "VDBtd3v_tX4h"
      },
      "source": [
        "Origin and Destination states percent are almost the same\n",
        "\n",
        "Another example of percentage of each direction from one state to another. As we can see in-state flights are the most frequent."
      ]
    },
    {
      "cell_type": "code",
      "metadata": {
        "colab": {
          "base_uri": "https://localhost:8080/",
          "height": 417
        },
        "id": "ClEKgbz1tngE",
        "outputId": "b1ed26b4-8c0a-4a3b-9508-5c572b923781"
      },
      "source": [
        "traffic_all = traffic.groupby(['origin_state','dest_state']).sum('flights').sort_values('flights', ascending=False).reset_index()\n",
        "traffic_all['overall_prc'] = (traffic_all['flights']/traffic_all['flights'].sum())*100\n",
        "traffic_all['cumsum_states'] = traffic_all['overall_prc'].cumsum()\n",
        "traffic_all[traffic_all['cumsum_states']<=50]"
      ],
      "execution_count": 90,
      "outputs": [
        {
          "output_type": "execute_result",
          "data": {
            "text/html": [
              "<div>\n",
              "<style scoped>\n",
              "    .dataframe tbody tr th:only-of-type {\n",
              "        vertical-align: middle;\n",
              "    }\n",
              "\n",
              "    .dataframe tbody tr th {\n",
              "        vertical-align: top;\n",
              "    }\n",
              "\n",
              "    .dataframe thead th {\n",
              "        text-align: right;\n",
              "    }\n",
              "</style>\n",
              "<table border=\"1\" class=\"dataframe\">\n",
              "  <thead>\n",
              "    <tr style=\"text-align: right;\">\n",
              "      <th></th>\n",
              "      <th>origin_state</th>\n",
              "      <th>dest_state</th>\n",
              "      <th>flights</th>\n",
              "      <th>overall_prc</th>\n",
              "      <th>cumsum_states</th>\n",
              "    </tr>\n",
              "  </thead>\n",
              "  <tbody>\n",
              "    <tr>\n",
              "      <th>0</th>\n",
              "      <td>CA</td>\n",
              "      <td>CA</td>\n",
              "      <td>555071.0</td>\n",
              "      <td>3.484988</td>\n",
              "      <td>3.484988</td>\n",
              "    </tr>\n",
              "    <tr>\n",
              "      <th>1</th>\n",
              "      <td>TX</td>\n",
              "      <td>TX</td>\n",
              "      <td>404107.0</td>\n",
              "      <td>2.537168</td>\n",
              "      <td>6.022156</td>\n",
              "    </tr>\n",
              "    <tr>\n",
              "      <th>2</th>\n",
              "      <td>HI</td>\n",
              "      <td>HI</td>\n",
              "      <td>150811.0</td>\n",
              "      <td>0.946860</td>\n",
              "      <td>6.969016</td>\n",
              "    </tr>\n",
              "    <tr>\n",
              "      <th>3</th>\n",
              "      <td>TX</td>\n",
              "      <td>CA</td>\n",
              "      <td>142863.0</td>\n",
              "      <td>0.896959</td>\n",
              "      <td>7.865975</td>\n",
              "    </tr>\n",
              "    <tr>\n",
              "      <th>4</th>\n",
              "      <td>CA</td>\n",
              "      <td>TX</td>\n",
              "      <td>142795.0</td>\n",
              "      <td>0.896532</td>\n",
              "      <td>8.762507</td>\n",
              "    </tr>\n",
              "    <tr>\n",
              "      <th>...</th>\n",
              "      <td>...</td>\n",
              "      <td>...</td>\n",
              "      <td>...</td>\n",
              "      <td>...</td>\n",
              "      <td>...</td>\n",
              "    </tr>\n",
              "    <tr>\n",
              "      <th>119</th>\n",
              "      <td>NC</td>\n",
              "      <td>DC</td>\n",
              "      <td>31312.0</td>\n",
              "      <td>0.196591</td>\n",
              "      <td>49.212396</td>\n",
              "    </tr>\n",
              "    <tr>\n",
              "      <th>120</th>\n",
              "      <td>IL</td>\n",
              "      <td>NC</td>\n",
              "      <td>31150.0</td>\n",
              "      <td>0.195574</td>\n",
              "      <td>49.407970</td>\n",
              "    </tr>\n",
              "    <tr>\n",
              "      <th>121</th>\n",
              "      <td>MI</td>\n",
              "      <td>FL</td>\n",
              "      <td>31124.0</td>\n",
              "      <td>0.195411</td>\n",
              "      <td>49.603381</td>\n",
              "    </tr>\n",
              "    <tr>\n",
              "      <th>122</th>\n",
              "      <td>FL</td>\n",
              "      <td>MI</td>\n",
              "      <td>31112.0</td>\n",
              "      <td>0.195335</td>\n",
              "      <td>49.798716</td>\n",
              "    </tr>\n",
              "    <tr>\n",
              "      <th>123</th>\n",
              "      <td>DC</td>\n",
              "      <td>NC</td>\n",
              "      <td>31032.0</td>\n",
              "      <td>0.194833</td>\n",
              "      <td>49.993549</td>\n",
              "    </tr>\n",
              "  </tbody>\n",
              "</table>\n",
              "<p>124 rows × 5 columns</p>\n",
              "</div>"
            ],
            "text/plain": [
              "    origin_state dest_state   flights  overall_prc  cumsum_states\n",
              "0             CA         CA  555071.0     3.484988       3.484988\n",
              "1             TX         TX  404107.0     2.537168       6.022156\n",
              "2             HI         HI  150811.0     0.946860       6.969016\n",
              "3             TX         CA  142863.0     0.896959       7.865975\n",
              "4             CA         TX  142795.0     0.896532       8.762507\n",
              "..           ...        ...       ...          ...            ...\n",
              "119           NC         DC   31312.0     0.196591      49.212396\n",
              "120           IL         NC   31150.0     0.195574      49.407970\n",
              "121           MI         FL   31124.0     0.195411      49.603381\n",
              "122           FL         MI   31112.0     0.195335      49.798716\n",
              "123           DC         NC   31032.0     0.194833      49.993549\n",
              "\n",
              "[124 rows x 5 columns]"
            ]
          },
          "metadata": {},
          "execution_count": 90
        }
      ]
    },
    {
      "cell_type": "markdown",
      "metadata": {
        "id": "Q4YKq2j6HYlV"
      },
      "source": [
        "#### **Task 7**: Test the hypothesis whether planes fly faster when there is the departure delay? "
      ]
    },
    {
      "cell_type": "code",
      "metadata": {
        "colab": {
          "base_uri": "https://localhost:8080/",
          "height": 295
        },
        "id": "O6Y7BRBbHYlW",
        "outputId": "e33100bd-8114-47d0-a86c-4d5d700bb412"
      },
      "source": [
        "column_names = ['op_carrier_fl_num','dep_time','arr_time', 'air_time','distance','dep_delay', 'arr_delay']\n",
        "dep_delays = postgresql_to_dataframe(conn, 'SELECT op_carrier_fl_num, dep_time, arr_time, air_time, distance, dep_delay, arr_delay FROM flights where cancelled = 0', column_names)\n",
        "dep_delays.describe()"
      ],
      "execution_count": 16,
      "outputs": [
        {
          "output_type": "execute_result",
          "data": {
            "text/html": [
              "<div>\n",
              "<style scoped>\n",
              "    .dataframe tbody tr th:only-of-type {\n",
              "        vertical-align: middle;\n",
              "    }\n",
              "\n",
              "    .dataframe tbody tr th {\n",
              "        vertical-align: top;\n",
              "    }\n",
              "\n",
              "    .dataframe thead th {\n",
              "        text-align: right;\n",
              "    }\n",
              "</style>\n",
              "<table border=\"1\" class=\"dataframe\">\n",
              "  <thead>\n",
              "    <tr style=\"text-align: right;\">\n",
              "      <th></th>\n",
              "      <th>op_carrier_fl_num</th>\n",
              "      <th>dep_time</th>\n",
              "      <th>arr_time</th>\n",
              "      <th>air_time</th>\n",
              "      <th>distance</th>\n",
              "      <th>dep_delay</th>\n",
              "      <th>arr_delay</th>\n",
              "    </tr>\n",
              "  </thead>\n",
              "  <tbody>\n",
              "    <tr>\n",
              "      <th>count</th>\n",
              "      <td>1.565828e+07</td>\n",
              "      <td>1.565827e+07</td>\n",
              "      <td>1.565240e+07</td>\n",
              "      <td>1.561226e+07</td>\n",
              "      <td>1.565828e+07</td>\n",
              "      <td>1.565353e+07</td>\n",
              "      <td>1.561574e+07</td>\n",
              "    </tr>\n",
              "    <tr>\n",
              "      <th>mean</th>\n",
              "      <td>2.726165e+03</td>\n",
              "      <td>1.334210e+03</td>\n",
              "      <td>1.464147e+03</td>\n",
              "      <td>1.079393e+02</td>\n",
              "      <td>7.706748e+02</td>\n",
              "      <td>1.051805e+01</td>\n",
              "      <td>5.475932e+00</td>\n",
              "    </tr>\n",
              "    <tr>\n",
              "      <th>std</th>\n",
              "      <td>1.861704e+03</td>\n",
              "      <td>5.035536e+02</td>\n",
              "      <td>5.369109e+02</td>\n",
              "      <td>6.967538e+01</td>\n",
              "      <td>5.873683e+02</td>\n",
              "      <td>4.773285e+01</td>\n",
              "      <td>4.987401e+01</td>\n",
              "    </tr>\n",
              "    <tr>\n",
              "      <th>min</th>\n",
              "      <td>1.000000e+00</td>\n",
              "      <td>1.000000e+00</td>\n",
              "      <td>1.000000e+00</td>\n",
              "      <td>-1.384000e+03</td>\n",
              "      <td>1.600000e+01</td>\n",
              "      <td>-1.280000e+03</td>\n",
              "      <td>-1.290000e+03</td>\n",
              "    </tr>\n",
              "    <tr>\n",
              "      <th>25%</th>\n",
              "      <td>1.120000e+03</td>\n",
              "      <td>9.170000e+02</td>\n",
              "      <td>1.048000e+03</td>\n",
              "      <td>5.800000e+01</td>\n",
              "      <td>3.420000e+02</td>\n",
              "      <td>-6.000000e+00</td>\n",
              "      <td>-1.500000e+01</td>\n",
              "    </tr>\n",
              "    <tr>\n",
              "      <th>50%</th>\n",
              "      <td>2.305000e+03</td>\n",
              "      <td>1.327000e+03</td>\n",
              "      <td>1.503000e+03</td>\n",
              "      <td>8.900000e+01</td>\n",
              "      <td>6.050000e+02</td>\n",
              "      <td>-2.000000e+00</td>\n",
              "      <td>-6.000000e+00</td>\n",
              "    </tr>\n",
              "    <tr>\n",
              "      <th>75%</th>\n",
              "      <td>4.308000e+03</td>\n",
              "      <td>1.744000e+03</td>\n",
              "      <td>1.914000e+03</td>\n",
              "      <td>1.370000e+02</td>\n",
              "      <td>1.005000e+03</td>\n",
              "      <td>7.000000e+00</td>\n",
              "      <td>8.000000e+00</td>\n",
              "    </tr>\n",
              "    <tr>\n",
              "      <th>max</th>\n",
              "      <td>9.401000e+03</td>\n",
              "      <td>2.400000e+03</td>\n",
              "      <td>2.400000e+03</td>\n",
              "      <td>1.557000e+03</td>\n",
              "      <td>5.095000e+03</td>\n",
              "      <td>2.976000e+03</td>\n",
              "      <td>2.973000e+03</td>\n",
              "    </tr>\n",
              "  </tbody>\n",
              "</table>\n",
              "</div>"
            ],
            "text/plain": [
              "       op_carrier_fl_num      dep_time  ...     dep_delay     arr_delay\n",
              "count       1.565828e+07  1.565827e+07  ...  1.565353e+07  1.561574e+07\n",
              "mean        2.726165e+03  1.334210e+03  ...  1.051805e+01  5.475932e+00\n",
              "std         1.861704e+03  5.035536e+02  ...  4.773285e+01  4.987401e+01\n",
              "min         1.000000e+00  1.000000e+00  ... -1.280000e+03 -1.290000e+03\n",
              "25%         1.120000e+03  9.170000e+02  ... -6.000000e+00 -1.500000e+01\n",
              "50%         2.305000e+03  1.327000e+03  ... -2.000000e+00 -6.000000e+00\n",
              "75%         4.308000e+03  1.744000e+03  ...  7.000000e+00  8.000000e+00\n",
              "max         9.401000e+03  2.400000e+03  ...  2.976000e+03  2.973000e+03\n",
              "\n",
              "[8 rows x 7 columns]"
            ]
          },
          "metadata": {},
          "execution_count": 16
        }
      ]
    },
    {
      "cell_type": "code",
      "metadata": {
        "colab": {
          "base_uri": "https://localhost:8080/"
        },
        "id": "ry7HwOk3CY1i",
        "outputId": "8aa07a05-b54c-45ea-92f0-f1825f8f1f49"
      },
      "source": [
        "dep_delays.isnull().sum()"
      ],
      "execution_count": 17,
      "outputs": [
        {
          "output_type": "execute_result",
          "data": {
            "text/plain": [
              "op_carrier_fl_num        0\n",
              "dep_time                 8\n",
              "arr_time              5880\n",
              "air_time             46013\n",
              "distance                 0\n",
              "dep_delay             4744\n",
              "arr_delay            42536\n",
              "dtype: int64"
            ]
          },
          "metadata": {},
          "execution_count": 17
        }
      ]
    },
    {
      "cell_type": "code",
      "metadata": {
        "colab": {
          "base_uri": "https://localhost:8080/"
        },
        "id": "RE07piSfOujC",
        "outputId": "91917d5e-3ba7-4741-ebfe-f675ac9185b8"
      },
      "source": [
        "dep_delays = dep_delays.dropna()\n",
        "dep_delays.isnull().sum()"
      ],
      "execution_count": 35,
      "outputs": [
        {
          "output_type": "execute_result",
          "data": {
            "text/plain": [
              "op_carrier_fl_num    0\n",
              "dep_time             0\n",
              "arr_time             0\n",
              "air_time             0\n",
              "distance             0\n",
              "dep_delay            0\n",
              "arr_delay            0\n",
              "dtype: int64"
            ]
          },
          "metadata": {},
          "execution_count": 35
        }
      ]
    },
    {
      "cell_type": "code",
      "metadata": {
        "colab": {
          "base_uri": "https://localhost:8080/"
        },
        "id": "X1z6I7SbPAwp",
        "outputId": "f21cc071-596e-4376-ca91-709a6c945c60"
      },
      "source": [
        "dep_delays.shape"
      ],
      "execution_count": 36,
      "outputs": [
        {
          "output_type": "execute_result",
          "data": {
            "text/plain": [
              "(15605077, 7)"
            ]
          },
          "metadata": {},
          "execution_count": 36
        }
      ]
    },
    {
      "cell_type": "code",
      "metadata": {
        "id": "3pQ45KO4Vmy9"
      },
      "source": [
        "delays_no_tail = dep_delays[(dep_delays['arr_delay'] < 250)&(dep_delays['arr_delay'] > -60) & (dep_delays['dep_delay'] < 250)&(dep_delays['dep_delay'] > -60)]"
      ],
      "execution_count": 41,
      "outputs": []
    },
    {
      "cell_type": "code",
      "metadata": {
        "id": "ziDQrU08XSrz"
      },
      "source": [
        "delays_no_tail[['dep_delay','arr_delay']].sort_values(by = 'dep_delay',ascending = False)"
      ],
      "execution_count": null,
      "outputs": []
    },
    {
      "cell_type": "code",
      "metadata": {
        "colab": {
          "base_uri": "https://localhost:8080/",
          "height": 304
        },
        "id": "sWbkYttFIdL2",
        "outputId": "a1ce531c-3095-491b-f6c7-2c3342aa2b40"
      },
      "source": [
        "delays_no_tail['delay_diff'] = delays_no_tail['dep_delay']-delays_no_tail['arr_delay']\n",
        "delays_no_tail.head()\n",
        "#delay_diff - how early or fast plane came to destination airport\n",
        "# negative = delay\n",
        "# positive = ahead of time"
      ],
      "execution_count": 51,
      "outputs": [
        {
          "output_type": "stream",
          "text": [
            "/usr/local/lib/python3.7/dist-packages/ipykernel_launcher.py:1: SettingWithCopyWarning: \n",
            "A value is trying to be set on a copy of a slice from a DataFrame.\n",
            "Try using .loc[row_indexer,col_indexer] = value instead\n",
            "\n",
            "See the caveats in the documentation: https://pandas.pydata.org/pandas-docs/stable/user_guide/indexing.html#returning-a-view-versus-a-copy\n",
            "  \"\"\"Entry point for launching an IPython kernel.\n"
          ],
          "name": "stderr"
        },
        {
          "output_type": "execute_result",
          "data": {
            "text/html": [
              "<div>\n",
              "<style scoped>\n",
              "    .dataframe tbody tr th:only-of-type {\n",
              "        vertical-align: middle;\n",
              "    }\n",
              "\n",
              "    .dataframe tbody tr th {\n",
              "        vertical-align: top;\n",
              "    }\n",
              "\n",
              "    .dataframe thead th {\n",
              "        text-align: right;\n",
              "    }\n",
              "</style>\n",
              "<table border=\"1\" class=\"dataframe\">\n",
              "  <thead>\n",
              "    <tr style=\"text-align: right;\">\n",
              "      <th></th>\n",
              "      <th>op_carrier_fl_num</th>\n",
              "      <th>dep_time</th>\n",
              "      <th>arr_time</th>\n",
              "      <th>air_time</th>\n",
              "      <th>distance</th>\n",
              "      <th>dep_delay</th>\n",
              "      <th>arr_delay</th>\n",
              "      <th>delay_diff</th>\n",
              "    </tr>\n",
              "  </thead>\n",
              "  <tbody>\n",
              "    <tr>\n",
              "      <th>0</th>\n",
              "      <td>53</td>\n",
              "      <td>1615.0</td>\n",
              "      <td>2043.0</td>\n",
              "      <td>402.0</td>\n",
              "      <td>2475.0</td>\n",
              "      <td>0.0</td>\n",
              "      <td>48.0</td>\n",
              "      <td>-48.0</td>\n",
              "    </tr>\n",
              "    <tr>\n",
              "      <th>1</th>\n",
              "      <td>54</td>\n",
              "      <td>1744.0</td>\n",
              "      <td>2030.0</td>\n",
              "      <td>322.0</td>\n",
              "      <td>2174.0</td>\n",
              "      <td>-6.0</td>\n",
              "      <td>4.0</td>\n",
              "      <td>-10.0</td>\n",
              "    </tr>\n",
              "    <tr>\n",
              "      <th>2</th>\n",
              "      <td>55</td>\n",
              "      <td>1705.0</td>\n",
              "      <td>1941.0</td>\n",
              "      <td>82.0</td>\n",
              "      <td>599.0</td>\n",
              "      <td>1.0</td>\n",
              "      <td>-19.0</td>\n",
              "      <td>20.0</td>\n",
              "    </tr>\n",
              "    <tr>\n",
              "      <th>3</th>\n",
              "      <td>56</td>\n",
              "      <td>1151.0</td>\n",
              "      <td>1349.0</td>\n",
              "      <td>95.0</td>\n",
              "      <td>632.0</td>\n",
              "      <td>1.0</td>\n",
              "      <td>-9.0</td>\n",
              "      <td>10.0</td>\n",
              "    </tr>\n",
              "    <tr>\n",
              "      <th>4</th>\n",
              "      <td>56</td>\n",
              "      <td>1443.0</td>\n",
              "      <td>1650.0</td>\n",
              "      <td>100.0</td>\n",
              "      <td>632.0</td>\n",
              "      <td>0.0</td>\n",
              "      <td>-2.0</td>\n",
              "      <td>2.0</td>\n",
              "    </tr>\n",
              "  </tbody>\n",
              "</table>\n",
              "</div>"
            ],
            "text/plain": [
              "   op_carrier_fl_num  dep_time  arr_time  ...  dep_delay  arr_delay  delay_diff\n",
              "0                 53    1615.0    2043.0  ...        0.0       48.0       -48.0\n",
              "1                 54    1744.0    2030.0  ...       -6.0        4.0       -10.0\n",
              "2                 55    1705.0    1941.0  ...        1.0      -19.0        20.0\n",
              "3                 56    1151.0    1349.0  ...        1.0       -9.0        10.0\n",
              "4                 56    1443.0    1650.0  ...        0.0       -2.0         2.0\n",
              "\n",
              "[5 rows x 8 columns]"
            ]
          },
          "metadata": {},
          "execution_count": 51
        }
      ]
    },
    {
      "cell_type": "code",
      "metadata": {
        "colab": {
          "base_uri": "https://localhost:8080/"
        },
        "id": "HwVOhgL5HYlW",
        "outputId": "89ba8508-4849-4262-efd2-fd7b4a94a064"
      },
      "source": [
        "stats, p_value = stats.shapiro(delays_no_tail['delay_diff'])\n",
        "print('Test statistic: ', stats)\n",
        "print('P-value:', p_value)"
      ],
      "execution_count": 77,
      "outputs": [
        {
          "output_type": "stream",
          "text": [
            "Test statistic:  0.9312943816184998\n",
            "P-value: 0.0\n"
          ],
          "name": "stdout"
        },
        {
          "output_type": "stream",
          "text": [
            "/usr/local/lib/python3.7/dist-packages/scipy/stats/morestats.py:1676: UserWarning: p-value may not be accurate for N > 5000.\n",
            "  warnings.warn(\"p-value may not be accurate for N > 5000.\")\n"
          ],
          "name": "stderr"
        }
      ]
    },
    {
      "cell_type": "code",
      "metadata": {
        "colab": {
          "base_uri": "https://localhost:8080/",
          "height": 441
        },
        "id": "OrCz1m-gaJw0",
        "outputId": "dd14f8f0-8c68-4f40-db3c-04e9d1ab1963"
      },
      "source": [
        "sns.displot(data = delays_no_tail, x = delays_no_tail['delay_diff'], height=6, aspect=0.8)\n",
        "plt.grid()\n",
        "plt.show()"
      ],
      "execution_count": 59,
      "outputs": [
        {
          "output_type": "display_data",
          "data": {
            "image/png": "[encoded data removed]",
            "text/plain": [
              "<Figure size 345.6x432 with 1 Axes>"
            ]
          },
          "metadata": {
            "needs_background": "light"
          }
        }
      ]
    },
    {
      "cell_type": "code",
      "metadata": {
        "colab": {
          "base_uri": "https://localhost:8080/",
          "height": 374
        },
        "id": "-DmYQEwyfYTv",
        "outputId": "844ce9c5-532c-4fd0-8537-e77e0ad0bc24"
      },
      "source": [
        "fig, ax = plt.subplots(figsize=(8,6))\n",
        "ax.hist(delays_no_tail['delay_diff'],bins=1000)\n",
        "plt.grid()\n",
        "plt.show()"
      ],
      "execution_count": 78,
      "outputs": [
        {
          "output_type": "display_data",
          "data": {
            "image/png": "[encoded data removed]",
            "text/plain": [
              "<Figure size 576x432 with 1 Axes>"
            ]
          },
          "metadata": {
            "needs_background": "light"
          }
        }
      ]
    },
    {
      "cell_type": "markdown",
      "metadata": {
        "id": "9z54KiIsHYlW"
      },
      "source": [
        "#### **Task 8**: When (which hour) do most 'LONG', 'SHORT', 'MEDIUM' haul flights take off?"
      ]
    },
    {
      "cell_type": "markdown",
      "metadata": {
        "id": "-fuZqZoUmeri"
      },
      "source": [
        "***Route category lengths tend to define short-haul routes as being shorter than 600–800 nmi (1,100–1,500 km), long-haul as being longer than 2,200–2,600 nmi (4,100–4,800 km), and medium-haul as being in-between.***\n",
        "https://en.wikipedia.org/wiki/Flight_length "
      ]
    },
    {
      "cell_type": "code",
      "metadata": {
        "colab": {
          "base_uri": "https://localhost:8080/",
          "height": 203
        },
        "id": "WZE7mGEBHYlW",
        "outputId": "849bac17-f088-42c0-bd45-05c6cf181c33"
      },
      "source": [
        "column_names = ['fl_date','dep_time','arr_time','distance','flights']\n",
        "flights = postgresql_to_dataframe(conn, 'SELECT fl_date, dep_time, arr_time, distance, flights FROM flights where cancelled = 0 and diverted = 0', column_names)\n",
        "flights.head()"
      ],
      "execution_count": 3,
      "outputs": [
        {
          "output_type": "execute_result",
          "data": {
            "text/html": [
              "<div>\n",
              "<style scoped>\n",
              "    .dataframe tbody tr th:only-of-type {\n",
              "        vertical-align: middle;\n",
              "    }\n",
              "\n",
              "    .dataframe tbody tr th {\n",
              "        vertical-align: top;\n",
              "    }\n",
              "\n",
              "    .dataframe thead th {\n",
              "        text-align: right;\n",
              "    }\n",
              "</style>\n",
              "<table border=\"1\" class=\"dataframe\">\n",
              "  <thead>\n",
              "    <tr style=\"text-align: right;\">\n",
              "      <th></th>\n",
              "      <th>fl_date</th>\n",
              "      <th>dep_time</th>\n",
              "      <th>arr_time</th>\n",
              "      <th>distance</th>\n",
              "      <th>flights</th>\n",
              "    </tr>\n",
              "  </thead>\n",
              "  <tbody>\n",
              "    <tr>\n",
              "      <th>0</th>\n",
              "      <td>2019-03-02</td>\n",
              "      <td>1615.0</td>\n",
              "      <td>2043.0</td>\n",
              "      <td>2475.0</td>\n",
              "      <td>1.0</td>\n",
              "    </tr>\n",
              "    <tr>\n",
              "      <th>1</th>\n",
              "      <td>2019-03-02</td>\n",
              "      <td>1744.0</td>\n",
              "      <td>2030.0</td>\n",
              "      <td>2174.0</td>\n",
              "      <td>1.0</td>\n",
              "    </tr>\n",
              "    <tr>\n",
              "      <th>2</th>\n",
              "      <td>2019-03-02</td>\n",
              "      <td>1705.0</td>\n",
              "      <td>1941.0</td>\n",
              "      <td>599.0</td>\n",
              "      <td>1.0</td>\n",
              "    </tr>\n",
              "    <tr>\n",
              "      <th>3</th>\n",
              "      <td>2019-03-02</td>\n",
              "      <td>1151.0</td>\n",
              "      <td>1349.0</td>\n",
              "      <td>632.0</td>\n",
              "      <td>1.0</td>\n",
              "    </tr>\n",
              "    <tr>\n",
              "      <th>4</th>\n",
              "      <td>2019-03-02</td>\n",
              "      <td>1443.0</td>\n",
              "      <td>1650.0</td>\n",
              "      <td>632.0</td>\n",
              "      <td>1.0</td>\n",
              "    </tr>\n",
              "  </tbody>\n",
              "</table>\n",
              "</div>"
            ],
            "text/plain": [
              "      fl_date  dep_time  arr_time  distance  flights\n",
              "0  2019-03-02    1615.0    2043.0    2475.0      1.0\n",
              "1  2019-03-02    1744.0    2030.0    2174.0      1.0\n",
              "2  2019-03-02    1705.0    1941.0     599.0      1.0\n",
              "3  2019-03-02    1151.0    1349.0     632.0      1.0\n",
              "4  2019-03-02    1443.0    1650.0     632.0      1.0"
            ]
          },
          "metadata": {},
          "execution_count": 3
        }
      ]
    },
    {
      "cell_type": "code",
      "metadata": {
        "colab": {
          "base_uri": "https://localhost:8080/"
        },
        "id": "1VZElPyYHYlW",
        "outputId": "ebbc8579-c7ca-4c95-cc90-ca5a68679775"
      },
      "source": [
        "flights.isnull().sum()"
      ],
      "execution_count": 4,
      "outputs": [
        {
          "output_type": "execute_result",
          "data": {
            "text/plain": [
              "fl_date      0\n",
              "dep_time     8\n",
              "arr_time    10\n",
              "distance     0\n",
              "flights      0\n",
              "dtype: int64"
            ]
          },
          "metadata": {},
          "execution_count": 4
        }
      ]
    },
    {
      "cell_type": "code",
      "metadata": {
        "colab": {
          "base_uri": "https://localhost:8080/"
        },
        "id": "p1bnLpknwUU_",
        "outputId": "988ad143-eb30-4b87-bfaf-75c0634c86c1"
      },
      "source": [
        "flights.shape"
      ],
      "execution_count": 5,
      "outputs": [
        {
          "output_type": "execute_result",
          "data": {
            "text/plain": [
              "(15618340, 5)"
            ]
          },
          "metadata": {},
          "execution_count": 5
        }
      ]
    },
    {
      "cell_type": "code",
      "metadata": {
        "colab": {
          "base_uri": "https://localhost:8080/"
        },
        "id": "drN8YAmiwkLO",
        "outputId": "d52cc883-dbc3-42d7-9309-cb37700a4f73"
      },
      "source": [
        "flights = flights.dropna()\n",
        "print(flights.shape)\n",
        "flights.isnull().sum()"
      ],
      "execution_count": 6,
      "outputs": [
        {
          "output_type": "stream",
          "text": [
            "(15618329, 5)\n"
          ],
          "name": "stdout"
        },
        {
          "output_type": "execute_result",
          "data": {
            "text/plain": [
              "fl_date     0\n",
              "dep_time    0\n",
              "arr_time    0\n",
              "distance    0\n",
              "flights     0\n",
              "dtype: int64"
            ]
          },
          "metadata": {},
          "execution_count": 6
        }
      ]
    },
    {
      "cell_type": "code",
      "metadata": {
        "colab": {
          "base_uri": "https://localhost:8080/",
          "height": 110
        },
        "id": "_3Ljvh2ZqEfV",
        "outputId": "b0f6f8d7-9e80-4ec4-a6fc-a42eaa2d89b0"
      },
      "source": [
        "flights['flight_length'] = np.select (\n",
        "    [ \n",
        "     (flights['distance'] < 800),\n",
        "     (flights['distance'].between(800, 2200, inclusive=False)),\n",
        "     (flights['distance'] >=2200)\n",
        "    ], \n",
        "    [\n",
        "     'SHORT',\n",
        "     'MEDIUM',\n",
        "     'LONG'\n",
        "    ]\n",
        "                                    )\n",
        "flights.head(2)"
      ],
      "execution_count": 7,
      "outputs": [
        {
          "output_type": "execute_result",
          "data": {
            "text/html": [
              "<div>\n",
              "<style scoped>\n",
              "    .dataframe tbody tr th:only-of-type {\n",
              "        vertical-align: middle;\n",
              "    }\n",
              "\n",
              "    .dataframe tbody tr th {\n",
              "        vertical-align: top;\n",
              "    }\n",
              "\n",
              "    .dataframe thead th {\n",
              "        text-align: right;\n",
              "    }\n",
              "</style>\n",
              "<table border=\"1\" class=\"dataframe\">\n",
              "  <thead>\n",
              "    <tr style=\"text-align: right;\">\n",
              "      <th></th>\n",
              "      <th>fl_date</th>\n",
              "      <th>dep_time</th>\n",
              "      <th>arr_time</th>\n",
              "      <th>distance</th>\n",
              "      <th>flights</th>\n",
              "      <th>flight_length</th>\n",
              "    </tr>\n",
              "  </thead>\n",
              "  <tbody>\n",
              "    <tr>\n",
              "      <th>0</th>\n",
              "      <td>2019-03-02</td>\n",
              "      <td>1615.0</td>\n",
              "      <td>2043.0</td>\n",
              "      <td>2475.0</td>\n",
              "      <td>1.0</td>\n",
              "      <td>LONG</td>\n",
              "    </tr>\n",
              "    <tr>\n",
              "      <th>1</th>\n",
              "      <td>2019-03-02</td>\n",
              "      <td>1744.0</td>\n",
              "      <td>2030.0</td>\n",
              "      <td>2174.0</td>\n",
              "      <td>1.0</td>\n",
              "      <td>MEDIUM</td>\n",
              "    </tr>\n",
              "  </tbody>\n",
              "</table>\n",
              "</div>"
            ],
            "text/plain": [
              "      fl_date  dep_time  arr_time  distance  flights flight_length\n",
              "0  2019-03-02    1615.0    2043.0    2475.0      1.0          LONG\n",
              "1  2019-03-02    1744.0    2030.0    2174.0      1.0        MEDIUM"
            ]
          },
          "metadata": {},
          "execution_count": 7
        }
      ]
    },
    {
      "cell_type": "code",
      "metadata": {
        "colab": {
          "base_uri": "https://localhost:8080/",
          "height": 203
        },
        "id": "W0pReWdI1rTk",
        "outputId": "45cbcbdc-e16e-4be7-9f33-3f2eac3ebe36"
      },
      "source": [
        "flights['dep_hours'] = flights['dep_time'] // 100\n",
        "flights['arr_hours'] = flights['arr_time'] // 100\n",
        "flights.head()"
      ],
      "execution_count": 8,
      "outputs": [
        {
          "output_type": "execute_result",
          "data": {
            "text/html": [
              "<div>\n",
              "<style scoped>\n",
              "    .dataframe tbody tr th:only-of-type {\n",
              "        vertical-align: middle;\n",
              "    }\n",
              "\n",
              "    .dataframe tbody tr th {\n",
              "        vertical-align: top;\n",
              "    }\n",
              "\n",
              "    .dataframe thead th {\n",
              "        text-align: right;\n",
              "    }\n",
              "</style>\n",
              "<table border=\"1\" class=\"dataframe\">\n",
              "  <thead>\n",
              "    <tr style=\"text-align: right;\">\n",
              "      <th></th>\n",
              "      <th>fl_date</th>\n",
              "      <th>dep_time</th>\n",
              "      <th>arr_time</th>\n",
              "      <th>distance</th>\n",
              "      <th>flights</th>\n",
              "      <th>flight_length</th>\n",
              "      <th>dep_hours</th>\n",
              "      <th>arr_hours</th>\n",
              "    </tr>\n",
              "  </thead>\n",
              "  <tbody>\n",
              "    <tr>\n",
              "      <th>0</th>\n",
              "      <td>2019-03-02</td>\n",
              "      <td>1615.0</td>\n",
              "      <td>2043.0</td>\n",
              "      <td>2475.0</td>\n",
              "      <td>1.0</td>\n",
              "      <td>LONG</td>\n",
              "      <td>16.0</td>\n",
              "      <td>20.0</td>\n",
              "    </tr>\n",
              "    <tr>\n",
              "      <th>1</th>\n",
              "      <td>2019-03-02</td>\n",
              "      <td>1744.0</td>\n",
              "      <td>2030.0</td>\n",
              "      <td>2174.0</td>\n",
              "      <td>1.0</td>\n",
              "      <td>MEDIUM</td>\n",
              "      <td>17.0</td>\n",
              "      <td>20.0</td>\n",
              "    </tr>\n",
              "    <tr>\n",
              "      <th>2</th>\n",
              "      <td>2019-03-02</td>\n",
              "      <td>1705.0</td>\n",
              "      <td>1941.0</td>\n",
              "      <td>599.0</td>\n",
              "      <td>1.0</td>\n",
              "      <td>SHORT</td>\n",
              "      <td>17.0</td>\n",
              "      <td>19.0</td>\n",
              "    </tr>\n",
              "    <tr>\n",
              "      <th>3</th>\n",
              "      <td>2019-03-02</td>\n",
              "      <td>1151.0</td>\n",
              "      <td>1349.0</td>\n",
              "      <td>632.0</td>\n",
              "      <td>1.0</td>\n",
              "      <td>SHORT</td>\n",
              "      <td>11.0</td>\n",
              "      <td>13.0</td>\n",
              "    </tr>\n",
              "    <tr>\n",
              "      <th>4</th>\n",
              "      <td>2019-03-02</td>\n",
              "      <td>1443.0</td>\n",
              "      <td>1650.0</td>\n",
              "      <td>632.0</td>\n",
              "      <td>1.0</td>\n",
              "      <td>SHORT</td>\n",
              "      <td>14.0</td>\n",
              "      <td>16.0</td>\n",
              "    </tr>\n",
              "  </tbody>\n",
              "</table>\n",
              "</div>"
            ],
            "text/plain": [
              "      fl_date  dep_time  arr_time  ...  flight_length  dep_hours arr_hours\n",
              "0  2019-03-02    1615.0    2043.0  ...           LONG       16.0      20.0\n",
              "1  2019-03-02    1744.0    2030.0  ...         MEDIUM       17.0      20.0\n",
              "2  2019-03-02    1705.0    1941.0  ...          SHORT       17.0      19.0\n",
              "3  2019-03-02    1151.0    1349.0  ...          SHORT       11.0      13.0\n",
              "4  2019-03-02    1443.0    1650.0  ...          SHORT       14.0      16.0\n",
              "\n",
              "[5 rows x 8 columns]"
            ]
          },
          "metadata": {},
          "execution_count": 8
        }
      ]
    },
    {
      "cell_type": "code",
      "metadata": {
        "colab": {
          "base_uri": "https://localhost:8080/",
          "height": 203
        },
        "id": "_CK-lMWsLL8y",
        "outputId": "7cb4c108-2e04-4a60-eb9e-bf31ae4b74d5"
      },
      "source": [
        "flight_dep = flights[['flight_length','dep_hours','flights']].groupby(['flight_length','dep_hours']).count().sort_values(by ='flights', ascending = False).reset_index()\n",
        "flight_dep = flight_dep.rename(columns = {'flights':'flights_dep'})                         \n",
        "flight_arr =  flights[['flight_length','arr_hours','flights']].groupby(['flight_length','arr_hours']).count().sort_values(by ='flights', ascending = False).reset_index()\n",
        "flight_arr = flight_arr.rename(columns = {'flights':'flights_arr'})\n",
        "df_flights = pd.concat([flight_dep,flight_arr])\n",
        "flight_dep.head()"
      ],
      "execution_count": 67,
      "outputs": [
        {
          "output_type": "execute_result",
          "data": {
            "text/html": [
              "<div>\n",
              "<style scoped>\n",
              "    .dataframe tbody tr th:only-of-type {\n",
              "        vertical-align: middle;\n",
              "    }\n",
              "\n",
              "    .dataframe tbody tr th {\n",
              "        vertical-align: top;\n",
              "    }\n",
              "\n",
              "    .dataframe thead th {\n",
              "        text-align: right;\n",
              "    }\n",
              "</style>\n",
              "<table border=\"1\" class=\"dataframe\">\n",
              "  <thead>\n",
              "    <tr style=\"text-align: right;\">\n",
              "      <th></th>\n",
              "      <th>flight_length</th>\n",
              "      <th>dep_hours</th>\n",
              "      <th>flights_dep</th>\n",
              "    </tr>\n",
              "  </thead>\n",
              "  <tbody>\n",
              "    <tr>\n",
              "      <th>0</th>\n",
              "      <td>SHORT</td>\n",
              "      <td>17.0</td>\n",
              "      <td>632056</td>\n",
              "    </tr>\n",
              "    <tr>\n",
              "      <th>1</th>\n",
              "      <td>SHORT</td>\n",
              "      <td>12.0</td>\n",
              "      <td>612764</td>\n",
              "    </tr>\n",
              "    <tr>\n",
              "      <th>2</th>\n",
              "      <td>SHORT</td>\n",
              "      <td>15.0</td>\n",
              "      <td>599831</td>\n",
              "    </tr>\n",
              "    <tr>\n",
              "      <th>3</th>\n",
              "      <td>SHORT</td>\n",
              "      <td>10.0</td>\n",
              "      <td>594807</td>\n",
              "    </tr>\n",
              "    <tr>\n",
              "      <th>4</th>\n",
              "      <td>SHORT</td>\n",
              "      <td>11.0</td>\n",
              "      <td>590640</td>\n",
              "    </tr>\n",
              "  </tbody>\n",
              "</table>\n",
              "</div>"
            ],
            "text/plain": [
              "  flight_length  dep_hours  flights_dep\n",
              "0         SHORT       17.0       632056\n",
              "1         SHORT       12.0       612764\n",
              "2         SHORT       15.0       599831\n",
              "3         SHORT       10.0       594807\n",
              "4         SHORT       11.0       590640"
            ]
          },
          "metadata": {},
          "execution_count": 67
        }
      ]
    },
    {
      "cell_type": "code",
      "metadata": {
        "colab": {
          "base_uri": "https://localhost:8080/",
          "height": 395
        },
        "id": "AY3hM6ltZdAv",
        "outputId": "bacc504d-b74a-49aa-aede-a3fc4281621f"
      },
      "source": [
        "sns.set_theme(style=\"whitegrid\")\n",
        "fig, ax = plt.subplots(figsize=(8, 6))\n",
        "sns.boxplot(data = flights, x = flights['flight_length'], y = flights['arr_hours'])\n",
        "plt.show()"
      ],
      "execution_count": 80,
      "outputs": [
        {
          "output_type": "display_data",
          "data": {
            "image/png": "[encoded data removed]",
            "text/plain": [
              "<Figure size 576x432 with 1 Axes>"
            ]
          },
          "metadata": {}
        }
      ]
    },
    {
      "cell_type": "markdown",
      "metadata": {
        "id": "gCnZe8QDAy11"
      },
      "source": [
        "For this plot RAM is not enough you can try, but I'm not sure"
      ]
    },
    {
      "cell_type": "code",
      "metadata": {
        "id": "16IRmaFa3CJg"
      },
      "source": [
        "trace1 = go.Bar(\n",
        "    x=df_flights['flight_length'], \n",
        "    y=df_flights['dep_hours'],\n",
        "    name = 'Departure hours',\n",
        "    marker=dict(color='Yellow') \n",
        ")\n",
        "\n",
        "trace2 = go.Bar(\n",
        "    x=df_flights['flight_length'],\n",
        "    y=df_flights['arr_hours'],\n",
        "    name='Arrival Hours',\n",
        "    marker=dict(color='Green') \n",
        ")\n",
        "\n",
        "data = [trace1, trace2]\n",
        "\n",
        "layout = go.Layout(\n",
        "    title='Hours when haul flights take off'\n",
        ")\n",
        "\n",
        "fig = go.Figure(data=data, layout=layout)\n",
        "fig.show()"
      ],
      "execution_count": null,
      "outputs": []
    },
    {
      "cell_type": "markdown",
      "metadata": {
        "id": "3RIiF6P-BElV"
      },
      "source": [
        "This plot is working, but looks weird, mb I'll change it\n"
      ]
    },
    {
      "cell_type": "code",
      "metadata": {
        "colab": {
          "base_uri": "https://localhost:8080/",
          "height": 502
        },
        "id": "cFymvUFpA92d",
        "outputId": "038f3308-c378-4ece-b033-deb6f7b51a6d"
      },
      "source": [
        "#hr = dict(dep_hours = flights['dep_hours'], arr_hours = flights['arr_hours'])\n",
        "sns.set_theme(style=\"whitegrid\")\n",
        "fig, ax = plt.subplots(figsize=(10, 8))\n",
        "sns.barplot(data = flights, x = flights['dep_hours'], y = flights['arr_hours'], hue = flights['flight_length'])\n",
        "plt.show()"
      ],
      "execution_count": 15,
      "outputs": [
        {
          "output_type": "display_data",
          "data": {
            "image/png": "[encoded data removed]",
            "text/plain": [
              "<Figure size 720x576 with 1 Axes>"
            ]
          },
          "metadata": {}
        }
      ]
    },
    {
      "cell_type": "code",
      "metadata": {
        "colab": {
          "base_uri": "https://localhost:8080/",
          "height": 286
        },
        "id": "kSB76uMEFJFm",
        "outputId": "603c52a0-c423-483f-ff72-d0e78d4e44a3"
      },
      "source": [
        "sns.set_theme(style=\"whitegrid\")\n",
        "fig, ax = plt.subplots(figsize=(8, 6))\n",
        "sns.barplot(data = flights, x = flights['flight_length'], y = flights['dep_hours'])\n",
        "plt.show()"
      ],
      "execution_count": 13,
      "outputs": [
        {
          "output_type": "display_data",
          "data": {
            "image/png": "[encoded data removed]",
            "text/plain": [
              "<Figure size 432x288 with 1 Axes>"
            ]
          },
          "metadata": {}
        }
      ]
    },
    {
      "cell_type": "code",
      "metadata": {
        "id": "hpVtMftDV1Xq"
      },
      "source": [
        "hr = dict(dep_hours = flight_dep['dep_hours'], arr_hours = flight_arr['arr_hours'])\n",
        "sns.set_theme(style=\"whitegrid\")\n",
        "fig, ax = plt.subplots(figsize=(10, 8))\n",
        "sns.barplot(data = flights, x = flights['flight_length'], y = flights['arr_hours'])\n",
        "plt.show()"
      ],
      "execution_count": null,
      "outputs": []
    },
    {
      "cell_type": "markdown",
      "metadata": {
        "id": "MZJgVVKFHYlW"
      },
      "source": [
        "#### **Task 9**: Find the top 10 the bussiest airports. Does the biggest number of flights mean that the biggest number of passengers went through the particular airport? How much traffic do these 10 airports cover?"
      ]
    },
    {
      "cell_type": "code",
      "metadata": {
        "id": "gKDD-UgRHYlX"
      },
      "source": [
        ""
      ],
      "execution_count": null,
      "outputs": []
    },
    {
      "cell_type": "code",
      "metadata": {
        "id": "l8r791XHHYlX"
      },
      "source": [
        ""
      ],
      "execution_count": null,
      "outputs": []
    },
    {
      "cell_type": "markdown",
      "metadata": {
        "id": "eQlZ6LWTHYlX"
      },
      "source": [
        "#### **Task 10**: Do bigger delays lead to bigger fuel comsumption per passenger? \n",
        "We need to do four things to answer this as accurate as possible:\n",
        "- Find out average monthly delay per air carrier (monthly delay is sum of all delays in 1 month)\n",
        "- Find out distance covered monthly by different air carriers\n",
        "- Find out number of passengers that were carried by different air carriers\n",
        "- Find out total fuel comsumption per air carrier.\n",
        "\n",
        "Use this information to get the average fuel comsumption per passenger per km. Is this higher for the airlines with bigger average delays?"
      ]
    },
    {
      "cell_type": "code",
      "metadata": {
        "id": "knn29bnZHYlX"
      },
      "source": [
        ""
      ],
      "execution_count": null,
      "outputs": []
    },
    {
      "cell_type": "code",
      "metadata": {
        "id": "QTrgAmYuHYlX"
      },
      "source": [
        ""
      ],
      "execution_count": null,
      "outputs": []
    }
  ]
}